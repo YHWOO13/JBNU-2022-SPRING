{
 "cells": [
  {
   "cell_type": "markdown",
   "id": "57ebe222-ee74-424c-afe2-0c4566c496fd",
   "metadata": {},
   "source": [
    "# MNIST 데이터 설명\n",
    "- https://sdc-james.gitbook.io/onebook/4.-and/5.1./5.1.3.-mnist-dataset"
   ]
  },
  {
   "cell_type": "markdown",
   "id": "c89590d6-6067-4471-851e-d06410a4dca0",
   "metadata": {},
   "source": [
    "# 이미지 픽셀화 및 CNN학습\n",
    "- https://rdmkyg.blogspot.com/2021/06/cnn-cat-and-dog-dataset.html\n",
    "- https://wikidocs.net/61073"
   ]
  },
  {
   "cell_type": "code",
   "execution_count": 1,
   "id": "ace76cf3-1bbd-4a0b-9d76-b01a26f2c215",
   "metadata": {},
   "outputs": [],
   "source": [
    "import os\n",
    "import json\n",
    "import numpy as np\n",
    "from PIL import Image\n",
    "import matplotlib.pylab as plt\n",
    "import cv2\n",
    "import glob\n",
    "import torch"
   ]
  },
  {
   "cell_type": "code",
   "execution_count": 2,
   "id": "5d30645c-80b1-46e5-9c16-28886fc3bdd1",
   "metadata": {},
   "outputs": [],
   "source": [
    "import transformers"
   ]
  },
  {
   "cell_type": "code",
   "execution_count": 3,
   "id": "0fa563d0-7ba1-48c6-a652-6b0b5b0dedd3",
   "metadata": {},
   "outputs": [],
   "source": [
    "# one-hot encoding: 60개"
   ]
  },
  {
   "cell_type": "code",
   "execution_count": 4,
   "id": "e286c487-4e8e-40e9-b240-aeb6c6d67025",
   "metadata": {},
   "outputs": [],
   "source": [
    "image_PATH_dir = 'D:\\\\DOWNLOAD\\\\2020-02-068.농산물품질_sample\\\\원천데이터'\n",
    "label_PATH_dir = 'D:\\\\DOWNLOAD\\\\2020-02-068.농산물품질_sample\\\\라벨링 데이터'"
   ]
  },
  {
   "cell_type": "code",
   "execution_count": 5,
   "id": "d223c196-c1ab-4ce6-ad0d-c300e80a0d5e",
   "metadata": {},
   "outputs": [],
   "source": [
    "image_data = glob.glob(image_PATH_dir+'\\\\*.png')\n",
    "label_data = glob.glob(label_PATH_dir+'\\\\*.json')"
   ]
  },
  {
   "cell_type": "code",
   "execution_count": 6,
   "id": "42831f99-1dda-4fc1-a809-4a916ddb718c",
   "metadata": {},
   "outputs": [
    {
     "name": "stdout",
     "output_type": "stream",
     "text": [
      "['D:\\\\DOWNLOAD\\\\2020-02-068.농산물품질_sample\\\\원천데이터\\\\apple_fuji_L_1-11_1TOP.png', 'D:\\\\DOWNLOAD\\\\2020-02-068.농산물품질_sample\\\\원천데이터\\\\apple_fuji_L_1-12_2FR45.png', 'D:\\\\DOWNLOAD\\\\2020-02-068.농산물품질_sample\\\\원천데이터\\\\apple_fuji_L_1-13_3FR90.png', 'D:\\\\DOWNLOAD\\\\2020-02-068.농산물품질_sample\\\\원천데이터\\\\apple_fuji_L_1-14_4DI45.png']\n",
      "['D:\\\\DOWNLOAD\\\\2020-02-068.농산물품질_sample\\\\라벨링 데이터\\\\apple_fuji_L_1-11_1TOP.json', 'D:\\\\DOWNLOAD\\\\2020-02-068.농산물품질_sample\\\\라벨링 데이터\\\\apple_fuji_L_1-12_2FR45.json', 'D:\\\\DOWNLOAD\\\\2020-02-068.농산물품질_sample\\\\라벨링 데이터\\\\apple_fuji_L_1-13_3FR90.json', 'D:\\\\DOWNLOAD\\\\2020-02-068.농산물품질_sample\\\\라벨링 데이터\\\\apple_fuji_L_1-14_4DI45.json']\n"
     ]
    }
   ],
   "source": [
    "print(image_data[1:5])\n",
    "print(label_data[1:5])"
   ]
  },
  {
   "cell_type": "markdown",
   "id": "7773ba1d-8202-4e58-b9d3-b0544e6c6374",
   "metadata": {},
   "source": [
    "# labelling"
   ]
  },
  {
   "cell_type": "code",
   "execution_count": 7,
   "id": "2e265ba5-0291-4b8f-a1af-bd0440ad2173",
   "metadata": {},
   "outputs": [
    {
     "name": "stdout",
     "output_type": "stream",
     "text": [
      "chinese-cabbage_M_1-4_4DI45\n",
      "['chinese-cabbage', 'M', '1-4', '4DI45']\n",
      "chinese-cabbage_M\n"
     ]
    }
   ],
   "source": [
    "labelling = []\n",
    "\n",
    "# a = image_data[0]\n",
    "a = 'D:\\\\DOWNLOAD\\\\2020-02-068.농산물품질_sample\\\\라벨링 데이터\\\\chinese-cabbage_M_1-4_4DI45'\n",
    "a = a.split('\\\\')[4]\n",
    "print(a)\n",
    "\n",
    "a = a.split('_')\n",
    "print(a)\n",
    "\n",
    "a = a[0] + '_' + a[1] \n",
    "print(a)"
   ]
  },
  {
   "cell_type": "code",
   "execution_count": 8,
   "id": "2232708f-a75b-44e5-b021-512fa720e4a2",
   "metadata": {},
   "outputs": [],
   "source": [
    "labelling = []\n",
    "for i in label_data:\n",
    "    label = i\n",
    "    label = label.split('\\\\')[4]\n",
    "    label = label.split('_')\n",
    "    if label[0] == 'chinese-cabbage':\n",
    "        label = label[0] + '_' + label[1]\n",
    "        labelling.append(label)\n",
    "    else:\n",
    "        label = label[0] + '_' + label[1] + '_' + label[2]\n",
    "        labelling.append(label)"
   ]
  },
  {
   "cell_type": "code",
   "execution_count": 9,
   "id": "19fe9868-b904-4219-802a-aeef544b7a6a",
   "metadata": {},
   "outputs": [
    {
     "name": "stdout",
     "output_type": "stream",
     "text": [
      "2380\n",
      "['apple_fuji_L', 'apple_fuji_L', 'apple_fuji_L', 'apple_fuji_L', 'apple_fuji_L', 'apple_fuji_L', 'apple_fuji_L', 'apple_fuji_L', 'apple_fuji_L', 'apple_fuji_L', 'apple_fuji_L', 'apple_fuji_L', 'apple_fuji_L', 'apple_fuji_L', 'apple_fuji_L', 'apple_fuji_L', 'apple_fuji_L', 'apple_fuji_L', 'apple_fuji_L', 'apple_fuji_L', 'apple_fuji_L']\n"
     ]
    }
   ],
   "source": [
    "k = sorted(labelling)\n",
    "print(len(k))\n",
    "print(k[0:21])"
   ]
  },
  {
   "cell_type": "code",
   "execution_count": 10,
   "id": "7515e657-507d-4211-a7f8-a459cb385d8a",
   "metadata": {},
   "outputs": [
    {
     "name": "stdout",
     "output_type": "stream",
     "text": [
      "['apple_fuji_L', 'apple_fuji_M', 'apple_fuji_S', 'apple_yanggwang_L', 'apple_yanggwang_M', 'apple_yanggwang_S', 'cabbage_green_L', 'cabbage_green_M', 'cabbage_green_S', 'cabbage_red_L', 'cabbage_red_M', 'cabbage_red_S', 'chinese-cabbage_L', 'chinese-cabbage_M', 'chinese-cabbage_S', 'garlic_uiseong_L', 'garlic_uiseong_M', 'garlic_uiseong_S', 'mandarin_hallabong_L', 'mandarine_hallabong_M', 'mandarine_hallabong_S', 'mandarine_onjumilgam_L', 'mandarine_onjumilgam_M', 'mandarine_onjumilgam_S', 'onion_red_L', 'onion_red_M', 'onion_red_S', 'onion_white_L', 'onion_white_M', 'onion_white_S', 'pear_chuhwang_L', 'pear_chuhwang_M', 'pear_chuhwang_S', 'pear_singo_L', 'pear_singo_M', 'pear_singo_S', 'persimmon_bansi_L', 'persimmon_bansi_M', 'persimmon_bansi_S', 'persimmon_booyu_L', 'persimmon_booyu_M', 'persimmon_booyu_S', 'persimmon_daebong_L', 'persimmon_daebong_M', 'persimmon_daebong_S', 'potato_seolbong_L', 'potato_seolbong_M', 'potato_seolbong_S', 'potato_sumi_L', 'potato_sumi_M', 'potato_sumi_S', 'radish_winter-radish_L', 'radish_winter-radish_S', 'radish_winter-radish_m']\n",
      "54\n"
     ]
    }
   ],
   "source": [
    "l = sorted(set(labelling))\n",
    "print(l)\n",
    "print(len(l))"
   ]
  },
  {
   "cell_type": "code",
   "execution_count": 11,
   "id": "7d2f5042-2352-4ab6-a12c-44901baf96f9",
   "metadata": {},
   "outputs": [],
   "source": [
    "labelling = np.array(labelling)"
   ]
  },
  {
   "cell_type": "code",
   "execution_count": 12,
   "id": "01b10820-83a6-4df6-97ac-3da47bcbf647",
   "metadata": {
    "tags": []
   },
   "outputs": [
    {
     "data": {
      "text/plain": [
       "['apple', 'fuji', 'l']"
      ]
     },
     "execution_count": 12,
     "metadata": {},
     "output_type": "execute_result"
    }
   ],
   "source": [
    "from tensorflow.keras.preprocessing.text import text_to_word_sequence\n",
    "text_to_word_sequence(labelling[0])"
   ]
  },
  {
   "cell_type": "code",
   "execution_count": 13,
   "id": "81d51348-164a-4c6b-81a9-110df962b46e",
   "metadata": {},
   "outputs": [],
   "source": [
    "from sklearn.preprocessing import LabelEncoder\n",
    "from sklearn.preprocessing import OneHotEncoder"
   ]
  },
  {
   "cell_type": "code",
   "execution_count": 14,
   "id": "973679d2-728c-44db-9e5f-dce5001b4314",
   "metadata": {},
   "outputs": [
    {
     "name": "stdout",
     "output_type": "stream",
     "text": [
      "{0, 1, 2, 3, 4, 5, 6, 7, 8, 9, 10, 11, 12, 13, 14, 15, 16, 17, 18, 19, 20, 21, 22, 23, 24, 25, 26, 27, 28, 29, 30, 31, 32, 33, 34, 35, 36, 37, 38, 39, 40, 41, 42, 43, 44, 45, 46, 47, 48, 49, 50, 51, 52, 53}\n",
      "원-핫 인코딩 데이터\n",
      "[[1. 0. 0. ... 0. 0. 0.]\n",
      " [1. 0. 0. ... 0. 0. 0.]\n",
      " [1. 0. 0. ... 0. 0. 0.]\n",
      " ...\n",
      " [0. 0. 0. ... 0. 1. 0.]\n",
      " [0. 0. 0. ... 0. 1. 0.]\n",
      " [0. 0. 0. ... 0. 1. 0.]]\n",
      "원-핫 인코딩 데이터 차원\n",
      "(2380, 54)\n"
     ]
    }
   ],
   "source": [
    "# 레이블 인코딩\n",
    "items = labelling\n",
    "encoder = LabelEncoder()\n",
    "encoder.fit(items)\n",
    "labelling = encoder.transform(items)\n",
    "\n",
    "\n",
    "# 원핫 인코딩\n",
    "labels = encoder.inverse_transform(labelling)\n",
    "labels = labels.reshape(-1,1)\n",
    "o_h_encoder = OneHotEncoder()\n",
    "o_h_encoder.fit(labels)\n",
    "o_h_labels = o_h_encoder.transform(labels)\n",
    "\n",
    "print(set(labelling))\n",
    "print('원-핫 인코딩 데이터')\n",
    "print(o_h_labels.toarray())\n",
    "print('원-핫 인코딩 데이터 차원')\n",
    "print(o_h_labels.shape)"
   ]
  },
  {
   "cell_type": "code",
   "execution_count": 15,
   "id": "d07b9960-76e7-4345-857d-9d1e43f07fa5",
   "metadata": {},
   "outputs": [
    {
     "name": "stdout",
     "output_type": "stream",
     "text": [
      "<class 'scipy.sparse.csr.csr_matrix'>\n"
     ]
    }
   ],
   "source": [
    "print(type(o_h_labels))"
   ]
  },
  {
   "cell_type": "code",
   "execution_count": 16,
   "id": "03d64466-b1e2-4257-aaf2-3a629e6386ee",
   "metadata": {},
   "outputs": [],
   "source": [
    "from scipy.sparse import csr_matrix\n",
    "arr = o_h_labels.toarray()"
   ]
  },
  {
   "cell_type": "code",
   "execution_count": 36,
   "id": "82e57ad2-36e4-4def-b32d-0a808aeadefa",
   "metadata": {},
   "outputs": [
    {
     "name": "stdout",
     "output_type": "stream",
     "text": [
      "(2380, 54)\n",
      "<class 'numpy.ndarray'>\n"
     ]
    }
   ],
   "source": [
    "print(arr.shape)\n",
    "print(type(arr))"
   ]
  },
  {
   "cell_type": "markdown",
   "id": "9bac9619-8245-47c8-863a-fd41ce5e7524",
   "metadata": {},
   "source": [
    "# Transferring Image_to_Data"
   ]
  },
  {
   "cell_type": "code",
   "execution_count": 17,
   "id": "ce52d83b-2639-4e6e-802c-3696444af283",
   "metadata": {},
   "outputs": [],
   "source": [
    "import PIL.Image as pilimg"
   ]
  },
  {
   "cell_type": "code",
   "execution_count": 18,
   "id": "03b6cea1-6ebd-4b1c-83d4-639e8764ad7c",
   "metadata": {},
   "outputs": [],
   "source": [
    "image = []\n",
    "for j in image_data:\n",
    "    # Read image \n",
    "\n",
    "    image1 = Image.open(j)\n",
    "    # plt.imshow(image1)\n",
    "    # plt.show()\n",
    "    imag1_size = image1.size\n",
    "    # print(imag1_size)\n",
    "\n",
    "    # Resize image\n",
    "    image1 = image1.resize((int(imag1_size[0]*(0.064)), int(imag1_size[1]*(0.064))))\n",
    "    imag1_size = image1.size\n",
    "    # plt.imshow(image1)\n",
    "    # plt.show()\n",
    "    # print(imag1_size)\n",
    "    # Fetch image pixel data to numpy array\n",
    "    pix = np.array(image1)\n",
    "    pix = pix / 255\n",
    "#     pix = pix.flatten()\n",
    "\n",
    "    image.append(pix)\n"
   ]
  },
  {
   "cell_type": "code",
   "execution_count": 19,
   "id": "02c593c3-b55c-43a8-a714-f0d75bdd6c2d",
   "metadata": {},
   "outputs": [],
   "source": [
    "image = np.array(image)"
   ]
  },
  {
   "cell_type": "code",
   "execution_count": 20,
   "id": "0c384f5a-e019-432b-bee1-c783bdf0398a",
   "metadata": {},
   "outputs": [
    {
     "name": "stdout",
     "output_type": "stream",
     "text": [
      "<class 'numpy.ndarray'>\n",
      "(2380, 64, 64, 3)\n"
     ]
    }
   ],
   "source": [
    "print(type(image))\n",
    "print(image.shape) # 64 * 62 == 12288"
   ]
  },
  {
   "cell_type": "code",
   "execution_count": 21,
   "id": "02ac59d7-2990-44ea-aebf-8f83bbafbadf",
   "metadata": {},
   "outputs": [],
   "source": [
    "image = image.reshape(2380,12288)"
   ]
  },
  {
   "cell_type": "code",
   "execution_count": 22,
   "id": "0ef49e1e-501a-44bd-bbf6-5bf1b413bc9f",
   "metadata": {},
   "outputs": [
    {
     "name": "stdout",
     "output_type": "stream",
     "text": [
      "<class 'numpy.ndarray'>\n",
      "<class 'numpy.ndarray'>\n"
     ]
    }
   ],
   "source": [
    "print(type(image))\n",
    "print(type(labelling))"
   ]
  },
  {
   "cell_type": "markdown",
   "id": "2aa4030d-ca6e-45a3-afe6-98c5af5aa61c",
   "metadata": {},
   "source": [
    "# Data Dividing"
   ]
  },
  {
   "cell_type": "code",
   "execution_count": 23,
   "id": "c4097e9c-921f-448d-b779-d667f0c799b8",
   "metadata": {},
   "outputs": [],
   "source": [
    "from sklearn.model_selection import train_test_split\n",
    "X_train, X_test, y_train, y_test = train_test_split(image, arr, test_size = 1/7, random_state = 0)"
   ]
  },
  {
   "cell_type": "code",
   "execution_count": 24,
   "id": "f6b2a267-8e0d-4d6d-82ab-c35c24d3bb80",
   "metadata": {},
   "outputs": [
    {
     "name": "stdout",
     "output_type": "stream",
     "text": [
      "<class 'numpy.ndarray'>\n",
      "(2040, 12288)\n"
     ]
    }
   ],
   "source": [
    "print(type(X_train))\n",
    "print(X_train.shape)"
   ]
  },
  {
   "cell_type": "code",
   "execution_count": 25,
   "id": "c9860b92-4472-4e46-b1f4-48d4d5b579a9",
   "metadata": {},
   "outputs": [
    {
     "name": "stdout",
     "output_type": "stream",
     "text": [
      "<class 'numpy.ndarray'>\n",
      "(340, 12288)\n"
     ]
    }
   ],
   "source": [
    "print(type(X_test))\n",
    "print(X_test.shape)"
   ]
  },
  {
   "cell_type": "code",
   "execution_count": 26,
   "id": "56596507-9edb-49f4-b5af-b55abfedb00d",
   "metadata": {},
   "outputs": [
    {
     "name": "stdout",
     "output_type": "stream",
     "text": [
      "<class 'numpy.ndarray'>\n",
      "(2040, 54)\n"
     ]
    }
   ],
   "source": [
    "print(type(y_train))\n",
    "print(y_train.shape)"
   ]
  },
  {
   "cell_type": "code",
   "execution_count": 27,
   "id": "eb453153-62be-479e-8e09-e5fdb5c704ca",
   "metadata": {},
   "outputs": [
    {
     "name": "stdout",
     "output_type": "stream",
     "text": [
      "<class 'numpy.ndarray'>\n"
     ]
    }
   ],
   "source": [
    "print(type(arr))"
   ]
  },
  {
   "cell_type": "markdown",
   "id": "229fda7b-9d2f-4450-977e-b19740cb14c7",
   "metadata": {},
   "source": [
    "# My Style"
   ]
  },
  {
   "cell_type": "code",
   "execution_count": 28,
   "id": "78ef6990-0735-4a59-839a-0098f6e2aad4",
   "metadata": {},
   "outputs": [],
   "source": [
    "class Layer():\n",
    "    def __init__(self,input_size,output_size):\n",
    "        \n",
    "        self.w = np. random.randn(input_size,output_size)\n",
    "        self.b = np.zeros(output_size)\n",
    "        self.dydw = None\n",
    "        self.dydb = 1 \n",
    "        \n",
    "    def forward(self,X):\n",
    "        self.dydw = X.T\n",
    "        affine = np.dot(X,self.w) + self.b\n",
    "        \n",
    "        return affine\n",
    "    \n",
    "    def backward(self,dLdy,lr):\n",
    "        dLdw = np.dot(self.dydw,dLdy)\n",
    "        dLdb = np.sum(np.dot(dLdy, self.dydb),axis=0)\n",
    "        \n",
    "        dLdx = np.dot(dLdy,np.transpose(self.w))\n",
    "       \n",
    "        self.w -= lr * dLdw\n",
    "        \n",
    "        self.b -= lr * dLdb\n",
    "        \n",
    "        return dLdx\n",
    "        "
   ]
  },
  {
   "cell_type": "code",
   "execution_count": 29,
   "id": "454b81bc-cf1e-431b-b8f1-c95922c7e936",
   "metadata": {},
   "outputs": [],
   "source": [
    "class Relu():\n",
    "    def __init__(self):\n",
    "        self.mask = None\n",
    "        \n",
    "    def forward(self,x):\n",
    "        self.mask = (x <= 0)\n",
    "        out = x.copy()\n",
    "        out[self.mask] = 0\n",
    "        \n",
    "        return out\n",
    "    \n",
    "    def backward(self, dout):\n",
    "#         print('dout',dout.shape)\n",
    "#         print('mask',self.mask.shape)\n",
    "        dout[self.mask]= 0\n",
    "        #dout * np.where(self.mask==True,1,0)\n",
    "        return dout * np.where(self.mask == True,1,0)"
   ]
  },
  {
   "cell_type": "code",
   "execution_count": 30,
   "id": "357226e4-2f08-435f-8236-8b822baf82db",
   "metadata": {},
   "outputs": [],
   "source": [
    "class Model():\n",
    "    def __init__(self):\n",
    "        self.layers = []\n",
    "        #layer 설정\n",
    "        self.layer = [12288]\n",
    "        L = int(input('Number of Hidden_Layer: '))\n",
    "        for i in range(L):\n",
    "            d = int(input('Dimension:'))\n",
    "            self.layer.append(d)    \n",
    "        self.length = len(self.layer)\n",
    "       \n",
    "        for i in range(self.length-1):\n",
    "            self.layers.append(Layer(self.layer[i],self.layer[i+1]))\n",
    "            self.layers.append(Relu())\n",
    "        self.layers.append(Layer(self.layer[-1],54))\n",
    "    \n",
    "    def forward(self,put):\n",
    "        output = self.layers[0].forward(put)\n",
    "        for i in range(1,len(self.layers)):            \n",
    "            output = self.layers[i].forward(output)\n",
    "        return output\n",
    "    \n",
    "    def backward(self, dld_, lr):\n",
    "        for i in range(self.length-1,0,-1):\n",
    "            dld_ = self.layers[i*2].backward(dld_, lr)\n",
    "            dld_ = self.layers[i*2-1].backward(dld_)\n",
    "        dld_ = self.layers[0].backward(dld_,lr)\n",
    "\n",
    "        return dld_"
   ]
  },
  {
   "cell_type": "code",
   "execution_count": 31,
   "id": "33c9bc71-846c-458f-83d5-cc799356b636",
   "metadata": {},
   "outputs": [],
   "source": [
    "class SoftmaxwithLoss:\n",
    "    def __init__(self):\n",
    "        self.loss = None\n",
    "        self.y = None\n",
    "        self.t = None\n",
    "        \n",
    "    def softmax(self,a):\n",
    "        c = np.max(a,axis=-1,keepdims=True)\n",
    "        exp_a = np.exp(a-c)\n",
    "        sum_exp_a = np.sum(exp_a,axis=-1,keepdims=True)\n",
    "        y = exp_a / sum_exp_a\n",
    "        \n",
    "        return y\n",
    "    \n",
    "    def cross_entropy_error(self,y,t):\n",
    "        delta = 1e-13\n",
    "        return -np.sum(t * np.log(y + delta)) / y.shape[0]\n",
    "    \n",
    "    def forward(self,x,t):\n",
    "        self.t = t\n",
    "        self.y = self.softmax(x)\n",
    "        self.loss = self.cross_entropy_error(self.y, self.t)\n",
    "        return self.loss\n",
    "    \n",
    "    def backward(self, dout=1):\n",
    "        batch_size = self.t.shape[0]\n",
    "        dx = (self.y - self.t) / batch_size\n",
    "        \n",
    "        return dx"
   ]
  },
  {
   "cell_type": "code",
   "execution_count": 32,
   "id": "b0fd4e45-77b8-4b53-994b-ab7f2c709b3b",
   "metadata": {},
   "outputs": [],
   "source": [
    "def accuracy(pred, target):\n",
    "    pred = np.argmax(pred, axis=1)\n",
    "    if target.ndim != 1 :\n",
    "        target = np.argmax(target,axis=1)\n",
    "        \n",
    "    accuracy = np.sum(pred == target) / float(pred.shape[0])\n",
    "    \n",
    "    return accuracy\n",
    "\n",
    "def learning(model,loss_func,X,y, minibatch_size, epoch_size, learning_rate):\n",
    "    acc_list = []\n",
    "    \n",
    "    for e in range(1,epoch_size+1):\n",
    "        \n",
    "        combined = list(zip(X, y))\n",
    "        permut = np.random.permutation(combined)\n",
    "        X[:], y[:] = zip(*permut)\n",
    "        \n",
    "        number_minibatch = X.shape[0] // minibatch_size\n",
    "                \n",
    "        for n in range(1, number_minibatch + 1):\n",
    "\n",
    "            X_temp = X[minibatch_size * (n-1):minibatch_size*n]\n",
    "            y_temp = y[minibatch_size * (n-1):minibatch_size*n]\n",
    "            \n",
    "            c = model.forward(X_temp)\n",
    "            J = loss_func.forward(c,y_temp)\n",
    "        \n",
    "            dJdh = loss_func.backward()\n",
    "            model.backward(dJdh,learning_rate)\n",
    "\n",
    " \n",
    "        c = model.forward(X)\n",
    "        J = loss_func.forward(c,y)\n",
    "\n",
    "\n",
    "        acc = accuracy(c, y)\n",
    "\n",
    "        acc_list.append(acc)\n",
    "        if e % iter_per_epoch == 0:\n",
    "             print('*************',e,'th epoch *************')\n",
    "    #             print('최종')\n",
    "    #             print(J)\n",
    "             print('정확도')\n",
    "             print(acc)\n",
    "        \n",
    "    return acc_list"
   ]
  },
  {
   "cell_type": "code",
   "execution_count": 33,
   "id": "70ea46e8-c8fe-4072-b284-2d05cc90c8a1",
   "metadata": {},
   "outputs": [
    {
     "name": "stdout",
     "output_type": "stream",
     "text": [
      "<class 'numpy.ndarray'>\n",
      "<class 'scipy.sparse.csr.csr_matrix'>\n"
     ]
    }
   ],
   "source": [
    "print(type(image))\n",
    "print(type(o_h_labels))"
   ]
  },
  {
   "cell_type": "code",
   "execution_count": null,
   "id": "b33632c1-fcd0-44dd-92d4-f095db870a1d",
   "metadata": {},
   "outputs": [],
   "source": [
    "model2 = Model()\n",
    "swl2 = SoftmaxwithLoss()\n",
    "\n",
    "minibatch_size = 10\n",
    "iter_per_epoch = 10\n",
    "\n",
    "\n",
    "epoch_size = int(input('Epeoch_size:'))\n",
    "train_result2 = learning(model2, swl2, X_train, y_train, minibatch_size, epoch_size, 0.0001)\n",
    "test_result2 = learning(model2, swl2, X_test, y_test, minibatch_size, epoch_size, 0.0001)\n",
    "layer2 = [np.max(train_result2),np.max(test_result2)]\n",
    "# learning(model2, swl2, image, arr, minibatch_size, epoch_size, 0.0001)"
   ]
  },
  {
   "cell_type": "code",
   "execution_count": 95,
   "id": "958f6ed2-b896-43be-b4d4-5833f207a3a3",
   "metadata": {},
   "outputs": [
    {
     "data": {
      "image/png": "[encoded data removed]",
      "text/plain": [
       "<Figure size 432x288 with 1 Axes>"
      ]
     },
     "metadata": {
      "needs_background": "light"
     },
     "output_type": "display_data"
    }
   ],
   "source": [
    "markers = {'train': 'o', 'test': 's'}\n",
    "x = np.arange(epoch_size)\n",
    "plt.plot(x, train_result2, label='train acc')\n",
    "plt.plot(x, test_result2, label='test acc', linestyle='--')\n",
    "plt.xlabel(\"epochs\")\n",
    "plt.ylabel(\"accuracy\")\n",
    "plt.ylim(0, 1.0)\n",
    "plt.legend(loc='lower right')\n",
    "plt.show()"
   ]
  },
  {
   "cell_type": "code",
   "execution_count": 40,
   "id": "9aa42022-ee1e-4d21-a9d4-3e81ad83d5a2",
   "metadata": {},
   "outputs": [
    {
     "name": "stdin",
     "output_type": "stream",
     "text": [
      "Number of Hidden_Layer:  3\n",
      "Dimension: 100\n",
      "Dimension: 50\n",
      "Dimension: 25\n",
      "Epeoch_size: 40\n"
     ]
    },
    {
     "name": "stderr",
     "output_type": "stream",
     "text": [
      "C:\\Users\\LG\\anaconda3\\lib\\site-packages\\numpy\\core\\_asarray.py:102: VisibleDeprecationWarning: Creating an ndarray from ragged nested sequences (which is a list-or-tuple of lists-or-tuples-or ndarrays with different lengths or shapes) is deprecated. If you meant to do this, you must specify 'dtype=object' when creating the ndarray.\n",
      "  return array(a, dtype, copy=False, order=order)\n"
     ]
    },
    {
     "name": "stdout",
     "output_type": "stream",
     "text": [
      "************* 20 th epoch *************\n",
      "정확도\n",
      "0.7974789915966387\n",
      "************* 40 th epoch *************\n",
      "정확도\n",
      "1.0\n"
     ]
    },
    {
     "ename": "KeyboardInterrupt",
     "evalue": "",
     "output_type": "error",
     "traceback": [
      "\u001b[1;31m---------------------------------------------------------------------------\u001b[0m",
      "\u001b[1;31mKeyboardInterrupt\u001b[0m                         Traceback (most recent call last)",
      "\u001b[1;32m<ipython-input-40-316ac902985c>\u001b[0m in \u001b[0;36m<module>\u001b[1;34m\u001b[0m\n\u001b[0;32m      8\u001b[0m \u001b[0mepoch_size\u001b[0m \u001b[1;33m=\u001b[0m \u001b[0mint\u001b[0m\u001b[1;33m(\u001b[0m\u001b[0minput\u001b[0m\u001b[1;33m(\u001b[0m\u001b[1;34m'Epeoch_size:'\u001b[0m\u001b[1;33m)\u001b[0m\u001b[1;33m)\u001b[0m\u001b[1;33m\u001b[0m\u001b[1;33m\u001b[0m\u001b[0m\n\u001b[0;32m      9\u001b[0m \u001b[0mtrain_result3\u001b[0m \u001b[1;33m=\u001b[0m \u001b[0mlearning\u001b[0m\u001b[1;33m(\u001b[0m\u001b[0mmodel3\u001b[0m\u001b[1;33m,\u001b[0m \u001b[0mswl3\u001b[0m\u001b[1;33m,\u001b[0m \u001b[0mimage\u001b[0m\u001b[1;33m,\u001b[0m \u001b[0marr\u001b[0m\u001b[1;33m,\u001b[0m \u001b[0mminibatch_size\u001b[0m\u001b[1;33m,\u001b[0m \u001b[0mepoch_size\u001b[0m\u001b[1;33m,\u001b[0m \u001b[1;36m0.0001\u001b[0m\u001b[1;33m)\u001b[0m\u001b[1;33m\u001b[0m\u001b[1;33m\u001b[0m\u001b[0m\n\u001b[1;32m---> 10\u001b[1;33m \u001b[0mtest_result3\u001b[0m \u001b[1;33m=\u001b[0m \u001b[0mlearning\u001b[0m\u001b[1;33m(\u001b[0m\u001b[0mmodel3\u001b[0m\u001b[1;33m,\u001b[0m \u001b[0mswl3\u001b[0m\u001b[1;33m,\u001b[0m \u001b[0mimage\u001b[0m\u001b[1;33m,\u001b[0m \u001b[0marr\u001b[0m\u001b[1;33m,\u001b[0m \u001b[0mminibatch_size\u001b[0m\u001b[1;33m,\u001b[0m \u001b[0mepoch_size\u001b[0m\u001b[1;33m,\u001b[0m \u001b[1;36m0.0001\u001b[0m\u001b[1;33m)\u001b[0m\u001b[1;33m\u001b[0m\u001b[1;33m\u001b[0m\u001b[0m\n\u001b[0m\u001b[0;32m     11\u001b[0m \u001b[0mlayer3\u001b[0m \u001b[1;33m=\u001b[0m \u001b[1;33m[\u001b[0m\u001b[0mnp\u001b[0m\u001b[1;33m.\u001b[0m\u001b[0mmax\u001b[0m\u001b[1;33m(\u001b[0m\u001b[0mtrain_result3\u001b[0m\u001b[1;33m)\u001b[0m\u001b[1;33m,\u001b[0m\u001b[0mnp\u001b[0m\u001b[1;33m.\u001b[0m\u001b[0mmax\u001b[0m\u001b[1;33m(\u001b[0m\u001b[0mtest_result3\u001b[0m\u001b[1;33m)\u001b[0m\u001b[1;33m]\u001b[0m\u001b[1;33m\u001b[0m\u001b[1;33m\u001b[0m\u001b[0m\n\u001b[0;32m     12\u001b[0m \u001b[1;31m# learning(model2, swl2, image, arr, minibatch_size, epoch_size, 0.0001)\u001b[0m\u001b[1;33m\u001b[0m\u001b[1;33m\u001b[0m\u001b[1;33m\u001b[0m\u001b[0m\n",
      "\u001b[1;32m<ipython-input-30-46fc27cf0dcd>\u001b[0m in \u001b[0;36mlearning\u001b[1;34m(model, loss_func, X, y, minibatch_size, epoch_size, learning_rate)\u001b[0m\n\u001b[0;32m     28\u001b[0m \u001b[1;33m\u001b[0m\u001b[0m\n\u001b[0;32m     29\u001b[0m             \u001b[0mdJdh\u001b[0m \u001b[1;33m=\u001b[0m \u001b[0mloss_func\u001b[0m\u001b[1;33m.\u001b[0m\u001b[0mbackward\u001b[0m\u001b[1;33m(\u001b[0m\u001b[1;33m)\u001b[0m\u001b[1;33m\u001b[0m\u001b[1;33m\u001b[0m\u001b[0m\n\u001b[1;32m---> 30\u001b[1;33m             \u001b[0mmodel\u001b[0m\u001b[1;33m.\u001b[0m\u001b[0mbackward\u001b[0m\u001b[1;33m(\u001b[0m\u001b[0mdJdh\u001b[0m\u001b[1;33m,\u001b[0m\u001b[0mlearning_rate\u001b[0m\u001b[1;33m)\u001b[0m\u001b[1;33m\u001b[0m\u001b[1;33m\u001b[0m\u001b[0m\n\u001b[0m\u001b[0;32m     31\u001b[0m \u001b[1;33m\u001b[0m\u001b[0m\n\u001b[0;32m     32\u001b[0m \u001b[1;33m\u001b[0m\u001b[0m\n",
      "\u001b[1;32m<ipython-input-28-466cd70a92e4>\u001b[0m in \u001b[0;36mbackward\u001b[1;34m(self, dld_, lr)\u001b[0m\n\u001b[0;32m     25\u001b[0m             \u001b[0mdld_\u001b[0m \u001b[1;33m=\u001b[0m \u001b[0mself\u001b[0m\u001b[1;33m.\u001b[0m\u001b[0mlayers\u001b[0m\u001b[1;33m[\u001b[0m\u001b[0mi\u001b[0m\u001b[1;33m*\u001b[0m\u001b[1;36m2\u001b[0m\u001b[1;33m]\u001b[0m\u001b[1;33m.\u001b[0m\u001b[0mbackward\u001b[0m\u001b[1;33m(\u001b[0m\u001b[0mdld_\u001b[0m\u001b[1;33m,\u001b[0m \u001b[0mlr\u001b[0m\u001b[1;33m)\u001b[0m\u001b[1;33m\u001b[0m\u001b[1;33m\u001b[0m\u001b[0m\n\u001b[0;32m     26\u001b[0m             \u001b[0mdld_\u001b[0m \u001b[1;33m=\u001b[0m \u001b[0mself\u001b[0m\u001b[1;33m.\u001b[0m\u001b[0mlayers\u001b[0m\u001b[1;33m[\u001b[0m\u001b[0mi\u001b[0m\u001b[1;33m*\u001b[0m\u001b[1;36m2\u001b[0m\u001b[1;33m-\u001b[0m\u001b[1;36m1\u001b[0m\u001b[1;33m]\u001b[0m\u001b[1;33m.\u001b[0m\u001b[0mbackward\u001b[0m\u001b[1;33m(\u001b[0m\u001b[0mdld_\u001b[0m\u001b[1;33m)\u001b[0m\u001b[1;33m\u001b[0m\u001b[1;33m\u001b[0m\u001b[0m\n\u001b[1;32m---> 27\u001b[1;33m         \u001b[0mdld_\u001b[0m \u001b[1;33m=\u001b[0m \u001b[0mself\u001b[0m\u001b[1;33m.\u001b[0m\u001b[0mlayers\u001b[0m\u001b[1;33m[\u001b[0m\u001b[1;36m0\u001b[0m\u001b[1;33m]\u001b[0m\u001b[1;33m.\u001b[0m\u001b[0mbackward\u001b[0m\u001b[1;33m(\u001b[0m\u001b[0mdld_\u001b[0m\u001b[1;33m,\u001b[0m\u001b[0mlr\u001b[0m\u001b[1;33m)\u001b[0m\u001b[1;33m\u001b[0m\u001b[1;33m\u001b[0m\u001b[0m\n\u001b[0m\u001b[0;32m     28\u001b[0m \u001b[1;33m\u001b[0m\u001b[0m\n\u001b[0;32m     29\u001b[0m         \u001b[1;32mreturn\u001b[0m \u001b[0mdld_\u001b[0m\u001b[1;33m\u001b[0m\u001b[1;33m\u001b[0m\u001b[0m\n",
      "\u001b[1;32m<ipython-input-26-73c6b447f056>\u001b[0m in \u001b[0;36mbackward\u001b[1;34m(self, dLdy, lr)\u001b[0m\n\u001b[0;32m     19\u001b[0m         \u001b[0mdLdx\u001b[0m \u001b[1;33m=\u001b[0m \u001b[0mnp\u001b[0m\u001b[1;33m.\u001b[0m\u001b[0mdot\u001b[0m\u001b[1;33m(\u001b[0m\u001b[0mdLdy\u001b[0m\u001b[1;33m,\u001b[0m\u001b[0mnp\u001b[0m\u001b[1;33m.\u001b[0m\u001b[0mtranspose\u001b[0m\u001b[1;33m(\u001b[0m\u001b[0mself\u001b[0m\u001b[1;33m.\u001b[0m\u001b[0mw\u001b[0m\u001b[1;33m)\u001b[0m\u001b[1;33m)\u001b[0m\u001b[1;33m\u001b[0m\u001b[1;33m\u001b[0m\u001b[0m\n\u001b[0;32m     20\u001b[0m \u001b[1;33m\u001b[0m\u001b[0m\n\u001b[1;32m---> 21\u001b[1;33m         \u001b[0mself\u001b[0m\u001b[1;33m.\u001b[0m\u001b[0mw\u001b[0m \u001b[1;33m-=\u001b[0m \u001b[0mlr\u001b[0m \u001b[1;33m*\u001b[0m \u001b[0mdLdw\u001b[0m\u001b[1;33m\u001b[0m\u001b[1;33m\u001b[0m\u001b[0m\n\u001b[0m\u001b[0;32m     22\u001b[0m \u001b[1;33m\u001b[0m\u001b[0m\n\u001b[0;32m     23\u001b[0m         \u001b[0mself\u001b[0m\u001b[1;33m.\u001b[0m\u001b[0mb\u001b[0m \u001b[1;33m-=\u001b[0m \u001b[0mlr\u001b[0m \u001b[1;33m*\u001b[0m \u001b[0mdLdb\u001b[0m\u001b[1;33m\u001b[0m\u001b[1;33m\u001b[0m\u001b[0m\n",
      "\u001b[1;31mKeyboardInterrupt\u001b[0m: "
     ]
    }
   ],
   "source": [
    "model3 = Model()\n",
    "swl3 = SoftmaxwithLoss()\n",
    "\n",
    "minibatch_size = 20\n",
    "iter_per_epoch = 20\n",
    "\n",
    "\n",
    "epoch_size = int(input('Epeoch_size:'))\n",
    "train_result3 = learning(model3, swl3, image, arr, minibatch_size, epoch_size, 0.0001)\n",
    "test_result3 = learning(model3, swl3, image, arr, minibatch_size, epoch_size, 0.0001)\n",
    "layer3 = [np.max(train_result3),np.max(test_result3)]\n",
    "# learning(model2, swl2, image, arr, minibatch_size, epoch_size, 0.0001)"
   ]
  },
  {
   "cell_type": "code",
   "execution_count": null,
   "id": "bdfc7ab6-486f-4daf-9d22-72647d754bdf",
   "metadata": {},
   "outputs": [],
   "source": [
    "markers = {'train': 'o', 'test': 's'}\n",
    "x = np.arange(epoch_size)\n",
    "plt.plot(x, train_result3, label='train acc')\n",
    "plt.plot(x, test_result3, label='test acc', linestyle='--')\n",
    "plt.xlabel(\"epochs\")\n",
    "plt.ylabel(\"accuracy\")\n",
    "plt.ylim(0, 1.0)\n",
    "plt.legend(loc='lower right')\n",
    "plt.show()"
   ]
  }
 ],
 "metadata": {
  "kernelspec": {
   "display_name": "Python 3",
   "language": "python",
   "name": "python3"
  },
  "language_info": {
   "codemirror_mode": {
    "name": "ipython",
    "version": 3
   },
   "file_extension": ".py",
   "mimetype": "text/x-python",
   "name": "python",
   "nbconvert_exporter": "python",
   "pygments_lexer": "ipython3",
   "version": "3.8.8"
  }
 },
 "nbformat": 4,
 "nbformat_minor": 5
}
