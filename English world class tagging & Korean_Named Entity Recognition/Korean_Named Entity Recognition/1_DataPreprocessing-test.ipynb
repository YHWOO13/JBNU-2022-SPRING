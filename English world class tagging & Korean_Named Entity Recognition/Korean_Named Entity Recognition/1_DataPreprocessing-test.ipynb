{
 "cells": [
  {
   "cell_type": "markdown",
   "id": "f2075fee-4fe2-485e-aafd-04f84cea7c09",
   "metadata": {},
   "source": [
    "Inference\\\n",
    "https://wikidocs.net/115055\n",
    "\n",
    "https://huggingface.co/docs/transformers/index\n",
    "\n",
    "http://kkma.snu.ac.kr/documents/index.jsp?doc=postag\n"
   ]
  },
  {
   "cell_type": "markdown",
   "id": "0f05f6e2-28e5-4dc3-9cf7-5df657eca8ad",
   "metadata": {},
   "source": [
    "# Author: Yoonhyuck WOO / JBNU_Industrial Information system Engineering\n",
    "# Date; 2. 10. 2022 - 2. 22. 2022\n",
    "# Title: Korean_NER\n",
    "# Professor: Seung-Hoon Na"
   ]
  },
  {
   "cell_type": "code",
   "execution_count": 1,
   "id": "7fe1e2a7-9c70-4ba1-ae0d-351b644b2e16",
   "metadata": {},
   "outputs": [],
   "source": [
    "import os\n",
    "import pandas as pd\n",
    "import json\n",
    "import transformers\n",
    "from transformers import BertTokenizer\n",
    "# from tqdm.auto import tqdm"
   ]
  },
  {
   "cell_type": "code",
   "execution_count": 2,
   "id": "81d2289c-6d15-4c8a-b211-00c7aa7245e6",
   "metadata": {},
   "outputs": [],
   "source": [
    "PATH_dir = 'C:\\\\Users\\\\LG\\\\Desktop\\\\github\\\\JBNU-2022-SPRING\\\\English world class tagging & Korean_Named Entity Recognition\\\\Ko_En_NER_POStag_data\\Ko_NER_POS'\n",
    "file_name_ko_train = 'train.txt'\n",
    "file_name_ko_test = 'test.txt'\n",
    "file_name_ko_dev = 'dev.txt'"
   ]
  },
  {
   "cell_type": "code",
   "execution_count": 9,
   "id": "1af8695a-cc4d-4307-9771-e2b42fbd7f81",
   "metadata": {},
   "outputs": [],
   "source": [
    "file_name = file_name_ko_test\n",
    "PATH_data = os.path.join(PATH_dir, file_name)\n",
    "\n",
    "# change file extention from '.txt' to '.json'\n",
    "prepro_file_name = 'prepro_' + file_name.rsplit('.')[0] + '.json'\n",
    "PATH_preprodata = os.path.join(PATH_dir, prepro_file_name)"
   ]
  },
  {
   "cell_type": "code",
   "execution_count": 10,
   "id": "0816eb80-f1df-4a82-8649-0dd82daebc35",
   "metadata": {},
   "outputs": [],
   "source": [
    "with open(PATH_data, 'r', encoding='UTF8') as f:\n",
    "    rawdata = f.readlines()"
   ]
  },
  {
   "cell_type": "code",
   "execution_count": 11,
   "id": "578e754a-8842-4fde-8051-79da756712bf",
   "metadata": {
    "tags": []
   },
   "outputs": [
    {
     "data": {
      "text/html": [
       "<div>\n",
       "<style scoped>\n",
       "    .dataframe tbody tr th:only-of-type {\n",
       "        vertical-align: middle;\n",
       "    }\n",
       "\n",
       "    .dataframe tbody tr th {\n",
       "        vertical-align: top;\n",
       "    }\n",
       "\n",
       "    .dataframe thead th {\n",
       "        text-align: right;\n",
       "    }\n",
       "</style>\n",
       "<table border=\"1\" class=\"dataframe\">\n",
       "  <thead>\n",
       "    <tr style=\"text-align: right;\">\n",
       "      <th></th>\n",
       "      <th>0</th>\n",
       "    </tr>\n",
       "  </thead>\n",
       "  <tbody>\n",
       "    <tr>\n",
       "      <th>0</th>\n",
       "      <td>박찬호/NNP\\tNNP\\tB\\tB-PS\\n</td>\n",
       "    </tr>\n",
       "    <tr>\n",
       "      <th>1</th>\n",
       "      <td>는/JX\\tJX\\tI\\tO\\n</td>\n",
       "    </tr>\n",
       "    <tr>\n",
       "      <th>2</th>\n",
       "      <td>8/SN\\tSN\\tB\\tB-DT\\n</td>\n",
       "    </tr>\n",
       "    <tr>\n",
       "      <th>3</th>\n",
       "      <td>일/NNB\\tNNB\\tI\\tI-DT\\n</td>\n",
       "    </tr>\n",
       "    <tr>\n",
       "      <th>4</th>\n",
       "      <td>(/SS\\tSS\\tI\\tO\\n</td>\n",
       "    </tr>\n",
       "    <tr>\n",
       "      <th>...</th>\n",
       "      <td>...</td>\n",
       "    </tr>\n",
       "    <tr>\n",
       "      <th>13768</th>\n",
       "      <td>것/NNB\\tNNB\\tB\\tO\\n</td>\n",
       "    </tr>\n",
       "    <tr>\n",
       "      <th>13769</th>\n",
       "      <td>이/VCP\\tVCP\\tI\\tO\\n</td>\n",
       "    </tr>\n",
       "    <tr>\n",
       "      <th>13770</th>\n",
       "      <td>다/EF\\tEF\\tI\\tO\\n</td>\n",
       "    </tr>\n",
       "    <tr>\n",
       "      <th>13771</th>\n",
       "      <td>./SF\\tSF\\tB\\tO\\n</td>\n",
       "    </tr>\n",
       "    <tr>\n",
       "      <th>13772</th>\n",
       "      <td>\\n</td>\n",
       "    </tr>\n",
       "  </tbody>\n",
       "</table>\n",
       "<p>13773 rows × 1 columns</p>\n",
       "</div>"
      ],
      "text/plain": [
       "                             0\n",
       "0      박찬호/NNP\\tNNP\\tB\\tB-PS\\n\n",
       "1             는/JX\\tJX\\tI\\tO\\n\n",
       "2          8/SN\\tSN\\tB\\tB-DT\\n\n",
       "3        일/NNB\\tNNB\\tI\\tI-DT\\n\n",
       "4             (/SS\\tSS\\tI\\tO\\n\n",
       "...                        ...\n",
       "13768       것/NNB\\tNNB\\tB\\tO\\n\n",
       "13769       이/VCP\\tVCP\\tI\\tO\\n\n",
       "13770         다/EF\\tEF\\tI\\tO\\n\n",
       "13771         ./SF\\tSF\\tB\\tO\\n\n",
       "13772                       \\n\n",
       "\n",
       "[13773 rows x 1 columns]"
      ]
     },
     "execution_count": 11,
     "metadata": {},
     "output_type": "execute_result"
    }
   ],
   "source": [
    "df0 = pd.DataFrame(rawdata)\n",
    "df0"
   ]
  },
  {
   "cell_type": "code",
   "execution_count": 14,
   "id": "eb810df1-b3e0-49f7-8525-9daabd275c94",
   "metadata": {
    "tags": []
   },
   "outputs": [
    {
     "data": {
      "text/html": [
       "<div>\n",
       "<style scoped>\n",
       "    .dataframe tbody tr th:only-of-type {\n",
       "        vertical-align: middle;\n",
       "    }\n",
       "\n",
       "    .dataframe tbody tr th {\n",
       "        vertical-align: top;\n",
       "    }\n",
       "\n",
       "    .dataframe thead th {\n",
       "        text-align: right;\n",
       "    }\n",
       "</style>\n",
       "<table border=\"1\" class=\"dataframe\">\n",
       "  <thead>\n",
       "    <tr style=\"text-align: right;\">\n",
       "      <th></th>\n",
       "      <th>1-1</th>\n",
       "      <th>1-2</th>\n",
       "      <th>1-3</th>\n",
       "    </tr>\n",
       "  </thead>\n",
       "  <tbody>\n",
       "    <tr>\n",
       "      <th>0</th>\n",
       "      <td>박찬호</td>\n",
       "      <td>NNP\\tNNP\\tB\\tB-PS\\n</td>\n",
       "      <td>None</td>\n",
       "    </tr>\n",
       "    <tr>\n",
       "      <th>1</th>\n",
       "      <td>는</td>\n",
       "      <td>JX\\tJX\\tI\\tO\\n</td>\n",
       "      <td>None</td>\n",
       "    </tr>\n",
       "    <tr>\n",
       "      <th>2</th>\n",
       "      <td>8</td>\n",
       "      <td>SN\\tSN\\tB\\tB-DT\\n</td>\n",
       "      <td>None</td>\n",
       "    </tr>\n",
       "    <tr>\n",
       "      <th>3</th>\n",
       "      <td>일</td>\n",
       "      <td>NNB\\tNNB\\tI\\tI-DT\\n</td>\n",
       "      <td>None</td>\n",
       "    </tr>\n",
       "    <tr>\n",
       "      <th>4</th>\n",
       "      <td>(</td>\n",
       "      <td>SS\\tSS\\tI\\tO\\n</td>\n",
       "      <td>None</td>\n",
       "    </tr>\n",
       "    <tr>\n",
       "      <th>...</th>\n",
       "      <td>...</td>\n",
       "      <td>...</td>\n",
       "      <td>...</td>\n",
       "    </tr>\n",
       "    <tr>\n",
       "      <th>13768</th>\n",
       "      <td>것</td>\n",
       "      <td>NNB\\tNNB\\tB\\tO\\n</td>\n",
       "      <td>None</td>\n",
       "    </tr>\n",
       "    <tr>\n",
       "      <th>13769</th>\n",
       "      <td>이</td>\n",
       "      <td>VCP\\tVCP\\tI\\tO\\n</td>\n",
       "      <td>None</td>\n",
       "    </tr>\n",
       "    <tr>\n",
       "      <th>13770</th>\n",
       "      <td>다</td>\n",
       "      <td>EF\\tEF\\tI\\tO\\n</td>\n",
       "      <td>None</td>\n",
       "    </tr>\n",
       "    <tr>\n",
       "      <th>13771</th>\n",
       "      <td>.</td>\n",
       "      <td>SF\\tSF\\tB\\tO\\n</td>\n",
       "      <td>None</td>\n",
       "    </tr>\n",
       "    <tr>\n",
       "      <th>13772</th>\n",
       "      <td>\\n</td>\n",
       "      <td>None</td>\n",
       "      <td>None</td>\n",
       "    </tr>\n",
       "  </tbody>\n",
       "</table>\n",
       "<p>13773 rows × 3 columns</p>\n",
       "</div>"
      ],
      "text/plain": [
       "       1-1                  1-2   1-3\n",
       "0      박찬호  NNP\\tNNP\\tB\\tB-PS\\n  None\n",
       "1        는       JX\\tJX\\tI\\tO\\n  None\n",
       "2        8    SN\\tSN\\tB\\tB-DT\\n  None\n",
       "3        일  NNB\\tNNB\\tI\\tI-DT\\n  None\n",
       "4        (       SS\\tSS\\tI\\tO\\n  None\n",
       "...    ...                  ...   ...\n",
       "13768    것     NNB\\tNNB\\tB\\tO\\n  None\n",
       "13769    이     VCP\\tVCP\\tI\\tO\\n  None\n",
       "13770    다       EF\\tEF\\tI\\tO\\n  None\n",
       "13771    .       SF\\tSF\\tB\\tO\\n  None\n",
       "13772   \\n                 None  None\n",
       "\n",
       "[13773 rows x 3 columns]"
      ]
     },
     "execution_count": 14,
     "metadata": {},
     "output_type": "execute_result"
    }
   ],
   "source": [
    "df = pd.DataFrame(df0[0].str.split('/').tolist(),columns=['1-1','1-2','1-3'])\n",
    "df"
   ]
  },
  {
   "cell_type": "code",
   "execution_count": 15,
   "id": "d3a3fbc7-c785-481b-beb6-65a896d58163",
   "metadata": {
    "tags": []
   },
   "outputs": [
    {
     "data": {
      "text/html": [
       "<div>\n",
       "<style scoped>\n",
       "    .dataframe tbody tr th:only-of-type {\n",
       "        vertical-align: middle;\n",
       "    }\n",
       "\n",
       "    .dataframe tbody tr th {\n",
       "        vertical-align: top;\n",
       "    }\n",
       "\n",
       "    .dataframe thead th {\n",
       "        text-align: right;\n",
       "    }\n",
       "</style>\n",
       "<table border=\"1\" class=\"dataframe\">\n",
       "  <thead>\n",
       "    <tr style=\"text-align: right;\">\n",
       "      <th></th>\n",
       "      <th>1</th>\n",
       "      <th>2</th>\n",
       "      <th>3</th>\n",
       "      <th>4</th>\n",
       "    </tr>\n",
       "  </thead>\n",
       "  <tbody>\n",
       "    <tr>\n",
       "      <th>0</th>\n",
       "      <td>박찬호/NNP</td>\n",
       "      <td>NNP</td>\n",
       "      <td>B</td>\n",
       "      <td>B-PS\\n</td>\n",
       "    </tr>\n",
       "    <tr>\n",
       "      <th>1</th>\n",
       "      <td>는/JX</td>\n",
       "      <td>JX</td>\n",
       "      <td>I</td>\n",
       "      <td>O\\n</td>\n",
       "    </tr>\n",
       "    <tr>\n",
       "      <th>2</th>\n",
       "      <td>8/SN</td>\n",
       "      <td>SN</td>\n",
       "      <td>B</td>\n",
       "      <td>B-DT\\n</td>\n",
       "    </tr>\n",
       "    <tr>\n",
       "      <th>3</th>\n",
       "      <td>일/NNB</td>\n",
       "      <td>NNB</td>\n",
       "      <td>I</td>\n",
       "      <td>I-DT\\n</td>\n",
       "    </tr>\n",
       "    <tr>\n",
       "      <th>4</th>\n",
       "      <td>(/SS</td>\n",
       "      <td>SS</td>\n",
       "      <td>I</td>\n",
       "      <td>O\\n</td>\n",
       "    </tr>\n",
       "    <tr>\n",
       "      <th>...</th>\n",
       "      <td>...</td>\n",
       "      <td>...</td>\n",
       "      <td>...</td>\n",
       "      <td>...</td>\n",
       "    </tr>\n",
       "    <tr>\n",
       "      <th>13768</th>\n",
       "      <td>것/NNB</td>\n",
       "      <td>NNB</td>\n",
       "      <td>B</td>\n",
       "      <td>O\\n</td>\n",
       "    </tr>\n",
       "    <tr>\n",
       "      <th>13769</th>\n",
       "      <td>이/VCP</td>\n",
       "      <td>VCP</td>\n",
       "      <td>I</td>\n",
       "      <td>O\\n</td>\n",
       "    </tr>\n",
       "    <tr>\n",
       "      <th>13770</th>\n",
       "      <td>다/EF</td>\n",
       "      <td>EF</td>\n",
       "      <td>I</td>\n",
       "      <td>O\\n</td>\n",
       "    </tr>\n",
       "    <tr>\n",
       "      <th>13771</th>\n",
       "      <td>./SF</td>\n",
       "      <td>SF</td>\n",
       "      <td>B</td>\n",
       "      <td>O\\n</td>\n",
       "    </tr>\n",
       "    <tr>\n",
       "      <th>13772</th>\n",
       "      <td>\\n</td>\n",
       "      <td>None</td>\n",
       "      <td>None</td>\n",
       "      <td>None</td>\n",
       "    </tr>\n",
       "  </tbody>\n",
       "</table>\n",
       "<p>13773 rows × 4 columns</p>\n",
       "</div>"
      ],
      "text/plain": [
       "             1     2     3       4\n",
       "0      박찬호/NNP   NNP     B  B-PS\\n\n",
       "1         는/JX    JX     I     O\\n\n",
       "2         8/SN    SN     B  B-DT\\n\n",
       "3        일/NNB   NNB     I  I-DT\\n\n",
       "4         (/SS    SS     I     O\\n\n",
       "...        ...   ...   ...     ...\n",
       "13768    것/NNB   NNB     B     O\\n\n",
       "13769    이/VCP   VCP     I     O\\n\n",
       "13770     다/EF    EF     I     O\\n\n",
       "13771     ./SF    SF     B     O\\n\n",
       "13772       \\n  None  None    None\n",
       "\n",
       "[13773 rows x 4 columns]"
      ]
     },
     "execution_count": 15,
     "metadata": {},
     "output_type": "execute_result"
    }
   ],
   "source": [
    "df2 = pd.DataFrame(df0[0].str.split('\\t').tolist(),columns=['1','2','3','4'])\n",
    "df2"
   ]
  },
  {
   "cell_type": "code",
   "execution_count": 16,
   "id": "cf7f2222-9647-4d4f-a7ca-0c31b6ca2daa",
   "metadata": {
    "tags": []
   },
   "outputs": [
    {
     "data": {
      "text/html": [
       "<div>\n",
       "<style scoped>\n",
       "    .dataframe tbody tr th:only-of-type {\n",
       "        vertical-align: middle;\n",
       "    }\n",
       "\n",
       "    .dataframe tbody tr th {\n",
       "        vertical-align: top;\n",
       "    }\n",
       "\n",
       "    .dataframe thead th {\n",
       "        text-align: right;\n",
       "    }\n",
       "</style>\n",
       "<table border=\"1\" class=\"dataframe\">\n",
       "  <thead>\n",
       "    <tr style=\"text-align: right;\">\n",
       "      <th></th>\n",
       "      <th>Entity</th>\n",
       "      <th>tag</th>\n",
       "    </tr>\n",
       "  </thead>\n",
       "  <tbody>\n",
       "    <tr>\n",
       "      <th>0</th>\n",
       "      <td>박찬호</td>\n",
       "      <td>B-PS</td>\n",
       "    </tr>\n",
       "    <tr>\n",
       "      <th>1</th>\n",
       "      <td>는</td>\n",
       "      <td>O</td>\n",
       "    </tr>\n",
       "    <tr>\n",
       "      <th>2</th>\n",
       "      <td>8</td>\n",
       "      <td>B-DT</td>\n",
       "    </tr>\n",
       "    <tr>\n",
       "      <th>3</th>\n",
       "      <td>일</td>\n",
       "      <td>I-DT</td>\n",
       "    </tr>\n",
       "    <tr>\n",
       "      <th>4</th>\n",
       "      <td>(</td>\n",
       "      <td>O</td>\n",
       "    </tr>\n",
       "    <tr>\n",
       "      <th>...</th>\n",
       "      <td>...</td>\n",
       "      <td>...</td>\n",
       "    </tr>\n",
       "    <tr>\n",
       "      <th>13768</th>\n",
       "      <td>것</td>\n",
       "      <td>O</td>\n",
       "    </tr>\n",
       "    <tr>\n",
       "      <th>13769</th>\n",
       "      <td>이</td>\n",
       "      <td>O</td>\n",
       "    </tr>\n",
       "    <tr>\n",
       "      <th>13770</th>\n",
       "      <td>다</td>\n",
       "      <td>O</td>\n",
       "    </tr>\n",
       "    <tr>\n",
       "      <th>13771</th>\n",
       "      <td>.</td>\n",
       "      <td>O</td>\n",
       "    </tr>\n",
       "    <tr>\n",
       "      <th>13772</th>\n",
       "      <td>\\n</td>\n",
       "      <td>None</td>\n",
       "    </tr>\n",
       "  </tbody>\n",
       "</table>\n",
       "<p>13773 rows × 2 columns</p>\n",
       "</div>"
      ],
      "text/plain": [
       "      Entity   tag\n",
       "0        박찬호  B-PS\n",
       "1          는     O\n",
       "2          8  B-DT\n",
       "3          일  I-DT\n",
       "4          (     O\n",
       "...      ...   ...\n",
       "13768      것     O\n",
       "13769      이     O\n",
       "13770      다     O\n",
       "13771      .     O\n",
       "13772     \\n  None\n",
       "\n",
       "[13773 rows x 2 columns]"
      ]
     },
     "execution_count": 16,
     "metadata": {},
     "output_type": "execute_result"
    }
   ],
   "source": [
    "df7 = pd.concat([df['1-1'],df2['4'].str.strip('\\n')],axis = 1)\n",
    "df7 = pd.DataFrame(df7)\n",
    "df7 = df7.rename(columns={'1-1':'Entity','4':'tag'})\n",
    "df7"
   ]
  },
  {
   "cell_type": "code",
   "execution_count": 17,
   "id": "3855af06-446b-4917-9cbf-dec3fb77d183",
   "metadata": {},
   "outputs": [
    {
     "name": "stdout",
     "output_type": "stream",
     "text": [
      "13773\n"
     ]
    }
   ],
   "source": [
    "print(len(df7))"
   ]
  },
  {
   "cell_type": "markdown",
   "id": "7e5fb2e8-d3b2-4bbd-bc35-f7084b783c4c",
   "metadata": {},
   "source": [
    "# Preprocessing 1"
   ]
  },
  {
   "cell_type": "code",
   "execution_count": 18,
   "id": "287084f4-ad6f-4aae-839b-a429b245c276",
   "metadata": {},
   "outputs": [],
   "source": [
    "lst=[]\n",
    "lst_set=[]\n",
    "lst_ent=[]\n",
    "lst_tag=[]\n",
    "for i in range(6945):\n",
    "    if df7['tag'][i] != None:\n",
    "        lst_ent.append(df7['Entity'][i])\n",
    "        lst_tag.append(df7['tag'][i])\n",
    "    else:\n",
    "        lst_set.append(lst_ent)\n",
    "        lst_set.append(lst_tag)\n",
    "        lst.append(lst_set)\n",
    "        lst_ent = []\n",
    "        lst_tag = []\n",
    "        lst_set = [] "
   ]
  },
  {
   "cell_type": "code",
   "execution_count": 22,
   "id": "72423ccb-0f78-406e-b8e8-fa5be93c6dc7",
   "metadata": {},
   "outputs": [
    {
     "name": "stdout",
     "output_type": "stream",
     "text": [
      "['-', '주소창', '에', \"'\", '스포츠', \"'\", '만', '치', '시', '면', '스포츠서울닷컴', '기사', '가', '한눈', '에', '!']\n",
      "['O', 'O', 'O', 'B-PS', 'I-PS', 'O', 'O', 'O']\n"
     ]
    }
   ],
   "source": [
    "print(lst[5][0])\n",
    "print(lst[2][1])"
   ]
  },
  {
   "cell_type": "code",
   "execution_count": 25,
   "id": "83d5cc73-d29c-4134-baaf-5effd5beda92",
   "metadata": {},
   "outputs": [],
   "source": [
    "PRETAINED_MODEL_NAME = 'bert-base-multilingual-cased'\n",
    "tokenizer = BertTokenizer.from_pretrained(PRETAINED_MODEL_NAME)"
   ]
  },
  {
   "cell_type": "markdown",
   "id": "e5a4d644-9f6f-4c26-adee-87a4243857e7",
   "metadata": {},
   "source": [
    "# Tokenizer tagging"
   ]
  },
  {
   "cell_type": "code",
   "execution_count": 26,
   "id": "5e51e882-e982-4a0f-b6e8-86f8cd88f474",
   "metadata": {},
   "outputs": [],
   "source": [
    "lst=[]\n",
    "lst_set = []\n",
    "lst_ent = []\n",
    "lst_tag = []\n",
    "for i in range(len(df7)):\n",
    "    if df7['tag'][i] != None:\n",
    "        morph_to_tokens = tokenizer.tokenize(df7['Entity'][i])\n",
    "        if len(df7['Entity'][i]) == len(morph_to_tokens):\n",
    "            lst_ent.append(df7['Entity'][i])\n",
    "            lst_tag.append(df7['tag'][i])\n",
    "            \n",
    "        else:\n",
    "            if df7['tag'][i] == 'O':\n",
    "                lst_ent.append(df7['Entity'][i])\n",
    "                lst_tag.append(df7['tag'][i])\n",
    "                for i in range(len(morph_to_tokens)-1):\n",
    "                    lst_tag.append(df7['tag'][i])\n",
    "                \n",
    "            else:\n",
    "                lst_ent.append(df7['Entity'][i])\n",
    "                lst_tag.append(df7['tag'][i])\n",
    "                split = df7['tag'][i].split('-')\n",
    "                for i in range(len(morph_to_tokens)-1):\n",
    "                    results = 'I-' + split[-1]\n",
    "                    lst_tag.append(results)\n",
    "            \n",
    "    else:\n",
    "        lst_ent = result = ' '.join(str(s) for s in lst_ent)\n",
    "        lst_set.append(lst_ent)\n",
    "        morph_to_tokens = tokenizer.tokenize(lst_ent)\n",
    "        lst_set.append(morph_to_tokens)\n",
    "        lst_set.append(lst_tag)\n",
    "        lst.append(lst_set)\n",
    "        result = 0\n",
    "        lst_ent = []\n",
    "        lst_tok = []\n",
    "        lst_tag = []\n",
    "        lst_set = [] "
   ]
  },
  {
   "cell_type": "code",
   "execution_count": 27,
   "id": "13b28ed8-c531-4d0a-86a1-0b90408160e7",
   "metadata": {},
   "outputs": [
    {
     "name": "stdout",
     "output_type": "stream",
     "text": [
      "entity 15\n",
      "- 5 번 마크 레이놀스 .\n",
      "token 10\n",
      "['-', '5', '번', '마', '##크', '레', '##이', '##놀', '##스', '.']\n",
      "token_tag 6\n",
      "['O', 'O', 'O', 'B-PS', 'I-PS', 'O']\n"
     ]
    }
   ],
   "source": [
    "print('entity', len(lst[3][0]))\n",
    "print(lst[3][0])\n",
    "\n",
    "print('token', len(lst[3][1]))\n",
    "print(lst[3][1])\n",
    "\n",
    "print('token_tag', len(lst[3][2]))\n",
    "print(lst[3][2])"
   ]
  },
  {
   "cell_type": "code",
   "execution_count": 30,
   "id": "a6e93373-258d-4c6a-b9c1-db7692d7912d",
   "metadata": {},
   "outputs": [
    {
     "name": "stdout",
     "output_type": "stream",
     "text": [
      "['- 5 번 마크 레이놀스 .', ['-', '5', '번', '마', '##크', '레', '##이', '##놀', '##스', '.'], ['O', 'O', 'O', 'B-PS', 'I-PS', 'O']]\n"
     ]
    }
   ],
   "source": [
    "print(lst[3])"
   ]
  },
  {
   "cell_type": "code",
   "execution_count": 28,
   "id": "bc75c47a-5ddb-4777-9d37-bc906c9e6e69",
   "metadata": {
    "tags": []
   },
   "outputs": [],
   "source": [
    "with open(PATH_preprodata, 'w') as f:\n",
    "    json.dump(lst, f)"
   ]
  },
  {
   "cell_type": "code",
   "execution_count": 29,
   "id": "e001e6bc-ca72-4419-abc2-9b6f84d9f9e5",
   "metadata": {
    "tags": []
   },
   "outputs": [],
   "source": [
    "with open(PATH_preprodata, 'r') as f:\n",
    "    preprodata = json.load(f)"
   ]
  },
  {
   "cell_type": "markdown",
   "id": "f51fed6c-cf3f-4aa1-8ff7-36f98000ae4e",
   "metadata": {},
   "source": [
    "# My Data"
   ]
  },
  {
   "cell_type": "code",
   "execution_count": 31,
   "id": "72b71342-b6db-477b-844a-9a7a1f38b7bc",
   "metadata": {},
   "outputs": [],
   "source": [
    "result = ' '.join(str(s) for s in lst[3][0])"
   ]
  },
  {
   "cell_type": "code",
   "execution_count": 32,
   "id": "4ab3bcb9-8e35-482b-94b9-1f51b507d1fd",
   "metadata": {
    "tags": []
   },
   "outputs": [
    {
     "name": "stdout",
     "output_type": "stream",
     "text": [
      "torch.Size([1, 12])\n"
     ]
    },
    {
     "data": {
      "text/plain": [
       "{'input_ids': tensor([[ 101,  118,  126, 9338, 9246, 9834, 9186, 9638, 9025, 9477,  119,  102]]), 'token_type_ids': tensor([[0, 0, 0, 0, 0, 0, 0, 0, 0, 0, 0, 0]]), 'attention_mask': tensor([[1, 1, 1, 1, 1, 1, 1, 1, 1, 1, 1, 1]])}"
      ]
     },
     "execution_count": 32,
     "metadata": {},
     "output_type": "execute_result"
    }
   ],
   "source": [
    "inputs = tokenizer(result, return_tensors='pt')\n",
    "print(inputs['input_ids'].size())\n",
    "inputs"
   ]
  },
  {
   "cell_type": "code",
   "execution_count": 33,
   "id": "7c6c45af-b963-4b99-a528-0c307a42237f",
   "metadata": {},
   "outputs": [],
   "source": [
    "from transformers import BertModel"
   ]
  },
  {
   "cell_type": "code",
   "execution_count": 34,
   "id": "2d1dd2b6-33c5-4b52-9eae-f32d1fd9b19b",
   "metadata": {},
   "outputs": [
    {
     "name": "stderr",
     "output_type": "stream",
     "text": [
      "Some weights of the model checkpoint at bert-base-multilingual-cased were not used when initializing BertModel: ['cls.predictions.decoder.weight', 'cls.predictions.transform.dense.bias', 'cls.predictions.bias', 'cls.predictions.transform.dense.weight', 'cls.predictions.transform.LayerNorm.weight', 'cls.seq_relationship.bias', 'cls.predictions.transform.LayerNorm.bias', 'cls.seq_relationship.weight']\n",
      "- This IS expected if you are initializing BertModel from the checkpoint of a model trained on another task or with another architecture (e.g. initializing a BertForSequenceClassification model from a BertForPreTraining model).\n",
      "- This IS NOT expected if you are initializing BertModel from the checkpoint of a model that you expect to be exactly identical (initializing a BertForSequenceClassification model from a BertForSequenceClassification model).\n"
     ]
    }
   ],
   "source": [
    "PRETAINED_MODEL_NAME = 'bert-base-multilingual-cased'\n",
    "bert = BertModel.from_pretrained(PRETAINED_MODEL_NAME)"
   ]
  },
  {
   "cell_type": "code",
   "execution_count": 35,
   "id": "571dc9bd-5007-4934-a48f-d1c57d585197",
   "metadata": {},
   "outputs": [],
   "source": [
    "outputs = bert(**inputs)"
   ]
  },
  {
   "cell_type": "code",
   "execution_count": 36,
   "id": "0659fdf3-8d30-49ac-9a7f-d8a9c47ead6f",
   "metadata": {},
   "outputs": [
    {
     "data": {
      "text/plain": [
       "odict_keys(['last_hidden_state', 'pooler_output'])"
      ]
     },
     "execution_count": 36,
     "metadata": {},
     "output_type": "execute_result"
    }
   ],
   "source": [
    "outputs.keys()"
   ]
  },
  {
   "cell_type": "code",
   "execution_count": 37,
   "id": "263270be-90fd-4c74-aaa5-791505c90525",
   "metadata": {
    "tags": []
   },
   "outputs": [
    {
     "data": {
      "text/plain": [
       "BaseModelOutputWithPoolingAndCrossAttentions(last_hidden_state=tensor([[[ 0.3649, -0.0665, -0.3947,  ...,  0.2680,  0.1175,  0.1527],\n",
       "         [ 0.1875, -0.6374,  0.4631,  ...,  0.2745, -0.1235,  0.9780],\n",
       "         [-0.3853, -0.4464,  0.0116,  ..., -0.6496,  0.1723,  0.5837],\n",
       "         ...,\n",
       "         [ 0.9614, -0.3377, -0.0905,  ...,  0.4002,  0.0628,  0.3582],\n",
       "         [ 0.7023, -0.3170, -0.7976,  ...,  0.3832,  0.1798,  0.4563],\n",
       "         [ 0.7054, -0.0679, -0.3709,  ...,  0.1200,  0.0807,  0.4596]]],\n",
       "       grad_fn=<NativeLayerNormBackward>), pooler_output=tensor([[ 0.2764, -0.0306,  0.2660, -0.0536,  0.0713,  0.4242,  0.0637,  0.2402,\n",
       "         -0.4094,  0.2865,  0.0693, -0.1161, -0.2005, -0.1117,  0.1129, -0.3604,\n",
       "          0.7204,  0.0443,  0.0575, -0.3142, -1.0000, -0.1155, -0.3364, -0.1114,\n",
       "         -0.4538, -0.0540, -0.0862,  0.1193,  0.1355, -0.0590, -0.0113, -1.0000,\n",
       "          0.4654,  0.6495,  0.1981, -0.0345,  0.1674,  0.3721,  0.2504, -0.4007,\n",
       "         -0.1429, -0.1354, -0.0509,  0.2462, -0.0729, -0.3271, -0.0875,  0.2346,\n",
       "         -0.3653,  0.2049,  0.0952,  0.2448,  0.5031,  0.4691,  0.3822,  0.2257,\n",
       "          0.4569,  0.2827,  0.2064, -0.1397,  0.0317,  0.2935,  0.2220, -0.2600,\n",
       "         -0.3631, -0.2467,  0.1185, -0.1227,  0.5698, -0.2136, -0.1965, -0.4398,\n",
       "         -0.2557,  0.2155,  0.0760, -0.2326,  0.3794,  0.3766,  0.0929, -0.1373,\n",
       "         -0.3951, -0.4719, -0.3203,  0.1326, -0.2158,  0.2361,  0.3406, -0.3524,\n",
       "          0.1396, -0.0037,  0.0121,  0.6599, -0.1971,  0.3931, -0.0561, -0.0459,\n",
       "         -0.8693,  0.0424, -0.0441, -0.3501, -0.0667,  0.0473, -0.3193, -0.1648,\n",
       "         -0.3749, -0.1283,  0.2860,  0.1827, -0.0838,  0.3477,  0.0589, -0.5199,\n",
       "         -0.2927,  0.0176, -0.3204,  0.9713, -0.2137,  0.1288, -0.1412, -0.0715,\n",
       "         -0.6744,  1.0000,  0.1760, -0.2727,  0.1180,  0.0880, -0.6647,  0.1178,\n",
       "          0.0552,  0.2886, -0.0786, -0.1290, -0.1616, -0.5063, -0.7994, -0.1955,\n",
       "         -0.1944,  0.2640, -0.3372, -0.2163,  0.1632,  0.6115,  0.0930, -0.0145,\n",
       "         -0.0285, -0.0939,  0.1538, -0.2392,  1.0000,  0.7147, -0.1105, -0.3699,\n",
       "          0.3541, -0.6878, -0.3089, -0.3578, -0.2240, -0.5318,  0.2244,  0.1222,\n",
       "          0.1590, -0.0543, -0.1092, -0.0855,  0.2845, -0.6446, -0.2830,  0.3313,\n",
       "          0.1558,  0.1760, -0.1263,  0.2177,  0.3169, -0.1395,  0.0032,  0.2700,\n",
       "          0.0766, -0.0170, -0.0037, -0.1265,  0.1711, -0.0994, -0.2884,  0.0333,\n",
       "         -0.2270, -0.4048,  0.0125, -0.0548, -0.0845,  0.2450, -0.0332,  0.1873,\n",
       "         -0.2866,  0.1172,  0.2138,  0.0565, -0.5179,  0.2903,  0.2362,  0.2949,\n",
       "          0.1476,  0.2947,  0.0442,  0.0671, -0.2154, -0.4405,  0.1009,  0.1317,\n",
       "          0.4180, -0.2475, -0.5792, -0.1515,  0.6917,  0.3627, -0.1817,  0.0800,\n",
       "          0.1272, -0.1930, -0.1907,  0.2420,  0.0393, -0.2098, -0.2525, -0.1389,\n",
       "         -0.0210,  0.1610,  0.1594,  0.0783,  0.1032,  0.0569,  0.0204, -0.1291,\n",
       "          0.0673,  0.4973, -0.2044,  0.8513, -0.2973,  0.1358, -0.4583, -0.2283,\n",
       "          0.1721, -0.2405,  0.1633,  0.9447,  0.0795, -0.3891,  0.1516,  0.2887,\n",
       "          0.0142, -0.2131,  0.0024, -0.6839,  0.4994,  0.1262,  0.1014, -1.0000,\n",
       "          0.0856,  0.0486,  0.3366,  0.0916,  0.0781,  0.2490,  0.2350,  0.9038,\n",
       "         -0.4401, -0.4646, -0.1066, -0.0630, -0.5703, -0.1619, -0.0504, -0.3351,\n",
       "         -0.0229, -0.0432, -0.1517,  0.0800,  0.4126, -0.9889,  0.8856,  0.2045,\n",
       "         -0.1269,  0.0526,  0.3250, -1.0000,  0.4439, -0.1102, -0.2977,  0.2747,\n",
       "         -0.4947, -0.2521,  0.0956,  0.3864,  0.2720,  0.2685,  0.2187,  0.6060,\n",
       "          0.1446,  0.0588,  0.2018, -0.1516,  0.6421, -0.0345, -0.0803,  0.4409,\n",
       "         -0.2040,  0.1568, -0.2080,  0.1983,  0.2224,  0.1300, -0.0690, -0.1128,\n",
       "          0.2323, -0.8583,  0.0957, -0.3103,  0.0943, -0.1682,  0.0774, -0.1063,\n",
       "         -0.2671,  0.0943, -0.2199,  1.0000,  0.2297, -0.0579, -0.1724,  0.6026,\n",
       "          0.4901, -0.2378, -0.2533, -0.1354,  0.6498,  0.2927,  0.2751, -0.0263,\n",
       "         -0.0243,  0.3953, -0.0555, -0.2185,  0.1191, -0.3898,  0.0180, -0.0662,\n",
       "         -0.3423,  0.0635, -0.1601, -0.1144, -0.5947,  0.3071,  0.0351,  0.1343,\n",
       "          0.0977,  0.2047, -0.1277,  0.6492,  0.3130, -0.1646, -0.2092, -0.2829,\n",
       "         -0.3659, -0.0928, -0.2514, -0.3589,  0.1767, -0.7104,  0.0852,  0.0560,\n",
       "         -0.1466, -0.4402,  0.3400, -1.0000, -0.2145,  0.2218, -0.3086,  0.2089,\n",
       "         -0.3490, -0.0985,  0.2166,  0.1864,  0.0409, -0.0212, -0.2925,  0.0112,\n",
       "         -0.0505, -0.0414,  0.8495,  0.6966, -0.0337, -0.0645,  0.0613, -0.6306,\n",
       "         -0.1707,  0.2869,  0.1987, -0.2208,  0.1447, -0.0177,  0.0341, -0.0395,\n",
       "          0.2865, -0.0306, -0.1573,  0.1231, -0.1060, -0.2146, -0.0611,  0.3861,\n",
       "         -0.4408,  0.2128,  0.1708,  0.2200,  0.1326,  0.4311, -0.3315,  0.0160,\n",
       "         -0.0992, -0.0387, -0.2060, -0.1149, -0.0266,  1.0000,  0.4532,  0.3562,\n",
       "         -0.1941,  0.0984,  0.2490, -0.4960,  0.2530,  0.0983,  0.1098, -0.0957,\n",
       "          0.0704,  0.1204,  0.2950,  0.4028,  0.0209,  0.4517, -0.2979,  0.6879,\n",
       "         -0.0978, -0.3981, -0.9938,  0.1463,  0.2378, -0.2601, -0.3657,  0.1686,\n",
       "         -0.3587,  0.1558, -0.0768,  0.1147,  0.1067, -0.0921,  0.3777, -0.3536,\n",
       "          1.0000,  0.0333,  0.0730,  0.2786,  0.1985, -0.1647, -0.0864,  0.1400,\n",
       "          0.3202, -0.0525,  0.0990, -0.9340,  0.1033,  0.1246,  0.4276, -0.1864,\n",
       "          0.3800, -0.4781,  0.2680,  0.0305, -0.0679, -0.2615,  0.2267, -0.2209,\n",
       "          0.3719, -0.2119,  0.1788, -0.1228,  0.2999,  0.0577,  0.1794, -0.0396,\n",
       "          0.2084, -0.1533, -0.1814, -0.2437,  0.1309, -0.5206,  1.0000, -0.0575,\n",
       "          0.1930, -0.1875,  0.1612, -0.1465,  0.1854,  0.7543, -0.3256,  0.2935,\n",
       "          0.3055, -0.7658,  0.1835, -0.1191, -0.6001, -0.1766,  0.9499, -0.0434,\n",
       "          0.4047,  0.1124,  0.3409,  0.0670, -0.0720,  0.2491,  0.8576,  0.1510,\n",
       "          0.1751,  0.1121,  0.0542, -0.3271, -0.1568,  1.0000,  1.0000, -0.0185,\n",
       "          0.2974, -0.4253, -0.3222, -0.1721,  0.1673,  0.2797,  0.1911, -0.1179,\n",
       "          0.0028, -0.4402, -0.2845, -0.1095,  0.0201, -0.1533,  0.0501, -0.2002,\n",
       "          0.6243,  0.4955,  0.1818,  0.4899,  0.1059,  0.2022,  0.0552, -0.2499,\n",
       "          0.5245, -0.1366, -0.1379, -0.3983,  0.0634, -1.0000,  0.0277, -0.2229,\n",
       "         -0.1818,  0.5137,  0.1946,  0.0317, -0.3526, -0.0534, -0.1746,  0.1404,\n",
       "          0.1227,  0.0305, -0.2556, -0.4196,  0.4257, -0.5319,  0.2008, -0.1877,\n",
       "         -0.1014, -0.7529, -0.1893, -0.1315,  0.3462, -0.2778, -0.2481,  0.1872,\n",
       "          0.1214,  0.2200, -0.3234,  0.1954, -0.3491,  0.1983,  0.1426,  0.2708,\n",
       "          0.1372, -0.3116, -0.2406, -0.1170, -0.1747, -0.1413,  0.0802, -0.1498,\n",
       "          0.1244, -0.1017,  0.1998, -0.1951,  0.1108,  0.2492,  0.5609, -0.3555,\n",
       "          0.4335,  0.2503, -0.1246,  0.5876,  0.0480, -0.1429, -0.2241,  1.0000,\n",
       "          0.5063,  0.1478,  0.2133, -0.2111,  0.3814,  0.0528,  0.5061, -0.1981,\n",
       "          0.5143, -0.3030,  0.1609,  0.0825,  0.3334,  0.0790,  0.3791,  0.2886,\n",
       "          0.7838,  0.0893,  0.1019,  0.2940,  0.1586,  0.3230,  0.2977,  0.2610,\n",
       "          0.2764,  0.4072, -0.1381,  0.1267, -0.0343, -0.0258,  0.0380, -0.0879,\n",
       "         -0.3982,  0.0827, -0.1402, -0.1425, -0.1828,  0.2856, -0.1683,  0.3918,\n",
       "         -0.1734, -0.2920,  0.6906, -0.5146,  0.0117, -0.2569,  0.0078, -0.7998,\n",
       "          0.1036, -0.2282, -0.4687, -0.1148, -0.2780,  0.2028,  0.2290, -0.0046,\n",
       "          0.2835, -0.1632,  0.1660, -0.2089, -0.2319,  0.0176, -1.0000,  0.1733,\n",
       "          0.0193, -0.1812, -0.0648,  0.0507,  0.2101,  0.1351, -0.1689,  0.0301,\n",
       "         -0.0088,  0.3560, -0.2173, -0.0258,  0.0252, -0.3954, -0.2614,  0.0829,\n",
       "         -0.2442,  0.2467,  0.2712, -0.2598,  0.0748, -0.2284,  0.1705, -0.0264,\n",
       "          0.1916, -0.4227, -0.3124,  0.2621, -0.4827, -0.3512, -0.0720,  0.0065,\n",
       "         -0.1591,  0.0552,  0.1277, -0.0611,  0.3726, -0.2678,  0.2949, -0.2547,\n",
       "          0.2350, -0.8636, -0.3601, -0.2199, -0.2042,  0.3527,  0.1774,  0.2262,\n",
       "          0.1843,  0.0867,  0.2178, -0.0614,  0.2251,  0.2049, -0.1290,  0.0743,\n",
       "         -0.2144,  0.2642, -0.1667,  0.0301, -0.9865, -0.1797,  0.0218,  0.2329,\n",
       "          0.2236, -0.1713, -0.0871, -0.1628, -0.1194,  0.1638,  0.2165,  0.1415,\n",
       "          0.1296,  0.1020, -0.3279,  0.2201,  0.5046, -0.2377, -0.0474,  0.4513,\n",
       "          0.0197,  0.5644,  0.3352,  0.2157,  0.1582, -0.4136,  0.1422,  0.2369]],\n",
       "       grad_fn=<TanhBackward>), hidden_states=None, past_key_values=None, attentions=None, cross_attentions=None)"
      ]
     },
     "execution_count": 37,
     "metadata": {},
     "output_type": "execute_result"
    }
   ],
   "source": [
    "outputs"
   ]
  },
  {
   "cell_type": "code",
   "execution_count": null,
   "id": "42d43743-6749-4605-9c4f-65e68f0ef1f4",
   "metadata": {},
   "outputs": [],
   "source": []
  }
 ],
 "metadata": {
  "kernelspec": {
   "display_name": "Python 3",
   "language": "python",
   "name": "python3"
  },
  "language_info": {
   "codemirror_mode": {
    "name": "ipython",
    "version": 3
   },
   "file_extension": ".py",
   "mimetype": "text/x-python",
   "name": "python",
   "nbconvert_exporter": "python",
   "pygments_lexer": "ipython3",
   "version": "3.8.8"
  }
 },
 "nbformat": 4,
 "nbformat_minor": 5
}
