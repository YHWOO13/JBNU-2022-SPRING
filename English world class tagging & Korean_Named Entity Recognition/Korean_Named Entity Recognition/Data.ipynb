{
 "cells": [
  {
   "cell_type": "markdown",
   "id": "f2075fee-4fe2-485e-aafd-04f84cea7c09",
   "metadata": {},
   "source": [
    "Inference\\\n",
    "https://wikidocs.net/115055\n",
    "\n",
    "https://huggingface.co/docs/transformers/index\n",
    "\n",
    "http://kkma.snu.ac.kr/documents/index.jsp?doc=postag\n"
   ]
  },
  {
   "cell_type": "code",
   "execution_count": 1,
   "id": "7fe1e2a7-9c70-4ba1-ae0d-351b644b2e16",
   "metadata": {},
   "outputs": [],
   "source": [
    "''' \n",
    " Author: Yoonhyuck WOO / JBNU_Industrial Information system Engineering\n",
    " Date; 2. 10. 2022 - . . 2022\n",
    " Title: NER\n",
    " Professor: Seung-Hoon Na'''\n",
    "\n",
    "import os\n",
    "import pandas as pd\n",
    "import json\n",
    "import transformers\n",
    "from transformers import BertTokenizer\n",
    "# from tqdm.auto import tqdm"
   ]
  },
  {
   "cell_type": "code",
   "execution_count": 2,
   "id": "81d2289c-6d15-4c8a-b211-00c7aa7245e6",
   "metadata": {},
   "outputs": [],
   "source": [
    "PATH_dir = 'C:\\\\Users\\\\LG\\\\Desktop\\\\github\\\\JBNU-2022-SPRING\\\\English world class tagging & Korean_Named Entity Recognition\\\\Ko_En_NER_POStag_data\\Ko_NER_POS'\n",
    "file_name_ko_train = 'train.txt'\n",
    "file_name_ko_test = 'test.txt'\n",
    "file_name_ko_dev = 'dev.txt'"
   ]
  },
  {
   "cell_type": "code",
   "execution_count": 3,
   "id": "1af8695a-cc4d-4307-9771-e2b42fbd7f81",
   "metadata": {},
   "outputs": [],
   "source": [
    "file_name = file_name_ko_dev\n",
    "PATH_data = os.path.join(PATH_dir, file_name)\n",
    "prepro_file_name = 'prepro_' + file_name.rsplit('.')[0] + '.json' #change file extention from '.txt' to '.json'\n",
    "PATH_preprodata = os.path.join(PATH_dir, prepro_file_name)"
   ]
  },
  {
   "cell_type": "code",
   "execution_count": 25,
   "id": "e1505c62-a988-4821-a98c-50713635822f",
   "metadata": {},
   "outputs": [
    {
     "name": "stdout",
     "output_type": "stream",
     "text": [
      "C:\\Users\\LG\\Desktop\\github\\JBNU-2022-SPRING\\English world class tagging & Korean_Named Entity Recognition\\Ko_En_NER_POStag_data\\Ko_NER_POS\\dev.txt\n"
     ]
    }
   ],
   "source": [
    "print(PATH_data)"
   ]
  },
  {
   "cell_type": "code",
   "execution_count": 26,
   "id": "57b38a06-6da6-4266-a2b7-7c98c7ff913d",
   "metadata": {},
   "outputs": [
    {
     "name": "stdout",
     "output_type": "stream",
     "text": [
      "txt\n"
     ]
    }
   ],
   "source": [
    "print(file_name.rsplit('.')[1])"
   ]
  },
  {
   "cell_type": "code",
   "execution_count": 27,
   "id": "a1073e00-fff1-49d6-8169-24ece089595d",
   "metadata": {},
   "outputs": [
    {
     "name": "stdout",
     "output_type": "stream",
     "text": [
      "prepro_dev.json\n"
     ]
    }
   ],
   "source": [
    "print(prepro_file_name)"
   ]
  },
  {
   "cell_type": "code",
   "execution_count": 28,
   "id": "85718426-3309-4eaa-840b-83d4f8e2d8e5",
   "metadata": {},
   "outputs": [
    {
     "name": "stdout",
     "output_type": "stream",
     "text": [
      "C:\\Users\\LG\\Desktop\\github\\JBNU-2022-SPRING\\English world class tagging & Korean_Named Entity Recognition\\Ko_En_NER_POStag_data\\Ko_NER_POS\\prepro_dev.json\n"
     ]
    }
   ],
   "source": [
    "print(PATH_preprodata)"
   ]
  },
  {
   "cell_type": "code",
   "execution_count": 6,
   "id": "fc720e61-87a3-49e0-92e9-8e52b493b355",
   "metadata": {},
   "outputs": [],
   "source": [
    "with open(PATH_data, 'r', encoding='UTF8') as f:\n",
    "    rawdata = f.readlines()"
   ]
  },
  {
   "cell_type": "code",
   "execution_count": 50,
   "id": "578e754a-8842-4fde-8051-79da756712bf",
   "metadata": {},
   "outputs": [
    {
     "data": {
      "text/html": [
       "<div>\n",
       "<style scoped>\n",
       "    .dataframe tbody tr th:only-of-type {\n",
       "        vertical-align: middle;\n",
       "    }\n",
       "\n",
       "    .dataframe tbody tr th {\n",
       "        vertical-align: top;\n",
       "    }\n",
       "\n",
       "    .dataframe thead th {\n",
       "        text-align: right;\n",
       "    }\n",
       "</style>\n",
       "<table border=\"1\" class=\"dataframe\">\n",
       "  <thead>\n",
       "    <tr style=\"text-align: right;\">\n",
       "      <th></th>\n",
       "      <th>0</th>\n",
       "    </tr>\n",
       "  </thead>\n",
       "  <tbody>\n",
       "    <tr>\n",
       "      <th>0</th>\n",
       "      <td>선방/NNG\\tNNG\\tB\\tO\\n</td>\n",
       "    </tr>\n",
       "    <tr>\n",
       "      <th>1</th>\n",
       "      <td>한/XSV~ETM\\tXSV~ETM\\tI\\tO\\n</td>\n",
       "    </tr>\n",
       "    <tr>\n",
       "      <th>2</th>\n",
       "      <td>정성룡/NNP\\tNNP\\tB\\tB-PS\\n</td>\n",
       "    </tr>\n",
       "    <tr>\n",
       "      <th>3</th>\n",
       "      <td>이/JKS\\tJKS\\tI\\tO\\n</td>\n",
       "    </tr>\n",
       "    <tr>\n",
       "      <th>4</th>\n",
       "      <td>볼/NNG\\tNNG\\tB\\tO\\n</td>\n",
       "    </tr>\n",
       "    <tr>\n",
       "      <th>...</th>\n",
       "      <td>...</td>\n",
       "    </tr>\n",
       "    <tr>\n",
       "      <th>6940</th>\n",
       "      <td>문화/NNG\\tNNG\\tB\\tO\\n</td>\n",
       "    </tr>\n",
       "    <tr>\n",
       "      <th>6941</th>\n",
       "      <td>체육/NNG\\tNNG\\tI\\tO\\n</td>\n",
       "    </tr>\n",
       "    <tr>\n",
       "      <th>6942</th>\n",
       "      <td>센터/NNG\\tNNG\\tI\\tO\\n</td>\n",
       "    </tr>\n",
       "    <tr>\n",
       "      <th>6943</th>\n",
       "      <td>)/SS\\tSS\\tI\\tO\\n</td>\n",
       "    </tr>\n",
       "    <tr>\n",
       "      <th>6944</th>\n",
       "      <td>\\n</td>\n",
       "    </tr>\n",
       "  </tbody>\n",
       "</table>\n",
       "<p>6945 rows × 1 columns</p>\n",
       "</div>"
      ],
      "text/plain": [
       "                               0\n",
       "0            선방/NNG\\tNNG\\tB\\tO\\n\n",
       "1     한/XSV~ETM\\tXSV~ETM\\tI\\tO\\n\n",
       "2        정성룡/NNP\\tNNP\\tB\\tB-PS\\n\n",
       "3             이/JKS\\tJKS\\tI\\tO\\n\n",
       "4             볼/NNG\\tNNG\\tB\\tO\\n\n",
       "...                          ...\n",
       "6940         문화/NNG\\tNNG\\tB\\tO\\n\n",
       "6941         체육/NNG\\tNNG\\tI\\tO\\n\n",
       "6942         센터/NNG\\tNNG\\tI\\tO\\n\n",
       "6943            )/SS\\tSS\\tI\\tO\\n\n",
       "6944                          \\n\n",
       "\n",
       "[6945 rows x 1 columns]"
      ]
     },
     "execution_count": 50,
     "metadata": {},
     "output_type": "execute_result"
    }
   ],
   "source": [
    "df0 = pd.DataFrame(rawdata)\n",
    "df0"
   ]
  },
  {
   "cell_type": "code",
   "execution_count": 45,
   "id": "eb810df1-b3e0-49f7-8525-9daabd275c94",
   "metadata": {},
   "outputs": [
    {
     "data": {
      "text/html": [
       "<div>\n",
       "<style scoped>\n",
       "    .dataframe tbody tr th:only-of-type {\n",
       "        vertical-align: middle;\n",
       "    }\n",
       "\n",
       "    .dataframe tbody tr th {\n",
       "        vertical-align: top;\n",
       "    }\n",
       "\n",
       "    .dataframe thead th {\n",
       "        text-align: right;\n",
       "    }\n",
       "</style>\n",
       "<table border=\"1\" class=\"dataframe\">\n",
       "  <thead>\n",
       "    <tr style=\"text-align: right;\">\n",
       "      <th></th>\n",
       "      <th>1-1</th>\n",
       "      <th>1-2</th>\n",
       "    </tr>\n",
       "  </thead>\n",
       "  <tbody>\n",
       "    <tr>\n",
       "      <th>0</th>\n",
       "      <td>선방</td>\n",
       "      <td>NNG\\tNNG\\tB\\tO\\n</td>\n",
       "    </tr>\n",
       "    <tr>\n",
       "      <th>1</th>\n",
       "      <td>한</td>\n",
       "      <td>XSV~ETM\\tXSV~ETM\\tI\\tO\\n</td>\n",
       "    </tr>\n",
       "    <tr>\n",
       "      <th>2</th>\n",
       "      <td>정성룡</td>\n",
       "      <td>NNP\\tNNP\\tB\\tB-PS\\n</td>\n",
       "    </tr>\n",
       "    <tr>\n",
       "      <th>3</th>\n",
       "      <td>이</td>\n",
       "      <td>JKS\\tJKS\\tI\\tO\\n</td>\n",
       "    </tr>\n",
       "    <tr>\n",
       "      <th>4</th>\n",
       "      <td>볼</td>\n",
       "      <td>NNG\\tNNG\\tB\\tO\\n</td>\n",
       "    </tr>\n",
       "    <tr>\n",
       "      <th>...</th>\n",
       "      <td>...</td>\n",
       "      <td>...</td>\n",
       "    </tr>\n",
       "    <tr>\n",
       "      <th>6940</th>\n",
       "      <td>문화</td>\n",
       "      <td>NNG\\tNNG\\tB\\tO\\n</td>\n",
       "    </tr>\n",
       "    <tr>\n",
       "      <th>6941</th>\n",
       "      <td>체육</td>\n",
       "      <td>NNG\\tNNG\\tI\\tO\\n</td>\n",
       "    </tr>\n",
       "    <tr>\n",
       "      <th>6942</th>\n",
       "      <td>센터</td>\n",
       "      <td>NNG\\tNNG\\tI\\tO\\n</td>\n",
       "    </tr>\n",
       "    <tr>\n",
       "      <th>6943</th>\n",
       "      <td>)</td>\n",
       "      <td>SS\\tSS\\tI\\tO\\n</td>\n",
       "    </tr>\n",
       "    <tr>\n",
       "      <th>6944</th>\n",
       "      <td>\\n</td>\n",
       "      <td>None</td>\n",
       "    </tr>\n",
       "  </tbody>\n",
       "</table>\n",
       "<p>6945 rows × 2 columns</p>\n",
       "</div>"
      ],
      "text/plain": [
       "      1-1                       1-2\n",
       "0      선방          NNG\\tNNG\\tB\\tO\\n\n",
       "1       한  XSV~ETM\\tXSV~ETM\\tI\\tO\\n\n",
       "2     정성룡       NNP\\tNNP\\tB\\tB-PS\\n\n",
       "3       이          JKS\\tJKS\\tI\\tO\\n\n",
       "4       볼          NNG\\tNNG\\tB\\tO\\n\n",
       "...   ...                       ...\n",
       "6940   문화          NNG\\tNNG\\tB\\tO\\n\n",
       "6941   체육          NNG\\tNNG\\tI\\tO\\n\n",
       "6942   센터          NNG\\tNNG\\tI\\tO\\n\n",
       "6943    )            SS\\tSS\\tI\\tO\\n\n",
       "6944   \\n                      None\n",
       "\n",
       "[6945 rows x 2 columns]"
      ]
     },
     "execution_count": 45,
     "metadata": {},
     "output_type": "execute_result"
    }
   ],
   "source": [
    "df = pd.DataFrame(df[0].str.split('/').tolist(),columns=['1-1','1-2'])\n",
    "df"
   ]
  },
  {
   "cell_type": "code",
   "execution_count": 132,
   "id": "d3a3fbc7-c785-481b-beb6-65a896d58163",
   "metadata": {},
   "outputs": [
    {
     "data": {
      "text/html": [
       "<div>\n",
       "<style scoped>\n",
       "    .dataframe tbody tr th:only-of-type {\n",
       "        vertical-align: middle;\n",
       "    }\n",
       "\n",
       "    .dataframe tbody tr th {\n",
       "        vertical-align: top;\n",
       "    }\n",
       "\n",
       "    .dataframe thead th {\n",
       "        text-align: right;\n",
       "    }\n",
       "</style>\n",
       "<table border=\"1\" class=\"dataframe\">\n",
       "  <thead>\n",
       "    <tr style=\"text-align: right;\">\n",
       "      <th></th>\n",
       "      <th>1</th>\n",
       "      <th>2</th>\n",
       "      <th>3</th>\n",
       "      <th>4</th>\n",
       "    </tr>\n",
       "  </thead>\n",
       "  <tbody>\n",
       "    <tr>\n",
       "      <th>0</th>\n",
       "      <td>선방/NNG</td>\n",
       "      <td>NNG</td>\n",
       "      <td>B</td>\n",
       "      <td>O\\n</td>\n",
       "    </tr>\n",
       "    <tr>\n",
       "      <th>1</th>\n",
       "      <td>한/XSV~ETM</td>\n",
       "      <td>XSV~ETM</td>\n",
       "      <td>I</td>\n",
       "      <td>O\\n</td>\n",
       "    </tr>\n",
       "    <tr>\n",
       "      <th>2</th>\n",
       "      <td>정성룡/NNP</td>\n",
       "      <td>NNP</td>\n",
       "      <td>B</td>\n",
       "      <td>B-PS\\n</td>\n",
       "    </tr>\n",
       "    <tr>\n",
       "      <th>3</th>\n",
       "      <td>이/JKS</td>\n",
       "      <td>JKS</td>\n",
       "      <td>I</td>\n",
       "      <td>O\\n</td>\n",
       "    </tr>\n",
       "    <tr>\n",
       "      <th>4</th>\n",
       "      <td>볼/NNG</td>\n",
       "      <td>NNG</td>\n",
       "      <td>B</td>\n",
       "      <td>O\\n</td>\n",
       "    </tr>\n",
       "    <tr>\n",
       "      <th>...</th>\n",
       "      <td>...</td>\n",
       "      <td>...</td>\n",
       "      <td>...</td>\n",
       "      <td>...</td>\n",
       "    </tr>\n",
       "    <tr>\n",
       "      <th>6940</th>\n",
       "      <td>문화/NNG</td>\n",
       "      <td>NNG</td>\n",
       "      <td>B</td>\n",
       "      <td>O\\n</td>\n",
       "    </tr>\n",
       "    <tr>\n",
       "      <th>6941</th>\n",
       "      <td>체육/NNG</td>\n",
       "      <td>NNG</td>\n",
       "      <td>I</td>\n",
       "      <td>O\\n</td>\n",
       "    </tr>\n",
       "    <tr>\n",
       "      <th>6942</th>\n",
       "      <td>센터/NNG</td>\n",
       "      <td>NNG</td>\n",
       "      <td>I</td>\n",
       "      <td>O\\n</td>\n",
       "    </tr>\n",
       "    <tr>\n",
       "      <th>6943</th>\n",
       "      <td>)/SS</td>\n",
       "      <td>SS</td>\n",
       "      <td>I</td>\n",
       "      <td>O\\n</td>\n",
       "    </tr>\n",
       "    <tr>\n",
       "      <th>6944</th>\n",
       "      <td>\\n</td>\n",
       "      <td>None</td>\n",
       "      <td>None</td>\n",
       "      <td>None</td>\n",
       "    </tr>\n",
       "  </tbody>\n",
       "</table>\n",
       "<p>6945 rows × 4 columns</p>\n",
       "</div>"
      ],
      "text/plain": [
       "              1        2     3       4\n",
       "0        선방/NNG      NNG     B     O\\n\n",
       "1     한/XSV~ETM  XSV~ETM     I     O\\n\n",
       "2       정성룡/NNP      NNP     B  B-PS\\n\n",
       "3         이/JKS      JKS     I     O\\n\n",
       "4         볼/NNG      NNG     B     O\\n\n",
       "...         ...      ...   ...     ...\n",
       "6940     문화/NNG      NNG     B     O\\n\n",
       "6941     체육/NNG      NNG     I     O\\n\n",
       "6942     센터/NNG      NNG     I     O\\n\n",
       "6943       )/SS       SS     I     O\\n\n",
       "6944         \\n     None  None    None\n",
       "\n",
       "[6945 rows x 4 columns]"
      ]
     },
     "execution_count": 132,
     "metadata": {},
     "output_type": "execute_result"
    }
   ],
   "source": [
    "df2 = pd.DataFrame(df0[0].str.split('\\t').tolist(),columns=['1','2','3','4'])\n",
    "df2"
   ]
  },
  {
   "cell_type": "code",
   "execution_count": 214,
   "id": "cf7f2222-9647-4d4f-a7ca-0c31b6ca2daa",
   "metadata": {},
   "outputs": [
    {
     "data": {
      "text/html": [
       "<div>\n",
       "<style scoped>\n",
       "    .dataframe tbody tr th:only-of-type {\n",
       "        vertical-align: middle;\n",
       "    }\n",
       "\n",
       "    .dataframe tbody tr th {\n",
       "        vertical-align: top;\n",
       "    }\n",
       "\n",
       "    .dataframe thead th {\n",
       "        text-align: right;\n",
       "    }\n",
       "</style>\n",
       "<table border=\"1\" class=\"dataframe\">\n",
       "  <thead>\n",
       "    <tr style=\"text-align: right;\">\n",
       "      <th></th>\n",
       "      <th>Entity</th>\n",
       "      <th>tag</th>\n",
       "    </tr>\n",
       "  </thead>\n",
       "  <tbody>\n",
       "    <tr>\n",
       "      <th>0</th>\n",
       "      <td>선방</td>\n",
       "      <td>O</td>\n",
       "    </tr>\n",
       "    <tr>\n",
       "      <th>1</th>\n",
       "      <td>한</td>\n",
       "      <td>O</td>\n",
       "    </tr>\n",
       "    <tr>\n",
       "      <th>2</th>\n",
       "      <td>정성룡</td>\n",
       "      <td>B-PS</td>\n",
       "    </tr>\n",
       "    <tr>\n",
       "      <th>3</th>\n",
       "      <td>이</td>\n",
       "      <td>O</td>\n",
       "    </tr>\n",
       "    <tr>\n",
       "      <th>4</th>\n",
       "      <td>볼</td>\n",
       "      <td>O</td>\n",
       "    </tr>\n",
       "    <tr>\n",
       "      <th>...</th>\n",
       "      <td>...</td>\n",
       "      <td>...</td>\n",
       "    </tr>\n",
       "    <tr>\n",
       "      <th>6940</th>\n",
       "      <td>문화</td>\n",
       "      <td>O</td>\n",
       "    </tr>\n",
       "    <tr>\n",
       "      <th>6941</th>\n",
       "      <td>체육</td>\n",
       "      <td>O</td>\n",
       "    </tr>\n",
       "    <tr>\n",
       "      <th>6942</th>\n",
       "      <td>센터</td>\n",
       "      <td>O</td>\n",
       "    </tr>\n",
       "    <tr>\n",
       "      <th>6943</th>\n",
       "      <td>)</td>\n",
       "      <td>O</td>\n",
       "    </tr>\n",
       "    <tr>\n",
       "      <th>6944</th>\n",
       "      <td>\\n</td>\n",
       "      <td>None</td>\n",
       "    </tr>\n",
       "  </tbody>\n",
       "</table>\n",
       "<p>6945 rows × 2 columns</p>\n",
       "</div>"
      ],
      "text/plain": [
       "     Entity   tag\n",
       "0        선방     O\n",
       "1         한     O\n",
       "2       정성룡  B-PS\n",
       "3         이     O\n",
       "4         볼     O\n",
       "...     ...   ...\n",
       "6940     문화     O\n",
       "6941     체육     O\n",
       "6942     센터     O\n",
       "6943      )     O\n",
       "6944     \\n  None\n",
       "\n",
       "[6945 rows x 2 columns]"
      ]
     },
     "execution_count": 214,
     "metadata": {},
     "output_type": "execute_result"
    }
   ],
   "source": [
    "df7 = pd.concat([df['1-1'],df2['4'].str.strip('\\n')],axis = 1)\n",
    "df7 = pd.DataFrame(df7)\n",
    "df7 = df7.rename(columns={'1-1':'Entity','4':'tag'})\n",
    "df7"
   ]
  },
  {
   "cell_type": "code",
   "execution_count": 215,
   "id": "17c197c9-d62d-48c9-92fd-13b07b2be12e",
   "metadata": {},
   "outputs": [
    {
     "data": {
      "text/html": [
       "<div>\n",
       "<style scoped>\n",
       "    .dataframe tbody tr th:only-of-type {\n",
       "        vertical-align: middle;\n",
       "    }\n",
       "\n",
       "    .dataframe tbody tr th {\n",
       "        vertical-align: top;\n",
       "    }\n",
       "\n",
       "    .dataframe thead th {\n",
       "        text-align: right;\n",
       "    }\n",
       "</style>\n",
       "<table border=\"1\" class=\"dataframe\">\n",
       "  <thead>\n",
       "    <tr style=\"text-align: right;\">\n",
       "      <th></th>\n",
       "      <th>Entity</th>\n",
       "      <th>tag</th>\n",
       "    </tr>\n",
       "  </thead>\n",
       "  <tbody>\n",
       "    <tr>\n",
       "      <th>0</th>\n",
       "      <td>선방</td>\n",
       "      <td>O</td>\n",
       "    </tr>\n",
       "    <tr>\n",
       "      <th>1</th>\n",
       "      <td>한</td>\n",
       "      <td>O</td>\n",
       "    </tr>\n",
       "    <tr>\n",
       "      <th>2</th>\n",
       "      <td>정성룡</td>\n",
       "      <td>B-PS</td>\n",
       "    </tr>\n",
       "    <tr>\n",
       "      <th>3</th>\n",
       "      <td>이</td>\n",
       "      <td>O</td>\n",
       "    </tr>\n",
       "    <tr>\n",
       "      <th>4</th>\n",
       "      <td>볼</td>\n",
       "      <td>O</td>\n",
       "    </tr>\n",
       "    <tr>\n",
       "      <th>5</th>\n",
       "      <td>을</td>\n",
       "      <td>O</td>\n",
       "    </tr>\n",
       "    <tr>\n",
       "      <th>6</th>\n",
       "      <td>걷</td>\n",
       "      <td>O</td>\n",
       "    </tr>\n",
       "    <tr>\n",
       "      <th>7</th>\n",
       "      <td>어</td>\n",
       "      <td>O</td>\n",
       "    </tr>\n",
       "    <tr>\n",
       "      <th>8</th>\n",
       "      <td>내</td>\n",
       "      <td>O</td>\n",
       "    </tr>\n",
       "    <tr>\n",
       "      <th>9</th>\n",
       "      <td>고</td>\n",
       "      <td>O</td>\n",
       "    </tr>\n",
       "    <tr>\n",
       "      <th>10</th>\n",
       "      <td>있</td>\n",
       "      <td>O</td>\n",
       "    </tr>\n",
       "    <tr>\n",
       "      <th>11</th>\n",
       "      <td>다</td>\n",
       "      <td>O</td>\n",
       "    </tr>\n",
       "    <tr>\n",
       "      <th>12</th>\n",
       "      <td>.</td>\n",
       "      <td>O</td>\n",
       "    </tr>\n",
       "    <tr>\n",
       "      <th>13</th>\n",
       "      <td>\\n</td>\n",
       "      <td>None</td>\n",
       "    </tr>\n",
       "    <tr>\n",
       "      <th>14</th>\n",
       "      <td>김학범</td>\n",
       "      <td>B-PS</td>\n",
       "    </tr>\n",
       "    <tr>\n",
       "      <th>15</th>\n",
       "      <td>감독</td>\n",
       "      <td>O</td>\n",
       "    </tr>\n",
       "    <tr>\n",
       "      <th>16</th>\n",
       "      <td>이</td>\n",
       "      <td>O</td>\n",
       "    </tr>\n",
       "    <tr>\n",
       "      <th>17</th>\n",
       "      <td>장학영</td>\n",
       "      <td>B-PS</td>\n",
       "    </tr>\n",
       "    <tr>\n",
       "      <th>18</th>\n",
       "      <td>에게</td>\n",
       "      <td>O</td>\n",
       "    </tr>\n",
       "    <tr>\n",
       "      <th>19</th>\n",
       "      <td>작전</td>\n",
       "      <td>O</td>\n",
       "    </tr>\n",
       "    <tr>\n",
       "      <th>20</th>\n",
       "      <td>지시</td>\n",
       "      <td>O</td>\n",
       "    </tr>\n",
       "    <tr>\n",
       "      <th>21</th>\n",
       "      <td>를</td>\n",
       "      <td>O</td>\n",
       "    </tr>\n",
       "    <tr>\n",
       "      <th>22</th>\n",
       "      <td>하</td>\n",
       "      <td>O</td>\n",
       "    </tr>\n",
       "    <tr>\n",
       "      <th>23</th>\n",
       "      <td>고</td>\n",
       "      <td>O</td>\n",
       "    </tr>\n",
       "    <tr>\n",
       "      <th>24</th>\n",
       "      <td>있</td>\n",
       "      <td>O</td>\n",
       "    </tr>\n",
       "    <tr>\n",
       "      <th>25</th>\n",
       "      <td>다</td>\n",
       "      <td>O</td>\n",
       "    </tr>\n",
       "    <tr>\n",
       "      <th>26</th>\n",
       "      <td>.</td>\n",
       "      <td>O</td>\n",
       "    </tr>\n",
       "    <tr>\n",
       "      <th>27</th>\n",
       "      <td>\\n</td>\n",
       "      <td>None</td>\n",
       "    </tr>\n",
       "    <tr>\n",
       "      <th>28</th>\n",
       "      <td>또</td>\n",
       "      <td>O</td>\n",
       "    </tr>\n",
       "    <tr>\n",
       "      <th>29</th>\n",
       "      <td>박지성</td>\n",
       "      <td>B-PS</td>\n",
       "    </tr>\n",
       "    <tr>\n",
       "      <th>30</th>\n",
       "      <td>은</td>\n",
       "      <td>O</td>\n",
       "    </tr>\n",
       "    <tr>\n",
       "      <th>31</th>\n",
       "      <td>지난</td>\n",
       "      <td>B-DT</td>\n",
       "    </tr>\n",
       "    <tr>\n",
       "      <th>32</th>\n",
       "      <td>달</td>\n",
       "      <td>I-DT</td>\n",
       "    </tr>\n",
       "    <tr>\n",
       "      <th>33</th>\n",
       "      <td>16</td>\n",
       "      <td>I-DT</td>\n",
       "    </tr>\n",
       "    <tr>\n",
       "      <th>34</th>\n",
       "      <td>일</td>\n",
       "      <td>I-DT</td>\n",
       "    </tr>\n",
       "    <tr>\n",
       "      <th>35</th>\n",
       "      <td>더비</td>\n",
       "      <td>O</td>\n",
       "    </tr>\n",
       "    <tr>\n",
       "      <th>36</th>\n",
       "      <td>카운티전</td>\n",
       "      <td>O</td>\n",
       "    </tr>\n",
       "    <tr>\n",
       "      <th>37</th>\n",
       "      <td>이후</td>\n",
       "      <td>O</td>\n",
       "    </tr>\n",
       "    <tr>\n",
       "      <th>38</th>\n",
       "      <td>4</td>\n",
       "      <td>O</td>\n",
       "    </tr>\n",
       "    <tr>\n",
       "      <th>39</th>\n",
       "      <td>경기</td>\n",
       "      <td>O</td>\n",
       "    </tr>\n",
       "    <tr>\n",
       "      <th>40</th>\n",
       "      <td>만</td>\n",
       "      <td>O</td>\n",
       "    </tr>\n",
       "    <tr>\n",
       "      <th>41</th>\n",
       "      <td>에</td>\n",
       "      <td>O</td>\n",
       "    </tr>\n",
       "    <tr>\n",
       "      <th>42</th>\n",
       "      <td>프리미어리그</td>\n",
       "      <td>B-OG</td>\n",
       "    </tr>\n",
       "    <tr>\n",
       "      <th>43</th>\n",
       "      <td>경기</td>\n",
       "      <td>O</td>\n",
       "    </tr>\n",
       "    <tr>\n",
       "      <th>44</th>\n",
       "      <td>에</td>\n",
       "      <td>O</td>\n",
       "    </tr>\n",
       "    <tr>\n",
       "      <th>45</th>\n",
       "      <td>출장</td>\n",
       "      <td>O</td>\n",
       "    </tr>\n",
       "    <tr>\n",
       "      <th>46</th>\n",
       "      <td>,</td>\n",
       "      <td>O</td>\n",
       "    </tr>\n",
       "    <tr>\n",
       "      <th>47</th>\n",
       "      <td>지난</td>\n",
       "      <td>B-DT</td>\n",
       "    </tr>\n",
       "    <tr>\n",
       "      <th>48</th>\n",
       "      <td>달</td>\n",
       "      <td>I-DT</td>\n",
       "    </tr>\n",
       "    <tr>\n",
       "      <th>49</th>\n",
       "      <td>2</td>\n",
       "      <td>I-DT</td>\n",
       "    </tr>\n",
       "  </tbody>\n",
       "</table>\n",
       "</div>"
      ],
      "text/plain": [
       "    Entity   tag\n",
       "0       선방     O\n",
       "1        한     O\n",
       "2      정성룡  B-PS\n",
       "3        이     O\n",
       "4        볼     O\n",
       "5        을     O\n",
       "6        걷     O\n",
       "7        어     O\n",
       "8        내     O\n",
       "9        고     O\n",
       "10       있     O\n",
       "11       다     O\n",
       "12       .     O\n",
       "13      \\n  None\n",
       "14     김학범  B-PS\n",
       "15      감독     O\n",
       "16       이     O\n",
       "17     장학영  B-PS\n",
       "18      에게     O\n",
       "19      작전     O\n",
       "20      지시     O\n",
       "21       를     O\n",
       "22       하     O\n",
       "23       고     O\n",
       "24       있     O\n",
       "25       다     O\n",
       "26       .     O\n",
       "27      \\n  None\n",
       "28       또     O\n",
       "29     박지성  B-PS\n",
       "30       은     O\n",
       "31      지난  B-DT\n",
       "32       달  I-DT\n",
       "33      16  I-DT\n",
       "34       일  I-DT\n",
       "35      더비     O\n",
       "36    카운티전     O\n",
       "37      이후     O\n",
       "38       4     O\n",
       "39      경기     O\n",
       "40       만     O\n",
       "41       에     O\n",
       "42  프리미어리그  B-OG\n",
       "43      경기     O\n",
       "44       에     O\n",
       "45      출장     O\n",
       "46       ,     O\n",
       "47      지난  B-DT\n",
       "48       달  I-DT\n",
       "49       2  I-DT"
      ]
     },
     "execution_count": 215,
     "metadata": {},
     "output_type": "execute_result"
    }
   ],
   "source": [
    "df7[:50] # for&if문"
   ]
  },
  {
   "cell_type": "code",
   "execution_count": 219,
   "id": "3ca2005f-31a2-4dec-81d9-796b6bf84bf7",
   "metadata": {
    "tags": []
   },
   "outputs": [
    {
     "ename": "SyntaxError",
     "evalue": "invalid syntax (<ipython-input-219-c385198fa0ff>, line 1)",
     "output_type": "error",
     "traceback": [
      "\u001b[1;36m  File \u001b[1;32m\"<ipython-input-219-c385198fa0ff>\"\u001b[1;36m, line \u001b[1;32m1\u001b[0m\n\u001b[1;33m    lst=[][]\u001b[0m\n\u001b[1;37m           ^\u001b[0m\n\u001b[1;31mSyntaxError\u001b[0m\u001b[1;31m:\u001b[0m invalid syntax\n"
     ]
    }
   ],
   "source": [
    "lst=[][]\n",
    "for i in range(6944):\n",
    "    if df7['tag'][i] != None:\n",
    "        lst.append(df7['Entity'][i])\n",
    "    print(lst)\n",
    "    lst=[]"
   ]
  },
  {
   "cell_type": "code",
   "execution_count": 222,
   "id": "dff2a563-9298-4535-83cf-6a8660e81c95",
   "metadata": {},
   "outputs": [
    {
     "name": "stdout",
     "output_type": "stream",
     "text": [
      "[1, 3, 5, 7, 9, 11]\n"
     ]
    }
   ],
   "source": [
    "lst2=[]\n",
    "for i in range(13):\n",
    "    if i%2 == 1:\n",
    "        lst2.append(i)\n",
    "print(lst2)"
   ]
  },
  {
   "cell_type": "code",
   "execution_count": 133,
   "id": "bc75c47a-5ddb-4777-9d37-bc906c9e6e69",
   "metadata": {
    "tags": []
   },
   "outputs": [
    {
     "ename": "TypeError",
     "evalue": "Object of type DataFrame is not JSON serializable",
     "output_type": "error",
     "traceback": [
      "\u001b[1;31m---------------------------------------------------------------------------\u001b[0m",
      "\u001b[1;31mTypeError\u001b[0m                                 Traceback (most recent call last)",
      "\u001b[1;32m<ipython-input-133-cf5196684177>\u001b[0m in \u001b[0;36m<module>\u001b[1;34m\u001b[0m\n\u001b[0;32m      1\u001b[0m \u001b[1;32mwith\u001b[0m \u001b[0mopen\u001b[0m\u001b[1;33m(\u001b[0m\u001b[0mPATH_preprodata\u001b[0m\u001b[1;33m,\u001b[0m \u001b[1;34m'w'\u001b[0m\u001b[1;33m)\u001b[0m \u001b[1;32mas\u001b[0m \u001b[0mf\u001b[0m\u001b[1;33m:\u001b[0m\u001b[1;33m\u001b[0m\u001b[1;33m\u001b[0m\u001b[0m\n\u001b[1;32m----> 2\u001b[1;33m     \u001b[0mjson\u001b[0m\u001b[1;33m.\u001b[0m\u001b[0mdump\u001b[0m\u001b[1;33m(\u001b[0m\u001b[0mdf7\u001b[0m\u001b[1;33m,\u001b[0m \u001b[0mf\u001b[0m\u001b[1;33m)\u001b[0m\u001b[1;33m\u001b[0m\u001b[1;33m\u001b[0m\u001b[0m\n\u001b[0m",
      "\u001b[1;32m~\\anaconda3\\lib\\json\\__init__.py\u001b[0m in \u001b[0;36mdump\u001b[1;34m(obj, fp, skipkeys, ensure_ascii, check_circular, allow_nan, cls, indent, separators, default, sort_keys, **kw)\u001b[0m\n\u001b[0;32m    177\u001b[0m     \u001b[1;31m# could accelerate with writelines in some versions of Python, at\u001b[0m\u001b[1;33m\u001b[0m\u001b[1;33m\u001b[0m\u001b[1;33m\u001b[0m\u001b[0m\n\u001b[0;32m    178\u001b[0m     \u001b[1;31m# a debuggability cost\u001b[0m\u001b[1;33m\u001b[0m\u001b[1;33m\u001b[0m\u001b[1;33m\u001b[0m\u001b[0m\n\u001b[1;32m--> 179\u001b[1;33m     \u001b[1;32mfor\u001b[0m \u001b[0mchunk\u001b[0m \u001b[1;32min\u001b[0m \u001b[0miterable\u001b[0m\u001b[1;33m:\u001b[0m\u001b[1;33m\u001b[0m\u001b[1;33m\u001b[0m\u001b[0m\n\u001b[0m\u001b[0;32m    180\u001b[0m         \u001b[0mfp\u001b[0m\u001b[1;33m.\u001b[0m\u001b[0mwrite\u001b[0m\u001b[1;33m(\u001b[0m\u001b[0mchunk\u001b[0m\u001b[1;33m)\u001b[0m\u001b[1;33m\u001b[0m\u001b[1;33m\u001b[0m\u001b[0m\n\u001b[0;32m    181\u001b[0m \u001b[1;33m\u001b[0m\u001b[0m\n",
      "\u001b[1;32m~\\anaconda3\\lib\\json\\encoder.py\u001b[0m in \u001b[0;36m_iterencode\u001b[1;34m(o, _current_indent_level)\u001b[0m\n\u001b[0;32m    436\u001b[0m                     \u001b[1;32mraise\u001b[0m \u001b[0mValueError\u001b[0m\u001b[1;33m(\u001b[0m\u001b[1;34m\"Circular reference detected\"\u001b[0m\u001b[1;33m)\u001b[0m\u001b[1;33m\u001b[0m\u001b[1;33m\u001b[0m\u001b[0m\n\u001b[0;32m    437\u001b[0m                 \u001b[0mmarkers\u001b[0m\u001b[1;33m[\u001b[0m\u001b[0mmarkerid\u001b[0m\u001b[1;33m]\u001b[0m \u001b[1;33m=\u001b[0m \u001b[0mo\u001b[0m\u001b[1;33m\u001b[0m\u001b[1;33m\u001b[0m\u001b[0m\n\u001b[1;32m--> 438\u001b[1;33m             \u001b[0mo\u001b[0m \u001b[1;33m=\u001b[0m \u001b[0m_default\u001b[0m\u001b[1;33m(\u001b[0m\u001b[0mo\u001b[0m\u001b[1;33m)\u001b[0m\u001b[1;33m\u001b[0m\u001b[1;33m\u001b[0m\u001b[0m\n\u001b[0m\u001b[0;32m    439\u001b[0m             \u001b[1;32myield\u001b[0m \u001b[1;32mfrom\u001b[0m \u001b[0m_iterencode\u001b[0m\u001b[1;33m(\u001b[0m\u001b[0mo\u001b[0m\u001b[1;33m,\u001b[0m \u001b[0m_current_indent_level\u001b[0m\u001b[1;33m)\u001b[0m\u001b[1;33m\u001b[0m\u001b[1;33m\u001b[0m\u001b[0m\n\u001b[0;32m    440\u001b[0m             \u001b[1;32mif\u001b[0m \u001b[0mmarkers\u001b[0m \u001b[1;32mis\u001b[0m \u001b[1;32mnot\u001b[0m \u001b[1;32mNone\u001b[0m\u001b[1;33m:\u001b[0m\u001b[1;33m\u001b[0m\u001b[1;33m\u001b[0m\u001b[0m\n",
      "\u001b[1;32m~\\anaconda3\\lib\\json\\encoder.py\u001b[0m in \u001b[0;36mdefault\u001b[1;34m(self, o)\u001b[0m\n\u001b[0;32m    177\u001b[0m \u001b[1;33m\u001b[0m\u001b[0m\n\u001b[0;32m    178\u001b[0m         \"\"\"\n\u001b[1;32m--> 179\u001b[1;33m         raise TypeError(f'Object of type {o.__class__.__name__} '\n\u001b[0m\u001b[0;32m    180\u001b[0m                         f'is not JSON serializable')\n\u001b[0;32m    181\u001b[0m \u001b[1;33m\u001b[0m\u001b[0m\n",
      "\u001b[1;31mTypeError\u001b[0m: Object of type DataFrame is not JSON serializable"
     ]
    }
   ],
   "source": [
    "with open(PATH_preprodata, 'w') as f:\n",
    "    json.dump(df7, f)"
   ]
  },
  {
   "cell_type": "code",
   "execution_count": 23,
   "id": "e001e6bc-ca72-4419-abc2-9b6f84d9f9e5",
   "metadata": {},
   "outputs": [
    {
     "ename": "JSONDecodeError",
     "evalue": "Expecting value: line 1 column 1 (char 0)",
     "output_type": "error",
     "traceback": [
      "\u001b[1;31m---------------------------------------------------------------------------\u001b[0m",
      "\u001b[1;31mJSONDecodeError\u001b[0m                           Traceback (most recent call last)",
      "\u001b[1;32m<ipython-input-23-989270331570>\u001b[0m in \u001b[0;36m<module>\u001b[1;34m\u001b[0m\n\u001b[0;32m      1\u001b[0m \u001b[1;32mwith\u001b[0m \u001b[0mopen\u001b[0m\u001b[1;33m(\u001b[0m\u001b[0mPATH_preprodata\u001b[0m\u001b[1;33m,\u001b[0m \u001b[1;34m'r'\u001b[0m\u001b[1;33m)\u001b[0m \u001b[1;32mas\u001b[0m \u001b[0mf\u001b[0m\u001b[1;33m:\u001b[0m\u001b[1;33m\u001b[0m\u001b[1;33m\u001b[0m\u001b[0m\n\u001b[1;32m----> 2\u001b[1;33m     \u001b[0mpreprodata\u001b[0m \u001b[1;33m=\u001b[0m \u001b[0mjson\u001b[0m\u001b[1;33m.\u001b[0m\u001b[0mload\u001b[0m\u001b[1;33m(\u001b[0m\u001b[0mf\u001b[0m\u001b[1;33m)\u001b[0m\u001b[1;33m\u001b[0m\u001b[1;33m\u001b[0m\u001b[0m\n\u001b[0m",
      "\u001b[1;32m~\\anaconda3\\lib\\json\\__init__.py\u001b[0m in \u001b[0;36mload\u001b[1;34m(fp, cls, object_hook, parse_float, parse_int, parse_constant, object_pairs_hook, **kw)\u001b[0m\n\u001b[0;32m    291\u001b[0m     \u001b[0mkwarg\u001b[0m\u001b[1;33m;\u001b[0m \u001b[0motherwise\u001b[0m\u001b[0;31m \u001b[0m\u001b[0;31m`\u001b[0m\u001b[0;31m`\u001b[0m\u001b[0mJSONDecoder\u001b[0m\u001b[0;31m`\u001b[0m\u001b[0;31m`\u001b[0m \u001b[1;32mis\u001b[0m \u001b[0mused\u001b[0m\u001b[1;33m.\u001b[0m\u001b[1;33m\u001b[0m\u001b[1;33m\u001b[0m\u001b[0m\n\u001b[0;32m    292\u001b[0m     \"\"\"\n\u001b[1;32m--> 293\u001b[1;33m     return loads(fp.read(),\n\u001b[0m\u001b[0;32m    294\u001b[0m         \u001b[0mcls\u001b[0m\u001b[1;33m=\u001b[0m\u001b[0mcls\u001b[0m\u001b[1;33m,\u001b[0m \u001b[0mobject_hook\u001b[0m\u001b[1;33m=\u001b[0m\u001b[0mobject_hook\u001b[0m\u001b[1;33m,\u001b[0m\u001b[1;33m\u001b[0m\u001b[1;33m\u001b[0m\u001b[0m\n\u001b[0;32m    295\u001b[0m         \u001b[0mparse_float\u001b[0m\u001b[1;33m=\u001b[0m\u001b[0mparse_float\u001b[0m\u001b[1;33m,\u001b[0m \u001b[0mparse_int\u001b[0m\u001b[1;33m=\u001b[0m\u001b[0mparse_int\u001b[0m\u001b[1;33m,\u001b[0m\u001b[1;33m\u001b[0m\u001b[1;33m\u001b[0m\u001b[0m\n",
      "\u001b[1;32m~\\anaconda3\\lib\\json\\__init__.py\u001b[0m in \u001b[0;36mloads\u001b[1;34m(s, cls, object_hook, parse_float, parse_int, parse_constant, object_pairs_hook, **kw)\u001b[0m\n\u001b[0;32m    355\u001b[0m             \u001b[0mparse_int\u001b[0m \u001b[1;32mis\u001b[0m \u001b[1;32mNone\u001b[0m \u001b[1;32mand\u001b[0m \u001b[0mparse_float\u001b[0m \u001b[1;32mis\u001b[0m \u001b[1;32mNone\u001b[0m \u001b[1;32mand\u001b[0m\u001b[1;33m\u001b[0m\u001b[1;33m\u001b[0m\u001b[0m\n\u001b[0;32m    356\u001b[0m             parse_constant is None and object_pairs_hook is None and not kw):\n\u001b[1;32m--> 357\u001b[1;33m         \u001b[1;32mreturn\u001b[0m \u001b[0m_default_decoder\u001b[0m\u001b[1;33m.\u001b[0m\u001b[0mdecode\u001b[0m\u001b[1;33m(\u001b[0m\u001b[0ms\u001b[0m\u001b[1;33m)\u001b[0m\u001b[1;33m\u001b[0m\u001b[1;33m\u001b[0m\u001b[0m\n\u001b[0m\u001b[0;32m    358\u001b[0m     \u001b[1;32mif\u001b[0m \u001b[0mcls\u001b[0m \u001b[1;32mis\u001b[0m \u001b[1;32mNone\u001b[0m\u001b[1;33m:\u001b[0m\u001b[1;33m\u001b[0m\u001b[1;33m\u001b[0m\u001b[0m\n\u001b[0;32m    359\u001b[0m         \u001b[0mcls\u001b[0m \u001b[1;33m=\u001b[0m \u001b[0mJSONDecoder\u001b[0m\u001b[1;33m\u001b[0m\u001b[1;33m\u001b[0m\u001b[0m\n",
      "\u001b[1;32m~\\anaconda3\\lib\\json\\decoder.py\u001b[0m in \u001b[0;36mdecode\u001b[1;34m(self, s, _w)\u001b[0m\n\u001b[0;32m    335\u001b[0m \u001b[1;33m\u001b[0m\u001b[0m\n\u001b[0;32m    336\u001b[0m         \"\"\"\n\u001b[1;32m--> 337\u001b[1;33m         \u001b[0mobj\u001b[0m\u001b[1;33m,\u001b[0m \u001b[0mend\u001b[0m \u001b[1;33m=\u001b[0m \u001b[0mself\u001b[0m\u001b[1;33m.\u001b[0m\u001b[0mraw_decode\u001b[0m\u001b[1;33m(\u001b[0m\u001b[0ms\u001b[0m\u001b[1;33m,\u001b[0m \u001b[0midx\u001b[0m\u001b[1;33m=\u001b[0m\u001b[0m_w\u001b[0m\u001b[1;33m(\u001b[0m\u001b[0ms\u001b[0m\u001b[1;33m,\u001b[0m \u001b[1;36m0\u001b[0m\u001b[1;33m)\u001b[0m\u001b[1;33m.\u001b[0m\u001b[0mend\u001b[0m\u001b[1;33m(\u001b[0m\u001b[1;33m)\u001b[0m\u001b[1;33m)\u001b[0m\u001b[1;33m\u001b[0m\u001b[1;33m\u001b[0m\u001b[0m\n\u001b[0m\u001b[0;32m    338\u001b[0m         \u001b[0mend\u001b[0m \u001b[1;33m=\u001b[0m \u001b[0m_w\u001b[0m\u001b[1;33m(\u001b[0m\u001b[0ms\u001b[0m\u001b[1;33m,\u001b[0m \u001b[0mend\u001b[0m\u001b[1;33m)\u001b[0m\u001b[1;33m.\u001b[0m\u001b[0mend\u001b[0m\u001b[1;33m(\u001b[0m\u001b[1;33m)\u001b[0m\u001b[1;33m\u001b[0m\u001b[1;33m\u001b[0m\u001b[0m\n\u001b[0;32m    339\u001b[0m         \u001b[1;32mif\u001b[0m \u001b[0mend\u001b[0m \u001b[1;33m!=\u001b[0m \u001b[0mlen\u001b[0m\u001b[1;33m(\u001b[0m\u001b[0ms\u001b[0m\u001b[1;33m)\u001b[0m\u001b[1;33m:\u001b[0m\u001b[1;33m\u001b[0m\u001b[1;33m\u001b[0m\u001b[0m\n",
      "\u001b[1;32m~\\anaconda3\\lib\\json\\decoder.py\u001b[0m in \u001b[0;36mraw_decode\u001b[1;34m(self, s, idx)\u001b[0m\n\u001b[0;32m    353\u001b[0m             \u001b[0mobj\u001b[0m\u001b[1;33m,\u001b[0m \u001b[0mend\u001b[0m \u001b[1;33m=\u001b[0m \u001b[0mself\u001b[0m\u001b[1;33m.\u001b[0m\u001b[0mscan_once\u001b[0m\u001b[1;33m(\u001b[0m\u001b[0ms\u001b[0m\u001b[1;33m,\u001b[0m \u001b[0midx\u001b[0m\u001b[1;33m)\u001b[0m\u001b[1;33m\u001b[0m\u001b[1;33m\u001b[0m\u001b[0m\n\u001b[0;32m    354\u001b[0m         \u001b[1;32mexcept\u001b[0m \u001b[0mStopIteration\u001b[0m \u001b[1;32mas\u001b[0m \u001b[0merr\u001b[0m\u001b[1;33m:\u001b[0m\u001b[1;33m\u001b[0m\u001b[1;33m\u001b[0m\u001b[0m\n\u001b[1;32m--> 355\u001b[1;33m             \u001b[1;32mraise\u001b[0m \u001b[0mJSONDecodeError\u001b[0m\u001b[1;33m(\u001b[0m\u001b[1;34m\"Expecting value\"\u001b[0m\u001b[1;33m,\u001b[0m \u001b[0ms\u001b[0m\u001b[1;33m,\u001b[0m \u001b[0merr\u001b[0m\u001b[1;33m.\u001b[0m\u001b[0mvalue\u001b[0m\u001b[1;33m)\u001b[0m \u001b[1;32mfrom\u001b[0m \u001b[1;32mNone\u001b[0m\u001b[1;33m\u001b[0m\u001b[1;33m\u001b[0m\u001b[0m\n\u001b[0m\u001b[0;32m    356\u001b[0m         \u001b[1;32mreturn\u001b[0m \u001b[0mobj\u001b[0m\u001b[1;33m,\u001b[0m \u001b[0mend\u001b[0m\u001b[1;33m\u001b[0m\u001b[1;33m\u001b[0m\u001b[0m\n",
      "\u001b[1;31mJSONDecodeError\u001b[0m: Expecting value: line 1 column 1 (char 0)"
     ]
    }
   ],
   "source": [
    "with open(PATH_preprodata, 'r') as f:\n",
    "    preprodata = json.load(f)"
   ]
  },
  {
   "cell_type": "code",
   "execution_count": 34,
   "id": "39d4d300-0d15-4ddc-bd3f-72524fbc2f00",
   "metadata": {},
   "outputs": [
    {
     "name": "stdout",
     "output_type": "stream",
     "text": [
      "['이/JKS\\tJKS\\tI\\tO\\n']\n"
     ]
    }
   ],
   "source": [
    "origin = preprodata\n",
    "print(origin[3].split(' '))"
   ]
  },
  {
   "cell_type": "code",
   "execution_count": 32,
   "id": "71dc1adf-063f-40d3-bdce-86a5a702f883",
   "metadata": {},
   "outputs": [
    {
     "name": "stdout",
     "output_type": "stream",
     "text": [
      "1\n",
      "['이']\n",
      "1\n",
      "/\n",
      "1\n",
      "J\n"
     ]
    }
   ],
   "source": [
    "origin = preprodata[3][0].split(' ')\n",
    "print(len(origin))\n",
    "print(origin)\n",
    "\n",
    "print(len(preprodata[3][1]))\n",
    "print(preprodata[3][1])\n",
    "\n",
    "print(len(preprodata[3][2]))\n",
    "print(preprodata[3][2])"
   ]
  },
  {
   "cell_type": "code",
   "execution_count": 11,
   "id": "8937fc0f-e9f0-4d6e-a004-6a3c2cb97bd2",
   "metadata": {},
   "outputs": [
    {
     "data": {
      "application/vnd.jupyter.widget-view+json": {
       "model_id": "5b1ec8bbb3fc487984309a0bdfbca1e2",
       "version_major": 2,
       "version_minor": 0
      },
      "text/plain": [
       "Downloading:   0%|          | 0.00/29.0 [00:00<?, ?B/s]"
      ]
     },
     "metadata": {},
     "output_type": "display_data"
    },
    {
     "data": {
      "application/vnd.jupyter.widget-view+json": {
       "model_id": "45ccfc1599e64c1c8eb1e68d14e94bc8",
       "version_major": 2,
       "version_minor": 0
      },
      "text/plain": [
       "Downloading:   0%|          | 0.00/972k [00:00<?, ?B/s]"
      ]
     },
     "metadata": {},
     "output_type": "display_data"
    },
    {
     "data": {
      "application/vnd.jupyter.widget-view+json": {
       "model_id": "dda99882833840c1bf185be916a276b7",
       "version_major": 2,
       "version_minor": 0
      },
      "text/plain": [
       "Downloading:   0%|          | 0.00/1.87M [00:00<?, ?B/s]"
      ]
     },
     "metadata": {},
     "output_type": "display_data"
    },
    {
     "data": {
      "application/vnd.jupyter.widget-view+json": {
       "model_id": "08ee146fd826402f9cef0c97e8e1994a",
       "version_major": 2,
       "version_minor": 0
      },
      "text/plain": [
       "Downloading:   0%|          | 0.00/625 [00:00<?, ?B/s]"
      ]
     },
     "metadata": {},
     "output_type": "display_data"
    }
   ],
   "source": [
    "PRETAINED_MODEL_NAME = 'bert-base-multilingual-cased'\n",
    "tokenizer = BertTokenizer.from_pretrained(PRETAINED_MODEL_NAME)"
   ]
  },
  {
   "cell_type": "code",
   "execution_count": 12,
   "id": "edb6c98e-79a1-421d-a079-34c15e6d2434",
   "metadata": {},
   "outputs": [],
   "source": [
    "sent_morph = '29 분 마이클 캐릭 의 침투 패스 를 오른쪽 측면 에서 이어받 은 박지성 은 절묘 한 개인기 로 미들즈브러 수비수 를 제친 뒤 골문 으로 강하 고 정확 한 패스 를 넣 었 고 루니 가 이 를 오른발 슛 으로 연결 , 승부 를 원점 으로 돌렸 다 .'\n",
    "sent = '29분 마이클 캐릭의 침투 패스를 오른쪽 측면에서 이어받은 박지성은 절묘한 개인기로 미들즈브러 수비수를 제친 뒤 골문으로 강하고 정확한 패스를 넣었고 루니가 이를 오른발 슛으로 연결, 승부를 원점으로 돌렸다.'"
   ]
  },
  {
   "cell_type": "code",
   "execution_count": 33,
   "id": "a50493b4-0386-4feb-ad3c-9d865685b07b",
   "metadata": {},
   "outputs": [
    {
     "name": "stdout",
     "output_type": "stream",
     "text": [
      "8\n",
      "['이', '/', 'JK', '##S', 'JK', '##S', 'I', 'O']\n"
     ]
    }
   ],
   "source": [
    "morph_to_tokens = tokenizer.tokenize(preprodata[3])\n",
    "print(len(morph_to_tokens))\n",
    "print(morph_to_tokens)"
   ]
  },
  {
   "cell_type": "code",
   "execution_count": 13,
   "id": "b1bfe70e-ee3e-4e07-b038-c1ae2ecf012e",
   "metadata": {},
   "outputs": [
    {
     "name": "stdout",
     "output_type": "stream",
     "text": [
      "73\n",
      "['29', '##분', '마', '##이', '##클', '캐', '##릭', '##의', '침', '##투', '패', '##스를', '오', '##른', '##쪽', '측', '##면', '##에서', '이어', '##받', '##은', '박', '##지', '##성은', '절', '##묘', '##한', '개', '##인', '##기로', '미', '##들', '##즈', '##브', '##러', '수', '##비', '##수를', '제', '##친', '뒤', '골', '##문', '##으로', '강', '##하고', '정', '##확', '##한', '패', '##스를', '넣', '##었고', '루', '##니', '##가', '이를', '오', '##른', '##발', '슛', '##으로', '연', '##결', ',', '승', '##부를', '원', '##점', '##으로', '돌', '##렸다', '.']\n"
     ]
    }
   ],
   "source": [
    "morph_to_tokens = tokenizer.tokenize(sent)\n",
    "print(len(morph_to_tokens))\n",
    "print(morph_to_tokens)"
   ]
  },
  {
   "cell_type": "code",
   "execution_count": 14,
   "id": "b9b2f90e-773f-4609-9105-26fbfa990a85",
   "metadata": {},
   "outputs": [
    {
     "name": "stdout",
     "output_type": "stream",
     "text": [
      "83\n",
      "['29', '분', '마', '##이', '##클', '캐', '##릭', '의', '침', '##투', '패', '##스', '를', '오', '##른', '##쪽', '측', '##면', '에서', '이어', '##받', '은', '박', '##지', '##성', '은', '절', '##묘', '한', '개', '##인', '##기', '로', '미', '##들', '##즈', '##브', '##러', '수', '##비', '##수', '를', '제', '##친', '뒤', '골', '##문', '으로', '강', '##하', '고', '정', '##확', '한', '패', '##스', '를', '넣', '었', '고', '루', '##니', '가', '이', '를', '오', '##른', '##발', '슛', '으로', '연', '##결', ',', '승', '##부', '를', '원', '##점', '으로', '돌', '##렸', '다', '.']\n"
     ]
    }
   ],
   "source": [
    "sent_to_tokens = tokenizer.tokenize(sent_morph)\n",
    "print(len(sent_to_tokens))\n",
    "print(sent_to_tokens)"
   ]
  },
  {
   "cell_type": "code",
   "execution_count": 15,
   "id": "4ab3bcb9-8e35-482b-94b9-1f51b507d1fd",
   "metadata": {},
   "outputs": [
    {
     "name": "stdout",
     "output_type": "stream",
     "text": [
      "torch.Size([1, 85])\n"
     ]
    },
    {
     "data": {
      "text/plain": [
       "{'input_ids': tensor([[   101,  10386,   9367,   9246,  10739, 119327,   9792,  73352,   9637,\n",
       "           9783,  75855,   9909,  12605,   9233,   9580,  37819,  22028,   9776,\n",
       "          14867,  24178,  64749, 118965,   9632,   9319,  12508,  17138,   9632,\n",
       "           9666, 118943,   9954,   8857,  12030,  12310,   9202,   9309,  27023,\n",
       "          24891,  52015,  30873,   9460,  29455,  15891,   9233,   9672,  55358,\n",
       "           9109,   8892,  25934,  29805,   8853,  35506,   8888,   9670, 119445,\n",
       "           9954,   9909,  12605,   9233,   9010,   9557,   8888,   9213,  25503,\n",
       "           8843,   9638,   9233,   9580,  37819,  51431,   9476,  29805,   9568,\n",
       "          74322,    117,   9484,  14646,   9233,   9612,  34907,  29805,   9091,\n",
       "         118881,   9056,    119,    102]]), 'token_type_ids': tensor([[0, 0, 0, 0, 0, 0, 0, 0, 0, 0, 0, 0, 0, 0, 0, 0, 0, 0, 0, 0, 0, 0, 0, 0,\n",
       "         0, 0, 0, 0, 0, 0, 0, 0, 0, 0, 0, 0, 0, 0, 0, 0, 0, 0, 0, 0, 0, 0, 0, 0,\n",
       "         0, 0, 0, 0, 0, 0, 0, 0, 0, 0, 0, 0, 0, 0, 0, 0, 0, 0, 0, 0, 0, 0, 0, 0,\n",
       "         0, 0, 0, 0, 0, 0, 0, 0, 0, 0, 0, 0, 0]]), 'attention_mask': tensor([[1, 1, 1, 1, 1, 1, 1, 1, 1, 1, 1, 1, 1, 1, 1, 1, 1, 1, 1, 1, 1, 1, 1, 1,\n",
       "         1, 1, 1, 1, 1, 1, 1, 1, 1, 1, 1, 1, 1, 1, 1, 1, 1, 1, 1, 1, 1, 1, 1, 1,\n",
       "         1, 1, 1, 1, 1, 1, 1, 1, 1, 1, 1, 1, 1, 1, 1, 1, 1, 1, 1, 1, 1, 1, 1, 1,\n",
       "         1, 1, 1, 1, 1, 1, 1, 1, 1, 1, 1, 1, 1]])}"
      ]
     },
     "execution_count": 15,
     "metadata": {},
     "output_type": "execute_result"
    }
   ],
   "source": [
    "inputs = tokenizer(sent_morph, return_tensors='pt')\n",
    "print(inputs['input_ids'].size())\n",
    "inputs"
   ]
  },
  {
   "cell_type": "code",
   "execution_count": 16,
   "id": "7c6c45af-b963-4b99-a528-0c307a42237f",
   "metadata": {},
   "outputs": [],
   "source": [
    "from transformers import BertModel"
   ]
  },
  {
   "cell_type": "code",
   "execution_count": 17,
   "id": "2d1dd2b6-33c5-4b52-9eae-f32d1fd9b19b",
   "metadata": {},
   "outputs": [
    {
     "data": {
      "application/vnd.jupyter.widget-view+json": {
       "model_id": "22045aaf7bfe4a27b6e3edf9e514b214",
       "version_major": 2,
       "version_minor": 0
      },
      "text/plain": [
       "Downloading:   0%|          | 0.00/681M [00:00<?, ?B/s]"
      ]
     },
     "metadata": {},
     "output_type": "display_data"
    },
    {
     "name": "stderr",
     "output_type": "stream",
     "text": [
      "Some weights of the model checkpoint at bert-base-multilingual-cased were not used when initializing BertModel: ['cls.predictions.transform.dense.bias', 'cls.predictions.transform.LayerNorm.weight', 'cls.predictions.transform.LayerNorm.bias', 'cls.predictions.bias', 'cls.seq_relationship.weight', 'cls.seq_relationship.bias', 'cls.predictions.transform.dense.weight', 'cls.predictions.decoder.weight']\n",
      "- This IS expected if you are initializing BertModel from the checkpoint of a model trained on another task or with another architecture (e.g. initializing a BertForSequenceClassification model from a BertForPreTraining model).\n",
      "- This IS NOT expected if you are initializing BertModel from the checkpoint of a model that you expect to be exactly identical (initializing a BertForSequenceClassification model from a BertForSequenceClassification model).\n"
     ]
    }
   ],
   "source": [
    "PRETAINED_MODEL_NAME = 'bert-base-multilingual-cased'\n",
    "bert = BertModel.from_pretrained(PRETAINED_MODEL_NAME)"
   ]
  },
  {
   "cell_type": "code",
   "execution_count": 18,
   "id": "571dc9bd-5007-4934-a48f-d1c57d585197",
   "metadata": {},
   "outputs": [],
   "source": [
    "outputs = bert(**inputs)"
   ]
  },
  {
   "cell_type": "code",
   "execution_count": 19,
   "id": "0659fdf3-8d30-49ac-9a7f-d8a9c47ead6f",
   "metadata": {},
   "outputs": [
    {
     "data": {
      "text/plain": [
       "odict_keys(['last_hidden_state', 'pooler_output'])"
      ]
     },
     "execution_count": 19,
     "metadata": {},
     "output_type": "execute_result"
    }
   ],
   "source": [
    "outputs.keys()"
   ]
  },
  {
   "cell_type": "code",
   "execution_count": 20,
   "id": "263270be-90fd-4c74-aaa5-791505c90525",
   "metadata": {},
   "outputs": [
    {
     "data": {
      "text/plain": [
       "BaseModelOutputWithPoolingAndCrossAttentions(last_hidden_state=tensor([[[ 0.1460, -0.3585, -0.1289,  ..., -0.0559, -0.0949, -0.0022],\n",
       "         [ 0.4797, -0.2805, -0.3411,  ...,  0.5483, -0.2645,  0.1313],\n",
       "         [ 0.2723, -0.2698,  0.2306,  ...,  0.1069,  0.2373, -0.5147],\n",
       "         ...,\n",
       "         [-0.4482, -0.5314, -0.1884,  ..., -0.4645,  0.2049, -0.6246],\n",
       "         [-0.1095, -0.4616, -0.7723,  ..., -0.0311,  0.1242, -0.2750],\n",
       "         [ 0.2146, -0.3461, -0.3170,  ..., -0.1243,  0.1938, -0.1037]]],\n",
       "       grad_fn=<NativeLayerNormBackward>), pooler_output=tensor([[ 1.4693e-01, -2.6310e-01,  2.1919e-01, -3.1868e-01, -3.4607e-01,\n",
       "          3.1139e-02,  1.9270e-01, -3.6483e-02, -1.0906e-01, -1.0840e-01,\n",
       "         -1.2835e-01,  1.8402e-02, -8.5716e-02,  3.7373e-02,  1.9826e-01,\n",
       "          1.7237e-01, -1.5535e-01,  1.9489e-01,  1.3541e-01,  6.7832e-02,\n",
       "         -9.8824e-01, -2.3051e-01,  1.3823e-01, -1.9326e-01,  3.8057e-02,\n",
       "          2.1562e-01, -3.1980e-01,  1.1865e-01, -7.8593e-03, -3.1718e-01,\n",
       "         -1.2041e-01, -9.9151e-01,  7.0460e-01,  5.8103e-02,  1.5321e-02,\n",
       "          9.2042e-02, -8.8989e-02,  5.3778e-03,  3.9284e-02, -4.2725e-01,\n",
       "         -1.5986e-01,  2.2240e-01, -2.4434e-01, -2.8918e-02,  1.9769e-01,\n",
       "         -9.4554e-02, -8.6381e-02,  2.5499e-01, -1.9613e-01,  1.0308e-01,\n",
       "         -4.0578e-04, -4.3045e-02,  1.4664e-01, -9.8350e-02,  5.0332e-02,\n",
       "         -9.1949e-03, -6.7344e-02,  3.3386e-02,  1.6006e-02, -2.2808e-01,\n",
       "         -7.2080e-02,  1.3213e-01, -1.3966e-01, -1.0865e-01, -1.4206e-01,\n",
       "         -1.5365e-01,  1.0707e-01, -3.1599e-02, -2.5939e-01, -2.2115e-01,\n",
       "         -1.3523e-01,  1.2763e-01, -1.5096e-01, -1.1791e-01,  2.4059e-01,\n",
       "         -1.6526e-02,  2.0536e-01, -9.6995e-03,  4.6029e-02, -1.5866e-01,\n",
       "          9.2289e-02,  1.7697e-01, -2.0533e-01,  9.1443e-02,  4.4853e-03,\n",
       "          2.8385e-01,  2.3279e-03,  2.1889e-02,  1.8160e-01, -1.7581e-01,\n",
       "          3.2597e-01, -1.8326e-01, -1.2887e-01, -1.5653e-01, -2.4280e-01,\n",
       "         -3.6431e-01,  3.7495e-01, -1.5305e-01, -2.1153e-01,  2.4375e-02,\n",
       "         -1.8934e-01,  7.5625e-02,  2.5226e-02, -1.2992e-01, -1.4468e-01,\n",
       "         -2.0606e-01,  1.7244e-01, -2.3711e-02,  6.6078e-02,  1.4506e-01,\n",
       "          3.6078e-02,  2.3050e-01, -2.0197e-01,  1.3149e-02, -6.3825e-03,\n",
       "         -2.4240e-01, -4.8637e-01,  2.1568e-01,  6.0065e-02, -6.8607e-02,\n",
       "          1.2390e-01,  9.9231e-01,  1.0583e-01, -3.0834e-01,  6.8539e-02,\n",
       "          3.3081e-01, -4.9234e-02,  2.0729e-01,  1.1457e-01, -6.1900e-02,\n",
       "          1.5391e-02,  2.1697e-02, -2.8995e-02,  1.1277e-01,  2.0190e-01,\n",
       "         -5.5545e-02, -3.4264e-01,  3.1838e-01,  8.4347e-02,  3.8805e-02,\n",
       "          1.1332e-01, -1.0354e-01,  1.4298e-01, -1.6942e-01, -1.5901e-01,\n",
       "         -1.8267e-01,  3.4208e-01,  2.0685e-01,  9.8893e-01, -2.0196e-01,\n",
       "         -1.7905e-01,  1.8409e-01,  6.5179e-01,  2.0019e-01, -1.1414e-01,\n",
       "         -2.0307e-01, -1.5110e-01,  2.0425e-01,  3.4023e-01,  9.2527e-02,\n",
       "          1.2283e-01, -1.3888e-01, -7.5849e-02,  1.9802e-02,  1.9577e-03,\n",
       "          3.2889e-02,  1.0331e-01,  3.6561e-01, -2.0905e-01,  2.4278e-01,\n",
       "         -1.5572e-01, -2.2034e-02,  2.4772e-01, -2.0630e-01, -1.1454e-01,\n",
       "          1.2847e-01, -2.8891e-03, -2.6328e-01, -1.9071e-01,  3.2436e-02,\n",
       "          1.3861e-01, -2.2351e-01, -2.2916e-01,  1.3819e-01, -2.5233e-01,\n",
       "         -1.0238e-01,  2.8182e-02, -2.7657e-01, -1.5947e-01,  1.3419e-01,\n",
       "         -1.1584e-01, -1.2569e-01, -1.3627e-01,  2.0020e-01,  3.3605e-01,\n",
       "          3.2599e-01, -1.2194e-01, -1.5394e-02,  4.3718e-02,  1.6780e-01,\n",
       "          1.4121e-01, -6.0054e-03,  1.7816e-01,  1.3975e-01, -3.5615e-01,\n",
       "         -6.9233e-01,  1.7165e-01,  6.0510e-02,  3.4252e-02, -1.2569e-01,\n",
       "          1.3773e-01, -7.0119e-02, -3.6538e-01, -3.2887e-02, -4.2393e-02,\n",
       "          1.2380e-01,  2.7666e-01, -2.3416e-01,  2.6082e-02,  1.1320e-01,\n",
       "          1.4168e-02, -3.9665e-01,  4.9203e-02, -3.0531e-01, -8.1944e-02,\n",
       "          6.5007e-03,  2.6433e-01,  1.6212e-01,  2.5322e-01, -1.3867e-01,\n",
       "         -1.6835e-01, -1.2676e-01,  3.2757e-01,  7.7982e-02,  9.3334e-02,\n",
       "         -2.4770e-01,  8.4753e-02,  8.5025e-02,  1.3041e-01, -2.2299e-01,\n",
       "         -7.9884e-02,  6.9304e-02,  5.7598e-02, -4.3258e-01,  2.1452e-01,\n",
       "         -1.2560e-01,  2.9161e-01,  2.5885e-01, -1.0096e-02,  5.0543e-02,\n",
       "          9.7027e-02,  2.5853e-01,  7.5184e-01,  1.0131e-01,  1.1817e-01,\n",
       "         -9.8672e-01,  1.7666e-01,  1.8912e-01,  2.4781e-02, -2.1166e-01,\n",
       "         -1.3790e-02, -7.4352e-02,  1.4330e-01, -3.3543e-01,  2.9322e-01,\n",
       "         -5.0027e-02, -4.1411e-01, -1.0051e-01,  6.7990e-02, -2.1575e-01,\n",
       "         -1.6461e-01, -3.3135e-01, -1.7748e-01, -2.2912e-01,  6.0106e-02,\n",
       "          1.5314e-01, -3.5391e-02, -7.6115e-02, -3.9231e-01,  2.6883e-02,\n",
       "         -3.1541e-02, -1.2467e-01,  2.0475e-01, -9.8893e-01, -8.9809e-02,\n",
       "         -4.7079e-02, -2.1094e-02,  9.1940e-02,  1.9937e-01,  3.7278e-02,\n",
       "          4.5852e-01, -4.6183e-02,  1.1048e-01, -1.4327e-01, -2.4708e-01,\n",
       "          3.5764e-02,  4.1349e-02,  2.1332e-01,  7.8826e-03, -1.2790e-02,\n",
       "          1.1089e-01, -2.7156e-01,  2.2886e-01, -1.6282e-01,  3.8501e-02,\n",
       "          1.9309e-01, -1.0099e-01,  3.0451e-02,  3.3981e-01,  9.9814e-02,\n",
       "         -1.6793e-03, -1.4246e-01,  3.0146e-01,  2.3181e-01,  3.2465e-01,\n",
       "          2.7855e-02, -1.4165e-01, -2.2235e-01, -1.8820e-01, -2.7089e-02,\n",
       "         -9.0321e-02,  4.4588e-03, -2.6895e-01,  9.8943e-01,  1.0826e-01,\n",
       "         -4.0240e-01, -4.9965e-01, -8.6362e-02,  6.4600e-01, -2.3443e-01,\n",
       "         -8.3883e-01, -3.6995e-02, -3.1009e-01,  1.6604e-02,  2.7262e-01,\n",
       "          1.1750e-01,  1.9552e-01,  3.6144e-02,  1.4971e-02, -2.4862e-01,\n",
       "         -6.8791e-04,  3.1402e-02,  2.8254e-01, -3.0966e-01, -1.3256e-01,\n",
       "          2.3270e-01,  6.8089e-02,  2.0109e-01, -7.9060e-01, -2.8037e-01,\n",
       "          1.6240e-01,  2.6957e-01,  1.3857e-01,  1.5560e-01, -9.9707e-02,\n",
       "         -1.5876e-01,  1.3274e-01, -3.6211e-01, -4.7731e-02, -1.3591e-01,\n",
       "         -2.7612e-01,  7.5003e-02, -1.1832e-01,  3.2880e-01,  3.0323e-01,\n",
       "          2.5450e-01,  6.3310e-02, -1.1880e-01, -2.0417e-01, -1.7507e-01,\n",
       "          3.2257e-01, -9.9131e-01,  1.9731e-01,  2.0358e-01, -2.2101e-02,\n",
       "          2.0526e-01,  6.6916e-02,  1.2792e-02,  1.0579e-01,  6.2567e-02,\n",
       "         -3.0648e-02, -6.4193e-02, -3.5082e-02,  2.9878e-01, -1.3063e-01,\n",
       "          2.4304e-01, -4.0369e-01, -2.3821e-01,  3.4338e-01, -2.1368e-01,\n",
       "          2.4766e-01, -1.1831e-01, -2.8665e-01, -1.1482e-02,  8.8957e-02,\n",
       "         -3.6549e-02, -9.8632e-02,  1.9133e-01,  7.9474e-02, -2.4819e-01,\n",
       "          1.8659e-01, -7.1151e-02, -7.5275e-02,  1.1671e-01, -9.1182e-02,\n",
       "         -6.0430e-02, -3.2654e-01, -1.8344e-01,  1.9715e-01,  1.6995e-01,\n",
       "          2.0425e-01,  7.8690e-02, -1.1674e-01, -1.7233e-01, -1.2206e-02,\n",
       "         -7.0825e-02, -7.7796e-02, -2.8736e-01, -2.1435e-01, -2.1108e-01,\n",
       "         -2.3089e-01,  9.9105e-01,  2.0326e-01,  4.5435e-01, -1.5010e-01,\n",
       "         -1.6414e-01,  1.5419e-01,  1.1146e-02,  2.0237e-01,  2.4927e-01,\n",
       "          5.9066e-02,  3.1640e-02,  2.2357e-01,  2.9825e-01,  5.8030e-02,\n",
       "         -1.6181e-02,  3.5954e-01,  1.9172e-01, -7.7489e-02, -3.0215e-01,\n",
       "         -1.6722e-01, -4.0673e-02,  4.2007e-01, -2.8431e-02,  1.1044e-01,\n",
       "          1.4663e-01, -6.5361e-01,  1.0318e-01, -5.2405e-02,  1.1557e-01,\n",
       "         -1.6369e-01,  2.9291e-01, -5.4168e-02,  6.7312e-02, -1.4204e-01,\n",
       "          6.2252e-02,  9.8897e-01, -1.2238e-01,  1.5489e-01,  2.0937e-01,\n",
       "          2.2082e-01, -1.1154e-01, -3.1513e-02, -2.0587e-01, -2.4609e-02,\n",
       "         -8.9123e-02,  2.4312e-01,  4.8532e-01,  1.7681e-01,  2.4853e-01,\n",
       "         -2.3532e-02, -2.3883e-01, -4.4603e-02,  9.2118e-02,  2.2114e-01,\n",
       "         -1.9008e-01, -2.0059e-01, -3.1436e-01,  1.8539e-01, -2.5959e-02,\n",
       "          1.5445e-01, -1.5384e-01,  2.3519e-01, -1.8109e-01,  2.5812e-01,\n",
       "         -8.4526e-02,  1.6225e-01, -3.4690e-01,  6.8516e-02, -1.9736e-01,\n",
       "         -3.9998e-02, -2.1478e-01,  3.4895e-01,  1.6045e-01,  9.8811e-01,\n",
       "         -2.0725e-01,  3.9897e-01, -1.7009e-01,  7.9227e-02, -2.6912e-01,\n",
       "          1.7889e-01, -2.3940e-01, -1.6147e-02,  2.0038e-01,  2.3444e-01,\n",
       "          7.1832e-02,  1.5625e-01, -1.3383e-01, -8.9325e-01, -9.2578e-02,\n",
       "         -1.9623e-01,  5.0905e-02,  1.9796e-01,  3.5402e-01, -2.3627e-01,\n",
       "          2.8191e-01, -1.2433e-01, -5.3557e-02, -5.6392e-01,  1.8786e-01,\n",
       "         -8.2765e-02,  2.0443e-01,  1.3376e-01, -2.3400e-01, -2.0104e-01,\n",
       "          9.8678e-01,  9.8916e-01, -1.2101e-01,  2.3180e-01,  2.3292e-01,\n",
       "          3.6602e-02, -2.8833e-01, -1.0327e-01, -1.1931e-02,  1.0516e-01,\n",
       "         -1.2729e-02,  1.6951e-01,  3.3186e-01, -4.3002e-02,  2.1089e-02,\n",
       "          5.7910e-02,  2.3547e-01,  1.3753e-01, -1.3606e-01, -1.1691e-01,\n",
       "         -4.0535e-02,  9.6824e-02, -1.6943e-01,  2.8301e-01,  1.6287e-01,\n",
       "         -1.0502e-01, -4.4864e-02, -1.1270e-01, -6.6254e-02, -1.6719e-01,\n",
       "         -1.0672e-01,  2.4516e-01, -9.8709e-01, -2.3033e-02, -2.1856e-02,\n",
       "         -2.4765e-01,  1.1014e-01,  1.2848e-01, -4.6300e-02,  2.4913e-02,\n",
       "         -1.2778e-01, -1.1579e-01,  5.4101e-02,  1.5377e-01,  1.7742e-01,\n",
       "         -1.7090e-01, -5.7894e-02,  1.7556e-01,  8.0542e-02,  1.2773e-01,\n",
       "         -1.9751e-01,  2.6544e-03,  2.6134e-01, -5.9954e-03, -4.0408e-01,\n",
       "          1.7863e-01, -2.7198e-01,  5.7601e-02,  2.4320e-01, -8.8704e-02,\n",
       "         -1.3188e-01, -3.1270e-01,  1.2554e-01, -7.5370e-02,  1.6012e-01,\n",
       "          2.2332e-01, -1.6813e-02,  5.1097e-02,  5.8383e-03, -1.4023e-01,\n",
       "         -4.9060e-02, -2.9063e-01, -4.3001e-02,  3.1051e-01, -2.3742e-02,\n",
       "          9.1723e-02,  8.2537e-02, -7.5777e-02,  6.1166e-02,  1.5366e-01,\n",
       "          1.5466e-01, -7.7783e-02, -2.1415e-02,  1.3472e-01, -1.0047e-02,\n",
       "         -1.6481e-01,  8.1142e-02,  5.9451e-02, -8.0713e-02,  3.9685e-02,\n",
       "          9.9142e-01,  2.0339e-01,  5.8901e-02, -1.3259e-01,  1.3515e-01,\n",
       "         -1.7358e-02,  2.9211e-01,  2.0813e-02,  1.2474e-01,  9.5117e-01,\n",
       "         -1.2376e-01,  1.9682e-01,  3.1307e-01,  8.4840e-02, -3.9524e-02,\n",
       "          9.2618e-02, -2.9688e-01, -1.0909e-01,  1.8697e-01,  2.6133e-01,\n",
       "          1.1106e-01,  1.6252e-01,  6.8055e-02,  9.7241e-02, -4.6672e-02,\n",
       "          2.5566e-01, -1.0788e-01, -3.7905e-01,  3.6324e-01, -2.7368e-01,\n",
       "         -1.2302e-01, -3.2205e-02, -7.3783e-02, -2.1963e-01, -4.1031e-02,\n",
       "         -2.0337e-01,  9.6397e-02, -8.5073e-02,  1.0123e-01, -3.0856e-02,\n",
       "         -8.0471e-02, -1.7894e-01, -1.1523e-01, -1.6469e-01,  3.3053e-03,\n",
       "          2.5085e-01, -3.3351e-01,  6.7399e-02,  4.1329e-01,  6.0443e-02,\n",
       "          5.4544e-02, -8.1754e-02,  9.9721e-03, -6.0719e-01,  2.9776e-01,\n",
       "          1.6095e-01, -2.7972e-01,  1.4470e-01, -1.6334e-01,  3.4730e-01,\n",
       "          8.7671e-03, -1.2850e-01,  2.2160e-01, -9.8677e-01,  2.1285e-02,\n",
       "          2.3954e-01,  3.8324e-02, -3.9046e-03,  1.5183e-01,  2.0265e-01,\n",
       "         -4.5094e-02,  3.1300e-02, -2.7715e-01, -3.5191e-01, -1.6524e-02,\n",
       "         -3.0011e-01,  2.2918e-01,  2.6415e-01,  8.7374e-02, -1.5577e-01,\n",
       "         -1.4365e-01,  1.4241e-01,  3.3795e-01,  1.2900e-01, -1.7934e-01,\n",
       "          1.8974e-01, -8.1449e-02,  1.5656e-01, -1.8571e-01,  1.2323e-01,\n",
       "         -8.6118e-02,  1.4614e-01,  2.7546e-01, -1.5875e-01,  1.5810e-01,\n",
       "         -1.7877e-01,  3.5793e-01, -2.0746e-01,  1.0751e-01,  2.1655e-01,\n",
       "          2.8745e-02,  2.8212e-02, -1.5966e-01,  5.8851e-02,  1.1080e-01,\n",
       "          2.6540e-01,  4.8638e-01,  9.1907e-02, -2.1725e-01, -3.3214e-01,\n",
       "         -1.6402e-01,  1.4048e-01,  4.9535e-03,  6.9155e-02, -4.6030e-02,\n",
       "          1.8070e-01,  4.5719e-06,  8.8719e-03, -4.5350e-02, -1.1412e-02,\n",
       "         -6.0759e-02, -3.3841e-01,  8.0474e-02, -3.6669e-01, -1.4737e-02,\n",
       "         -8.0037e-02,  9.5055e-02, -9.7771e-02,  1.3927e-01,  4.0155e-01,\n",
       "         -1.7556e-01, -2.3331e-01, -1.9772e-01,  4.0255e-02,  2.2133e-01,\n",
       "          1.7423e-01,  1.6680e-01, -9.8435e-02,  2.6950e-01, -2.2400e-01,\n",
       "         -1.7019e-01,  8.5959e-01,  5.6520e-02, -8.5252e-02,  1.6675e-01,\n",
       "          1.8807e-01,  9.0368e-01,  2.9597e-02, -1.8007e-01,  1.5088e-02,\n",
       "         -2.6295e-01,  2.4349e-01,  4.9724e-02]], grad_fn=<TanhBackward>), hidden_states=None, past_key_values=None, attentions=None, cross_attentions=None)"
      ]
     },
     "execution_count": 20,
     "metadata": {},
     "output_type": "execute_result"
    }
   ],
   "source": [
    "outputs"
   ]
  },
  {
   "cell_type": "code",
   "execution_count": null,
   "id": "3f0a2951-9e3a-4e1a-9daa-66c5f6f0279c",
   "metadata": {},
   "outputs": [],
   "source": []
  }
 ],
 "metadata": {
  "kernelspec": {
   "display_name": "Python 3",
   "language": "python",
   "name": "python3"
  },
  "language_info": {
   "codemirror_mode": {
    "name": "ipython",
    "version": 3
   },
   "file_extension": ".py",
   "mimetype": "text/x-python",
   "name": "python",
   "nbconvert_exporter": "python",
   "pygments_lexer": "ipython3",
   "version": "3.8.8"
  }
 },
 "nbformat": 4,
 "nbformat_minor": 5
}
