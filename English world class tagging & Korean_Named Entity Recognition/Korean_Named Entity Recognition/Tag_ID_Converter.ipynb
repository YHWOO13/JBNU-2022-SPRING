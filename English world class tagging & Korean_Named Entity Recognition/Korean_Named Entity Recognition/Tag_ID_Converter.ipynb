{
 "cells": [
  {
   "cell_type": "code",
   "execution_count": 5,
   "id": "fb0efa97-4f5f-4e43-b964-b8f923131013",
   "metadata": {},
   "outputs": [],
   "source": [
    "import os\n",
    "import json"
   ]
  },
  {
   "cell_type": "code",
   "execution_count": 2,
   "id": "8f838431-80fc-4609-bdeb-fc3cb3960036",
   "metadata": {},
   "outputs": [],
   "source": [
    "PATH_dir = 'C:\\\\Users\\\\LG\\\\Desktop\\\\github\\\\JBNU-2022-SPRING\\\\English world class tagging & Korean_Named Entity Recognition\\\\Ko_En_NER_POStag_data\\Ko_NER_POS'"
   ]
  },
  {
   "cell_type": "code",
   "execution_count": 57,
   "id": "e00c4aa6-8d01-4064-baa9-e498f29fbdb1",
   "metadata": {},
   "outputs": [],
   "source": [
    "file_name_tag_train = 'prepro_train_tag.json'\n",
    "file_name_tag_test = 'prepro_test_tag.json'\n",
    "file_name_tag_dev = 'prepro_dev_tag.json'\n",
    "\n",
    "file_name_total_tag = 'total_tag.json'"
   ]
  },
  {
   "cell_type": "code",
   "execution_count": 58,
   "id": "8d6f62fb-edcb-4ff5-a281-1347a76991f2",
   "metadata": {},
   "outputs": [],
   "source": [
    "tag_train_data = os.path.join(PATH_dir, file_name_tag_train)\n",
    "tag_test_data = os.path.join(PATH_dir, file_name_tag_test)\n",
    "tag_dev_data = os.path.join(PATH_dir, file_name_tag_dev)\n",
    "total_tag = os.path.join(PATH_dir, file_name_total_tag)"
   ]
  },
  {
   "cell_type": "code",
   "execution_count": 69,
   "id": "29688397-608c-45d4-b454-d534916760d5",
   "metadata": {},
   "outputs": [
    {
     "name": "stdout",
     "output_type": "stream",
     "text": [
      "C:\\Users\\LG\\Desktop\\github\\JBNU-2022-SPRING\\English world class tagging & Korean_Named Entity Recognition\\Ko_En_NER_POStag_data\\Ko_NER_POS\\prepro_dev_tag.json\n"
     ]
    }
   ],
   "source": [
    "print(tag_dev_data)"
   ]
  },
  {
   "cell_type": "code",
   "execution_count": 70,
   "id": "cc11a80b-8ae8-4796-bd35-f09aea5418f5",
   "metadata": {
    "jupyter": {
     "source_hidden": true
    },
    "tags": []
   },
   "outputs": [],
   "source": [
    "with open(tag_train_data, \"r\", encoding=\"utf8\") as f: \n",
    "    contents_train = f.read() # string 타입 \n",
    "    train_tag_data = json.loads(contents_train)"
   ]
  },
  {
   "cell_type": "code",
   "execution_count": 71,
   "id": "81855d07-22bb-4dd7-982a-606a01c2334e",
   "metadata": {},
   "outputs": [],
   "source": [
    "with open(tag_test_data, \"r\", encoding=\"utf8\") as f: \n",
    "    contents_test = f.read() # string 타입 \n",
    "    test_tag_data = json.loads(contents_test)"
   ]
  },
  {
   "cell_type": "code",
   "execution_count": 72,
   "id": "e1b956c6-64a8-4abe-b46b-317262e4ee48",
   "metadata": {},
   "outputs": [],
   "source": [
    "with open(tag_dev_data, \"r\", encoding=\"utf8\") as f: \n",
    "    contents_dev = f.read() # string 타입 \n",
    "    dev_tag_data = json.loads(contents_dev)"
   ]
  },
  {
   "cell_type": "code",
   "execution_count": 73,
   "id": "43ea42c1-f5e5-4311-b6ef-54a48598d993",
   "metadata": {},
   "outputs": [
    {
     "name": "stdout",
     "output_type": "stream",
     "text": [
      "['B-PS', 'I-<휠', 'I-LC', 'B-<휠', 'I-목소', 'B-DT', 'B-목소', 'B-OG', 'I-PS', 'O', 'B-LC', 'I-', 'I-DT', 'I-OG', 'B-TI', 'B-조선', 'B-', 'I-조선', 'I-TI']\n"
     ]
    }
   ],
   "source": [
    "print(train_tag_data)"
   ]
  },
  {
   "cell_type": "code",
   "execution_count": 74,
   "id": "1871ee55-06d5-453a-84f3-da888aa17944",
   "metadata": {},
   "outputs": [
    {
     "name": "stdout",
     "output_type": "stream",
     "text": [
      "['I-1', 'I-PS', 'I-DT', 'I-LC', 'O', 'B-PS', 'B-LC', 'B-TI', 'B-OG', 'I-TI', 'B-1', 'B-DT', 'I-OG']\n"
     ]
    }
   ],
   "source": [
    "print(test_tag_data)"
   ]
  },
  {
   "cell_type": "code",
   "execution_count": 75,
   "id": "2989f0da-51d1-4269-a095-95d49d755734",
   "metadata": {},
   "outputs": [
    {
     "name": "stdout",
     "output_type": "stream",
     "text": [
      "['I-PS', 'I-TI', 'I-OG', 'B-LC', 'B-OG', 'O', 'B-', 'I-DT', 'B-DT', 'B-PS', 'B-TI', 'I-LC', 'I-']\n"
     ]
    }
   ],
   "source": [
    "print(dev_tag_data)"
   ]
  },
  {
   "cell_type": "code",
   "execution_count": 76,
   "id": "58427067-b8e4-4198-97ca-73b030fb7fb3",
   "metadata": {},
   "outputs": [],
   "source": [
    "union = list(set().union(train_tag_data,test_tag_data))\n",
    "union = list(set().union(union,dev_tag_data))"
   ]
  },
  {
   "cell_type": "code",
   "execution_count": 78,
   "id": "81fd30e8-9d8a-474e-80f6-74539ab116e5",
   "metadata": {},
   "outputs": [
    {
     "name": "stdout",
     "output_type": "stream",
     "text": [
      "['B-DT', 'B-TI', 'I-DT', 'B-', 'I-OG', 'B-조선', 'I-', 'I-1', 'I-목소', 'O', 'B-목소', 'I-TI', 'B-PS', 'I-LC', 'I-<휠', 'B-1', 'B-LC', 'I-PS', 'I-조선', 'B-OG', 'B-<휠']\n"
     ]
    }
   ],
   "source": [
    "print(union)\n",
    "union.append('[PAD]')"
   ]
  },
  {
   "cell_type": "code",
   "execution_count": 79,
   "id": "de426bb4-52e8-4ed4-86fa-6748f21ddddd",
   "metadata": {},
   "outputs": [],
   "source": [
    "union.reverse()"
   ]
  },
  {
   "cell_type": "code",
   "execution_count": 80,
   "id": "e6449bd3-781a-420c-8235-622d84ed9611",
   "metadata": {},
   "outputs": [
    {
     "name": "stdout",
     "output_type": "stream",
     "text": [
      "['[PAD]', 'B-<휠', 'B-OG', 'I-조선', 'I-PS', 'B-LC', 'B-1', 'I-<휠', 'I-LC', 'B-PS', 'I-TI', 'B-목소', 'O', 'I-목소', 'I-1', 'I-', 'B-조선', 'I-OG', 'B-', 'I-DT', 'B-TI', 'B-DT']\n"
     ]
    }
   ],
   "source": [
    "print(union)"
   ]
  },
  {
   "cell_type": "code",
   "execution_count": 81,
   "id": "7a2bba1f-c6ab-4ef7-aaed-8ee01e94b136",
   "metadata": {},
   "outputs": [],
   "source": [
    "dictionary = {string : i for string, i in enumerate(union)}"
   ]
  },
  {
   "cell_type": "code",
   "execution_count": 82,
   "id": "ba744d66-74b4-4db0-9bb2-9441ce0e12a2",
   "metadata": {},
   "outputs": [
    {
     "name": "stdout",
     "output_type": "stream",
     "text": [
      "{0: '[PAD]', 1: 'B-<휠', 2: 'B-OG', 3: 'I-조선', 4: 'I-PS', 5: 'B-LC', 6: 'B-1', 7: 'I-<휠', 8: 'I-LC', 9: 'B-PS', 10: 'I-TI', 11: 'B-목소', 12: 'O', 13: 'I-목소', 14: 'I-1', 15: 'I-', 16: 'B-조선', 17: 'I-OG', 18: 'B-', 19: 'I-DT', 20: 'B-TI', 21: 'B-DT'}\n"
     ]
    }
   ],
   "source": [
    "print(dictionary)"
   ]
  },
  {
   "cell_type": "code",
   "execution_count": 83,
   "id": "ee9afcd7-31b4-44b3-a930-b2f44067acab",
   "metadata": {},
   "outputs": [],
   "source": [
    "with open(total_tag, 'w') as f:\n",
    "    json.dump(dictionary, f)\n",
    "with open(total_tag, 'r') as f:\n",
    "    total = json.load(f)"
   ]
  },
  {
   "cell_type": "code",
   "execution_count": 84,
   "id": "958de643-4d1c-41b9-8956-0e951dab905a",
   "metadata": {},
   "outputs": [
    {
     "name": "stdout",
     "output_type": "stream",
     "text": [
      "{'[PAD]': 0, 'B-<휠': 1, 'B-OG': 2, 'I-조선': 3, 'I-PS': 4, 'B-LC': 5, 'B-1': 6, 'I-<휠': 7, 'I-LC': 8, 'B-PS': 9, 'I-TI': 10, 'B-목소': 11, 'O': 12, 'I-목소': 13, 'I-1': 14, 'I-': 15, 'B-조선': 16, 'I-OG': 17, 'B-': 18, 'I-DT': 19, 'B-TI': 20, 'B-DT': 21}\n"
     ]
    }
   ],
   "source": [
    "tag_to_id = {string : i for i,string in enumerate(union)}\n",
    "print(tag_to_id)"
   ]
  },
  {
   "cell_type": "code",
   "execution_count": null,
   "id": "327fae1b-f6c3-4cb2-a370-019908fc9354",
   "metadata": {},
   "outputs": [],
   "source": []
  }
 ],
 "metadata": {
  "kernelspec": {
   "display_name": "Python 3",
   "language": "python",
   "name": "python3"
  },
  "language_info": {
   "codemirror_mode": {
    "name": "ipython",
    "version": 3
   },
   "file_extension": ".py",
   "mimetype": "text/x-python",
   "name": "python",
   "nbconvert_exporter": "python",
   "pygments_lexer": "ipython3",
   "version": "3.8.8"
  }
 },
 "nbformat": 4,
 "nbformat_minor": 5
}
