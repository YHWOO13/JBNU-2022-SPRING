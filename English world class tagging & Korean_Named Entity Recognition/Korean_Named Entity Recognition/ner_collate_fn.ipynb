{
 "cells": [
  {
   "cell_type": "markdown",
   "id": "e86d1ea9-c832-40c9-87e5-703d43c198d5",
   "metadata": {},
   "source": [
    "# Author: Yoonhyuck WOO / JBNU_Industrial Information system Engineering\n",
    "# Date; 2. 22. 2022 - 2. . 2022\n",
    "# Title: Korean_NER\n",
    "# Professor: Seung-Hoon Na"
   ]
  },
  {
   "cell_type": "code",
   "execution_count": 3,
   "id": "4e514007-9a31-45ab-8794-c563a1242ea0",
   "metadata": {},
   "outputs": [],
   "source": [
    "import os\n",
    "import torch\n",
    "from torch.utils.data import Dataset, DataLoader\n",
    "import random"
   ]
  },
  {
   "cell_type": "code",
   "execution_count": 4,
   "id": "c979a59a-ee54-43b4-890a-c25a6f9609d6",
   "metadata": {},
   "outputs": [],
   "source": [
    "def make_random_len_data_list(min_len, max_len, num_data):\n",
    "    random_data = []\n",
    "    \n",
    "    for i in range(num_data):\n",
    "        sample_len = random.randrange(min_len, max_len)\n",
    "        sample = [random.randint(0, 9) for ii in range(sample_len)]\n",
    "        random_data.append(sample)\n",
    "    \n",
    "    return random_data"
   ]
  },
  {
   "cell_type": "code",
   "execution_count": 5,
   "id": "4746e9a6-0a7f-403f-988d-cd090c3007d4",
   "metadata": {},
   "outputs": [
    {
     "data": {
      "text/plain": [
       "[[6, 5, 1, 0, 3, 8, 8, 6, 0, 7, 1, 3],\n",
       " [2, 9, 3, 4, 5, 5, 0, 4, 2, 6, 9, 7, 0, 6, 1, 7, 9, 5, 2],\n",
       " [2, 9, 4, 8, 0, 5, 5, 8, 0, 0, 7],\n",
       " [9, 8, 3, 5, 1, 5, 7, 3, 4, 2, 3],\n",
       " [2, 2, 3, 0, 8, 6, 8, 5, 3, 7, 7],\n",
       " [3, 8, 7, 1, 1, 2, 8, 2, 0, 3],\n",
       " [0, 2, 4, 1, 2, 1, 2, 0, 6, 6, 2, 1],\n",
       " [0, 3, 4, 0, 8, 7, 2, 9, 8, 2],\n",
       " [5, 6, 6, 7, 8, 1, 4, 6, 0, 7, 9, 5, 1],\n",
       " [8, 2, 8, 3, 0, 8, 1, 5, 8, 9, 4, 2, 9]]"
      ]
     },
     "execution_count": 5,
     "metadata": {},
     "output_type": "execute_result"
    }
   ],
   "source": [
    "make_random_len_data_list(10, 20, 10)"
   ]
  },
  {
   "cell_type": "markdown",
   "id": "9d5b05fe-1065-465b-9321-435cc9541040",
   "metadata": {},
   "source": [
    "# __getitem__\n",
    " - If slicing is performed in the list while helping to implement slicing, it is important that the '__getitem__ ' method is executed internally. Therefore, the __getitem__ method is essential to slice on an object.\n",
    " - In order to implement slicing through the object itself without direct access to the instance variable, the **getitem special method must be defined.** And this function must receive the index as an argument.\n",
    " \n",
    " # __len__\n",
    "- By defining a __len_() function in the class, an instance of the class may be transferred to the __len_() function."
   ]
  },
  {
   "cell_type": "code",
   "execution_count": 6,
   "id": "e5fee535-2839-464f-8465-149b17f1636b",
   "metadata": {},
   "outputs": [],
   "source": [
    "class Dataset_custom(Dataset):\n",
    "    def __init__(self, data):\n",
    "        self.x = data\n",
    "    \n",
    "    def __len__(self):\n",
    "        return len(self.x)\n",
    "    \n",
    "    def __getitem__(self, idx):\n",
    "        return self.x[idx]"
   ]
  },
  {
   "cell_type": "markdown",
   "id": "96a9d258-5e7c-44e8-ae48-45a60189e3c0",
   "metadata": {},
   "source": [
    "# Padding"
   ]
  },
  {
   "cell_type": "code",
   "execution_count": 25,
   "id": "1511b45c-96e4-4a53-8e9a-4d20e3181443",
   "metadata": {},
   "outputs": [],
   "source": [
    "def make_same_len(batch):\n",
    "    \n",
    "    each_len_list = [len(sample) for sample in batch]\n",
    "    print('each_len_list', each_len_list)\n",
    "    \n",
    "    max_len = max(each_len_list)\n",
    "    \n",
    "    padded_batch = []\n",
    "    pad_id = 0\n",
    "    \n",
    "    for sample in batch:\n",
    "        padded_batch.append(sample + [pad_id] * (max_len - len(sample)))\n",
    "    \n",
    "    return padded_batch"
   ]
  },
  {
   "cell_type": "code",
   "execution_count": 26,
   "id": "85291096-1097-4e80-a4f6-f29dd6bc422d",
   "metadata": {},
   "outputs": [
    {
     "name": "stdout",
     "output_type": "stream",
     "text": [
      "each_len_list [2, 7, 4, 4, 9]\n",
      "rand\n",
      "[[2, 7], [1, 5, 3, 8, 6, 1, 1], [5, 4, 1, 7], [7, 8, 6, 1], [9, 8, 6, 1, 9, 1, 7, 1, 7]]\n",
      "example\n",
      "[[2, 7, 0, 0, 0, 0, 0, 0, 0], [1, 5, 3, 8, 6, 1, 1, 0, 0], [5, 4, 1, 7, 0, 0, 0, 0, 0], [7, 8, 6, 1, 0, 0, 0, 0, 0], [9, 8, 6, 1, 9, 1, 7, 1, 7]]\n"
     ]
    }
   ],
   "source": [
    "rand = make_random_len_data_list(2, 11, 5) # (min_len, max_len, num_data)\n",
    "example = make_same_len(rand)\n",
    "\n",
    "print('rand')\n",
    "print(rand)\n",
    "print('example')\n",
    "print(example)"
   ]
  },
  {
   "cell_type": "code",
   "execution_count": 18,
   "id": "f1200f6b-b35f-4bae-ba2b-5fd0a352f1bf",
   "metadata": {},
   "outputs": [],
   "source": [
    "def collate_fn_custom(batch):\n",
    "    \n",
    "    padded_batch = make_same_len(batch)\n",
    "    \n",
    "    padded_batch = torch.tensor(padded_batch)\n",
    "    \n",
    "    return padded_batch"
   ]
  },
  {
   "cell_type": "code",
   "execution_count": 9,
   "id": "ba2b38fa-60cd-4d1b-8335-0fa827b2eb4e",
   "metadata": {},
   "outputs": [],
   "source": [
    "rd = make_random_len_data_list(10, 20, 10)\n",
    "ds = Dataset_custom(rd)"
   ]
  },
  {
   "cell_type": "code",
   "execution_count": 10,
   "id": "2dc53216-4d48-4966-b9e7-5a6557dfcb68",
   "metadata": {},
   "outputs": [
    {
     "name": "stdout",
     "output_type": "stream",
     "text": [
      "10\n"
     ]
    },
    {
     "data": {
      "text/plain": [
       "[[8, 5, 6, 1, 5, 0, 9, 5, 3, 9, 5, 3, 5, 4, 3, 5],\n",
       " [2, 1, 2, 1, 5, 0, 6, 0, 9, 8, 1],\n",
       " [4, 7, 2, 8, 6, 9, 3, 8, 5, 6, 9, 1, 8, 8, 0, 0, 7, 6, 8]]"
      ]
     },
     "execution_count": 10,
     "metadata": {},
     "output_type": "execute_result"
    }
   ],
   "source": [
    "print(len(ds))\n",
    "ds[0:3]"
   ]
  },
  {
   "cell_type": "code",
   "execution_count": 11,
   "id": "4a261936-6746-4a00-b657-4d084b4595e7",
   "metadata": {},
   "outputs": [
    {
     "data": {
      "text/plain": [
       "tensor([[8, 5, 6, 1, 5, 0, 9, 5, 3, 9, 5, 3, 5, 4, 3, 5, 0, 0, 0],\n",
       "        [2, 1, 2, 1, 5, 0, 6, 0, 9, 8, 1, 0, 0, 0, 0, 0, 0, 0, 0],\n",
       "        [4, 7, 2, 8, 6, 9, 3, 8, 5, 6, 9, 1, 8, 8, 0, 0, 7, 6, 8]])"
      ]
     },
     "execution_count": 11,
     "metadata": {},
     "output_type": "execute_result"
    }
   ],
   "source": [
    "collate_fn_custom(ds[0:3])"
   ]
  },
  {
   "cell_type": "code",
   "execution_count": 12,
   "id": "af796981-d0d4-43f2-8704-a1edb89c6c34",
   "metadata": {},
   "outputs": [],
   "source": [
    "dl = DataLoader (\n",
    "    ds,\n",
    "    batch_size = 2,\n",
    "    shuffle = True,\n",
    "    collate_fn = collate_fn_custom\n",
    ")"
   ]
  },
  {
   "cell_type": "code",
   "execution_count": 13,
   "id": "703933d8-f37b-43ad-b80c-e9893ff5f6d1",
   "metadata": {},
   "outputs": [
    {
     "name": "stdout",
     "output_type": "stream",
     "text": [
      "tensor([[1, 7, 4, 4, 4, 4, 5, 9, 1, 4, 1, 9, 1, 3, 2],\n",
      "        [7, 0, 5, 9, 4, 0, 9, 9, 6, 8, 0, 0, 0, 0, 0]])\n",
      "tensor([[8, 9, 7, 0, 2, 4, 8, 8, 4, 3, 7, 4, 4, 8, 4, 3, 1],\n",
      "        [9, 6, 0, 0, 7, 2, 6, 5, 4, 6, 0, 0, 0, 0, 0, 0, 0]])\n",
      "tensor([[8, 5, 6, 1, 5, 0, 9, 5, 3, 9, 5, 3, 5, 4, 3, 5, 0, 0, 0],\n",
      "        [4, 7, 2, 8, 6, 9, 3, 8, 5, 6, 9, 1, 8, 8, 0, 0, 7, 6, 8]])\n",
      "tensor([[1, 9, 8, 6, 8, 3, 0, 4, 3, 9, 1, 7, 3, 0],\n",
      "        [5, 9, 0, 6, 8, 7, 4, 7, 5, 5, 5, 2, 6, 1]])\n",
      "tensor([[5, 4, 3, 2, 0, 5, 4, 7, 3, 7, 2, 8, 5],\n",
      "        [2, 1, 2, 1, 5, 0, 6, 0, 9, 8, 1, 0, 0]])\n"
     ]
    }
   ],
   "source": [
    "for i, batch in enumerate(dl):\n",
    "    print(batch)"
   ]
  },
  {
   "cell_type": "code",
   "execution_count": null,
   "id": "4b6738f2-62f3-4dad-b553-98738c1e138a",
   "metadata": {},
   "outputs": [],
   "source": []
  },
  {
   "cell_type": "code",
   "execution_count": null,
   "id": "17b78798-48f1-4dc1-8be9-717f270b2aa5",
   "metadata": {},
   "outputs": [],
   "source": []
  },
  {
   "cell_type": "code",
   "execution_count": null,
   "id": "3d3e2df3-bd4f-4abd-a0b8-b0670111bf3a",
   "metadata": {},
   "outputs": [],
   "source": []
  }
 ],
 "metadata": {
  "kernelspec": {
   "display_name": "Python 3",
   "language": "python",
   "name": "python3"
  },
  "language_info": {
   "codemirror_mode": {
    "name": "ipython",
    "version": 3
   },
   "file_extension": ".py",
   "mimetype": "text/x-python",
   "name": "python",
   "nbconvert_exporter": "python",
   "pygments_lexer": "ipython3",
   "version": "3.8.8"
  }
 },
 "nbformat": 4,
 "nbformat_minor": 5
}
