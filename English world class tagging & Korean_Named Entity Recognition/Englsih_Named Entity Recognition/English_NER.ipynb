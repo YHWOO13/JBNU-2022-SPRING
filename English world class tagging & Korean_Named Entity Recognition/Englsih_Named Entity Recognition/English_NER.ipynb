{
 "cells": [
  {
   "cell_type": "markdown",
   "metadata": {
    "id": "hFzP_qpX0Kql"
   },
   "source": [
    "# Author: Yoonhyuck WOO / JBNU_Industrial Information system Engineering\n",
    "# Date; 4. 8. 2022 - 4. 10. 2022\n",
    "# Title: English_NER (conll03 data)\n",
    "#  Professor: Seung-Hoon Na"
   ]
  },
  {
   "cell_type": "code",
   "execution_count": 1,
   "metadata": {
    "colab": {
     "base_uri": "https://localhost:8080/"
    },
    "executionInfo": {
     "elapsed": 6481,
     "status": "ok",
     "timestamp": 1649492783693,
     "user": {
      "displayName": "우윤혁",
      "userId": "07903297194247438622"
     },
     "user_tz": -540
    },
    "id": "fPsyAN037pj5",
    "outputId": "e9378055-0e9f-40bf-8772-8cd697047bdd"
   },
   "outputs": [
    {
     "name": "stdout",
     "output_type": "stream",
     "text": [
      "cuda\n"
     ]
    }
   ],
   "source": [
    "from torch import cuda\n",
    "\n",
    "device = 'cuda' if cuda.is_available() else 'cpu'\n",
    "\n",
    "print(device)"
   ]
  },
  {
   "cell_type": "code",
   "execution_count": 2,
   "metadata": {
    "colab": {
     "base_uri": "https://localhost:8080/"
    },
    "executionInfo": {
     "elapsed": 13385,
     "status": "ok",
     "timestamp": 1649492797064,
     "user": {
      "displayName": "우윤혁",
      "userId": "07903297194247438622"
     },
     "user_tz": -540
    },
    "id": "eN07YGbF0Rdc",
    "outputId": "89367cf3-2d3b-47df-a6c3-8f54212d96a4"
   },
   "outputs": [
    {
     "name": "stdout",
     "output_type": "stream",
     "text": [
      "Collecting transformers\n",
      "  Downloading transformers-4.18.0-py3-none-any.whl (4.0 MB)\n",
      "\u001b[K     |████████████████████████████████| 4.0 MB 6.5 MB/s \n",
      "\u001b[?25hRequirement already satisfied: tqdm>=4.27 in /usr/local/lib/python3.7/dist-packages (from transformers) (4.63.0)\n",
      "Collecting pyyaml>=5.1\n",
      "  Downloading PyYAML-6.0-cp37-cp37m-manylinux_2_5_x86_64.manylinux1_x86_64.manylinux_2_12_x86_64.manylinux2010_x86_64.whl (596 kB)\n",
      "\u001b[K     |████████████████████████████████| 596 kB 47.8 MB/s \n",
      "\u001b[?25hRequirement already satisfied: regex!=2019.12.17 in /usr/local/lib/python3.7/dist-packages (from transformers) (2019.12.20)\n",
      "Collecting tokenizers!=0.11.3,<0.13,>=0.11.1\n",
      "  Downloading tokenizers-0.11.6-cp37-cp37m-manylinux_2_12_x86_64.manylinux2010_x86_64.whl (6.5 MB)\n",
      "\u001b[K     |████████████████████████████████| 6.5 MB 59.1 MB/s \n",
      "\u001b[?25hRequirement already satisfied: requests in /usr/local/lib/python3.7/dist-packages (from transformers) (2.23.0)\n",
      "Requirement already satisfied: packaging>=20.0 in /usr/local/lib/python3.7/dist-packages (from transformers) (21.3)\n",
      "Requirement already satisfied: importlib-metadata in /usr/local/lib/python3.7/dist-packages (from transformers) (4.11.3)\n",
      "Collecting huggingface-hub<1.0,>=0.1.0\n",
      "  Downloading huggingface_hub-0.5.1-py3-none-any.whl (77 kB)\n",
      "\u001b[K     |████████████████████████████████| 77 kB 3.3 MB/s \n",
      "\u001b[?25hCollecting sacremoses\n",
      "  Downloading sacremoses-0.0.49-py3-none-any.whl (895 kB)\n",
      "\u001b[K     |████████████████████████████████| 895 kB 50.9 MB/s \n",
      "\u001b[?25hRequirement already satisfied: filelock in /usr/local/lib/python3.7/dist-packages (from transformers) (3.6.0)\n",
      "Requirement already satisfied: numpy>=1.17 in /usr/local/lib/python3.7/dist-packages (from transformers) (1.21.5)\n",
      "Requirement already satisfied: typing-extensions>=3.7.4.3 in /usr/local/lib/python3.7/dist-packages (from huggingface-hub<1.0,>=0.1.0->transformers) (3.10.0.2)\n",
      "Requirement already satisfied: pyparsing!=3.0.5,>=2.0.2 in /usr/local/lib/python3.7/dist-packages (from packaging>=20.0->transformers) (3.0.7)\n",
      "Requirement already satisfied: zipp>=0.5 in /usr/local/lib/python3.7/dist-packages (from importlib-metadata->transformers) (3.7.0)\n",
      "Requirement already satisfied: certifi>=2017.4.17 in /usr/local/lib/python3.7/dist-packages (from requests->transformers) (2021.10.8)\n",
      "Requirement already satisfied: urllib3!=1.25.0,!=1.25.1,<1.26,>=1.21.1 in /usr/local/lib/python3.7/dist-packages (from requests->transformers) (1.24.3)\n",
      "Requirement already satisfied: idna<3,>=2.5 in /usr/local/lib/python3.7/dist-packages (from requests->transformers) (2.10)\n",
      "Requirement already satisfied: chardet<4,>=3.0.2 in /usr/local/lib/python3.7/dist-packages (from requests->transformers) (3.0.4)\n",
      "Requirement already satisfied: joblib in /usr/local/lib/python3.7/dist-packages (from sacremoses->transformers) (1.1.0)\n",
      "Requirement already satisfied: six in /usr/local/lib/python3.7/dist-packages (from sacremoses->transformers) (1.15.0)\n",
      "Requirement already satisfied: click in /usr/local/lib/python3.7/dist-packages (from sacremoses->transformers) (7.1.2)\n",
      "Installing collected packages: pyyaml, tokenizers, sacremoses, huggingface-hub, transformers\n",
      "  Attempting uninstall: pyyaml\n",
      "    Found existing installation: PyYAML 3.13\n",
      "    Uninstalling PyYAML-3.13:\n",
      "      Successfully uninstalled PyYAML-3.13\n",
      "Successfully installed huggingface-hub-0.5.1 pyyaml-6.0 sacremoses-0.0.49 tokenizers-0.11.6 transformers-4.18.0\n"
     ]
    }
   ],
   "source": [
    "pip install transformers"
   ]
  },
  {
   "cell_type": "code",
   "execution_count": 3,
   "metadata": {
    "executionInfo": {
     "elapsed": 2668,
     "status": "ok",
     "timestamp": 1649492799727,
     "user": {
      "displayName": "우윤혁",
      "userId": "07903297194247438622"
     },
     "user_tz": -540
    },
    "id": "52ZsYZoG1FIG"
   },
   "outputs": [],
   "source": [
    "import os\n",
    "import json\n",
    "import numpy as np\n",
    "from functools import partial\n",
    "import torch\n",
    "import torch.nn as nn\n",
    "from torch.utils.data import DataLoader\n",
    "from torch.optim import AdamW\n",
    "from transformers import BertTokenizer, BertModel, FlaubertModel\n",
    "from sklearn.metrics import classification_report\n",
    "import matplotlib.pyplot as plt\n",
    "import re\n",
    "import codecs\n",
    "import pandas as pd"
   ]
  },
  {
   "cell_type": "code",
   "execution_count": 4,
   "metadata": {
    "colab": {
     "base_uri": "https://localhost:8080/"
    },
    "executionInfo": {
     "elapsed": 10823,
     "status": "ok",
     "timestamp": 1649492810540,
     "user": {
      "displayName": "우윤혁",
      "userId": "07903297194247438622"
     },
     "user_tz": -540
    },
    "id": "KzqfFACwPjNc",
    "outputId": "9f97565b-3faf-4dd5-bd51-fc9bc0159d07"
   },
   "outputs": [
    {
     "name": "stdout",
     "output_type": "stream",
     "text": [
      "Mounted at /content/drive\n"
     ]
    }
   ],
   "source": [
    "from google.colab import drive\n",
    "drive.mount('/content/drive', force_remount=True)"
   ]
  },
  {
   "cell_type": "markdown",
   "metadata": {
    "id": "wQ3RCTOC1Pio"
   },
   "source": [
    "# Data Preprocess"
   ]
  },
  {
   "cell_type": "code",
   "execution_count": 5,
   "metadata": {
    "executionInfo": {
     "elapsed": 5,
     "status": "ok",
     "timestamp": 1649492810541,
     "user": {
      "displayName": "우윤혁",
      "userId": "07903297194247438622"
     },
     "user_tz": -540
    },
    "id": "ZuWd_CmJ3Plw"
   },
   "outputs": [],
   "source": [
    "def read_data(fn, column_no = -1, delimiter = ' '):\n",
    "\t# print('corpus_type',corpus_type)\n",
    "  \n",
    "  word_sequences = []\n",
    "  tag_sequences = []\n",
    "  total_word_sequences = []\n",
    "  total_tag_sequences = []\n",
    "  data_set = []\n",
    "\n",
    "  with codecs.open(fn, 'r', 'utf-8') as f:\n",
    "      lines = f.readlines()\n",
    "  curr_words = []\n",
    "  curr_tags = []\n",
    "\n",
    "  for k in range(len(lines)):\n",
    "      line = lines[k].strip()\n",
    "\n",
    "      strings = line.split(delimiter)\n",
    "      word = strings[0].strip()\n",
    "      word = str(word)\n",
    "      word = re.sub(r'/.+', '', word)\n",
    "      tag = strings[column_no].strip()  # be default, we take the last tag\n",
    "      word = word.strip()\n",
    "      curr_words.append(word)\n",
    "      curr_tags.append(tag)\n",
    "      total_word_sequences.append(word)\n",
    "      total_tag_sequences.append(tag)\n",
    "\n",
    "      if k == len(lines) - 1:\n",
    "          word_sequences.append(curr_words)\n",
    "          tag_sequences.append(curr_tags)\n",
    "\n",
    "  data_set.append(total_word_sequences)\n",
    "  data_set.append(total_tag_sequences)\n",
    "\n",
    "  return data_set"
   ]
  },
  {
   "cell_type": "code",
   "execution_count": 6,
   "metadata": {
    "executionInfo": {
     "elapsed": 5107,
     "status": "ok",
     "timestamp": 1649492815644,
     "user": {
      "displayName": "우윤혁",
      "userId": "07903297194247438622"
     },
     "user_tz": -540
    },
    "id": "cQDjMVWQ1J1q"
   },
   "outputs": [],
   "source": [
    "suffixs = ['train', 'dev', 'test']\n",
    "column_no = -1 # tag position\n",
    "delimiter = ' '\n",
    "\n",
    "PATH_dir = '/content/drive/MyDrive/Colab Notebooks/Ko_En_NER_POStag_data/En_NER_POS_conll03'\n",
    "\n",
    "data_list = []\n",
    "# if not os.path.exists(dump_path):\n",
    "#   os.makedirs(dump_path)\n",
    "\n",
    "for suffix in suffixs:\n",
    "  fpath_bio = PATH_dir +'/' +suffix+'.txt'\n",
    "\n",
    "  all_data = read_data(fpath_bio, column_no,delimiter)\n",
    "  data_list.append(all_data)"
   ]
  },
  {
   "cell_type": "code",
   "execution_count": 7,
   "metadata": {
    "executionInfo": {
     "elapsed": 4,
     "status": "ok",
     "timestamp": 1649492815644,
     "user": {
      "displayName": "우윤혁",
      "userId": "07903297194247438622"
     },
     "user_tz": -540
    },
    "id": "UrDy8I_biJAm"
   },
   "outputs": [],
   "source": [
    "train_df = pd.DataFrame({'doc': data_list[0][0], 'tag': data_list[0][1]})\n",
    "dev_df = pd.DataFrame({'doc': data_list[1][0], 'tag': data_list[1][1]})\n",
    "test_df = pd.DataFrame({'doc': data_list[2][0], 'tag': data_list[2][1]})"
   ]
  },
  {
   "cell_type": "markdown",
   "metadata": {
    "id": "86ulUyuqDSp6"
   },
   "source": [
    "# Tokenizer tagging"
   ]
  },
  {
   "cell_type": "code",
   "execution_count": 8,
   "metadata": {
    "colab": {
     "base_uri": "https://localhost:8080/",
     "height": 113,
     "referenced_widgets": [
      "7f1426b2b9d240008967e2e87d64c510",
      "9e9ae1504ae34c9ebda0f9bc1575b32c",
      "c6e3c5e00cb642cb800d0830943831c1",
      "8fb484e3da9441cc97c519d159b0940c",
      "602ead951e624c35b6fa6cc6e0b12930",
      "a95a6aae171944889c6b9787ddef6726",
      "97d5dee209b8453b9762c41c8d733e89",
      "c36e6c3306c948fd910b92fd0e721208",
      "4e05cb5b699248219b86a18611da2683",
      "b7370fe65f0045aeb8a2b0ea249e25f3",
      "179ee367cfdf411a9c29cdc1d216c357",
      "4a16b2cb5a4f452096e128060f2867b2",
      "b26a55e885814c97bb3fb4f8a487e6ed",
      "cf7d6237edb94d679c98e487a5e25425",
      "6a379869581f46d587dcd742bc586aeb",
      "06095ee887314be0ba95dad9b43f8bad",
      "ac5e6042ae7e48cfbe97f6866c0e44f2",
      "5da56116f45f48afa426b05e0bd894b7",
      "c34a2bd9992049b692733d8d134e4f03",
      "d660536bc8e5428f9691e185dd3c85f7",
      "58d7991e19204ac7a54c9423a0f0f88d",
      "0c45d3e9ef0041b7ac34bce46ced4666",
      "92f585b1e1e840b999cfd8db86564bec",
      "b60faa34b563489b9da14804b07e8efd",
      "10af48cb7b4d4bc099de82d1a88c0ea4",
      "feca3c25598547ae8bf7b12350907dd9",
      "e4dd88f071b74dc2afcac0896d61181e",
      "4e65d9c819a74f9eb6752663ad5b3756",
      "a3133d52556a434db1b922a9e3796dee",
      "5f18818e32a74f0aa868eba3e9beb502",
      "5716b3212faa49d086a5bc46a5267ad7",
      "4adfe479592d44989e738fa3c92d9764",
      "6d750a91baf14a479e30cfaac36370cd"
     ]
    },
    "executionInfo": {
     "elapsed": 2935,
     "status": "ok",
     "timestamp": 1649492818576,
     "user": {
      "displayName": "우윤혁",
      "userId": "07903297194247438622"
     },
     "user_tz": -540
    },
    "id": "fxhbUFTpE5iT",
    "outputId": "41a19545-9cd9-4b70-df68-81860e1fea5d"
   },
   "outputs": [
    {
     "data": {
      "application/vnd.jupyter.widget-view+json": {
       "model_id": "7f1426b2b9d240008967e2e87d64c510",
       "version_major": 2,
       "version_minor": 0
      },
      "text/plain": [
       "Downloading:   0%|          | 0.00/972k [00:00<?, ?B/s]"
      ]
     },
     "metadata": {},
     "output_type": "display_data"
    },
    {
     "data": {
      "application/vnd.jupyter.widget-view+json": {
       "model_id": "4a16b2cb5a4f452096e128060f2867b2",
       "version_major": 2,
       "version_minor": 0
      },
      "text/plain": [
       "Downloading:   0%|          | 0.00/29.0 [00:00<?, ?B/s]"
      ]
     },
     "metadata": {},
     "output_type": "display_data"
    },
    {
     "data": {
      "application/vnd.jupyter.widget-view+json": {
       "model_id": "92f585b1e1e840b999cfd8db86564bec",
       "version_major": 2,
       "version_minor": 0
      },
      "text/plain": [
       "Downloading:   0%|          | 0.00/625 [00:00<?, ?B/s]"
      ]
     },
     "metadata": {},
     "output_type": "display_data"
    }
   ],
   "source": [
    "PRETAINED_MODEL_NAME = 'bert-base-multilingual-cased'\n",
    "tokenizer = BertTokenizer.from_pretrained(PRETAINED_MODEL_NAME)"
   ]
  },
  {
   "cell_type": "code",
   "execution_count": 9,
   "metadata": {
    "executionInfo": {
     "elapsed": 11,
     "status": "ok",
     "timestamp": 1649492818577,
     "user": {
      "displayName": "우윤혁",
      "userId": "07903297194247438622"
     },
     "user_tz": -540
    },
    "id": "44jRy0X0-6dg"
   },
   "outputs": [],
   "source": [
    "def tokenizer_tagging(df):\n",
    "  \n",
    "  lst=[]\n",
    "  lst_set = []\n",
    "  lst_ent = []\n",
    "  lst_tag = []\n",
    "  for i in range(len(df)):\n",
    "      if df['doc'][i] != '':\n",
    "          morph_to_tokens = tokenizer.tokenize(df['doc'][i])\n",
    "          if 1 == len(morph_to_tokens):\n",
    "              lst_ent.append(df['doc'][i])\n",
    "              lst_tag.append(df['tag'][i])\n",
    "              \n",
    "          else:\n",
    "              if df['tag'][i] == 'O':\n",
    "                  lst_ent.append(df['doc'][i])\n",
    "                  lst_tag.append('O')\n",
    "                  for i in range(len(morph_to_tokens)-1):\n",
    "                      lst_tag.append('O')\n",
    "                  \n",
    "              else:\n",
    "                  lst_ent.append(df['doc'][i])\n",
    "                  lst_tag.append(df['tag'][i])\n",
    "                  split = df['tag'][i].split('-')\n",
    "                  for i in range(len(morph_to_tokens)-1):\n",
    "                      results = 'I-' + split[-1]\n",
    "                      lst_tag.append(results)\n",
    "              \n",
    "      else:\n",
    "          lst_ent = result = ' '.join(str(s) for s in lst_ent)\n",
    "          lst_set.append(lst_ent)\n",
    "          morph_to_tokens = tokenizer.tokenize(lst_ent)\n",
    "          lst_set.append(morph_to_tokens)\n",
    "          lst_set.append(lst_tag)\n",
    "          lst.append(lst_set)\n",
    "          result = 0\n",
    "          lst_ent = []\n",
    "          lst_tok = []\n",
    "          lst_tag = []\n",
    "          lst_set = []\n",
    "  return lst "
   ]
  },
  {
   "cell_type": "code",
   "execution_count": 10,
   "metadata": {
    "executionInfo": {
     "elapsed": 9,
     "status": "ok",
     "timestamp": 1649492818577,
     "user": {
      "displayName": "우윤혁",
      "userId": "07903297194247438622"
     },
     "user_tz": -540
    },
    "id": "IZQAzdhG3jq6"
   },
   "outputs": [],
   "source": [
    "df_list = []\n",
    "df_list.append(train_df)\n",
    "df_list.append(dev_df)\n",
    "df_list.append(test_df)"
   ]
  },
  {
   "cell_type": "code",
   "execution_count": 11,
   "metadata": {
    "colab": {
     "base_uri": "https://localhost:8080/"
    },
    "executionInfo": {
     "elapsed": 9,
     "status": "ok",
     "timestamp": 1649492818578,
     "user": {
      "displayName": "우윤혁",
      "userId": "07903297194247438622"
     },
     "user_tz": -540
    },
    "id": "BzlgHhiyhrvs",
    "outputId": "03f4cd43-9acb-4b51-f5dc-95561f889006"
   },
   "outputs": [
    {
     "name": "stdout",
     "output_type": "stream",
     "text": [
      "219554\n",
      "55044\n",
      "50350\n"
     ]
    }
   ],
   "source": [
    "print(len(df_list[0]))\n",
    "print(len(df_list[1]))\n",
    "print(len(df_list[2]))"
   ]
  },
  {
   "cell_type": "code",
   "execution_count": 12,
   "metadata": {
    "executionInfo": {
     "elapsed": 7,
     "status": "ok",
     "timestamp": 1649492818578,
     "user": {
      "displayName": "우윤혁",
      "userId": "07903297194247438622"
     },
     "user_tz": -540
    },
    "id": "Bp2-n6NAyBqO"
   },
   "outputs": [],
   "source": [
    "def extract_tag(data):\n",
    "  tag_list = []\n",
    "  for j in range(len(data)):\n",
    "      if j == 0:\n",
    "          set1 = set(data[j][2])\n",
    "          set2 = set(data[j+1][2])\n",
    "          temp = set1.union(set2)\n",
    "          tag_list = temp\n",
    "      else:\n",
    "          set1 = set(tag_list)\n",
    "          set2 = set(data[j][2])\n",
    "          temp = set1.union(set2)\n",
    "          tag_list = temp\n",
    "\n",
    "  tag_list = list(tag_list)\n",
    "\n",
    "  # new.sort()\n",
    "  tag_list.reverse()\n",
    "\n",
    "  return tag_list"
   ]
  },
  {
   "cell_type": "code",
   "execution_count": 13,
   "metadata": {
    "executionInfo": {
     "elapsed": 29304,
     "status": "ok",
     "timestamp": 1649492847876,
     "user": {
      "displayName": "우윤혁",
      "userId": "07903297194247438622"
     },
     "user_tz": -540
    },
    "id": "KqahCM43ydM1"
   },
   "outputs": [],
   "source": [
    "dump_path = \"/content/drive/MyDrive/Colab Notebooks/Ko_En_NER_POStag_data/En_NER_POS_conll03/dump/\"\n",
    "suffixs = ['train', 'dev', 'test']\n",
    "order = 0\n",
    "\n",
    "for suffix in suffixs:\n",
    "  all_data = tokenizer_tagging(df_list[order])\n",
    "  tag = extract_tag(all_data)\n",
    "\n",
    "  dump_file_path = dump_path + suffix + '.json'\n",
    "  dump_tag_path = dump_path + suffix + '_tag.json'\n",
    "\n",
    "  with open(dump_file_path, \"w\") as f:\n",
    "      json.dump(all_data, f)\n",
    "  with open(dump_tag_path, \"w\") as f:\n",
    "    json.dump(tag, f)\n",
    "\n",
    "  order = order +1"
   ]
  },
  {
   "cell_type": "code",
   "execution_count": 14,
   "metadata": {
    "colab": {
     "base_uri": "https://localhost:8080/"
    },
    "executionInfo": {
     "elapsed": 4469,
     "status": "ok",
     "timestamp": 1649492852322,
     "user": {
      "displayName": "우윤혁",
      "userId": "07903297194247438622"
     },
     "user_tz": -540
    },
    "id": "Sc1bgMqv1LRw",
    "outputId": "8e23c186-b0cb-485e-b98d-1d1967663eac"
   },
   "outputs": [
    {
     "name": "stdout",
     "output_type": "stream",
     "text": [
      "3466\n"
     ]
    },
    {
     "data": {
      "text/plain": [
       "['B-MISC', 'O', 'B-LOC', 'I-MISC', 'I-LOC', 'B-PER', 'I-ORG', 'I-PER', 'B-ORG']"
      ]
     },
     "execution_count": 14,
     "metadata": {},
     "output_type": "execute_result"
    }
   ],
   "source": [
    "test = tokenizer_tagging(dev_df)\n",
    "print(len(test))\n",
    "extract_tag(test)"
   ]
  },
  {
   "cell_type": "code",
   "execution_count": 15,
   "metadata": {
    "executionInfo": {
     "elapsed": 25,
     "status": "ok",
     "timestamp": 1649492852323,
     "user": {
      "displayName": "우윤혁",
      "userId": "07903297194247438622"
     },
     "user_tz": -540
    },
    "id": "BTpNH8D81wDD"
   },
   "outputs": [],
   "source": [
    "temp = extract_tag(test)"
   ]
  },
  {
   "cell_type": "code",
   "execution_count": 16,
   "metadata": {
    "executionInfo": {
     "elapsed": 23,
     "status": "ok",
     "timestamp": 1649492852323,
     "user": {
      "displayName": "우윤혁",
      "userId": "07903297194247438622"
     },
     "user_tz": -540
    },
    "id": "VwrO-9a14da8"
   },
   "outputs": [],
   "source": [
    "temp.append('PAD')"
   ]
  },
  {
   "cell_type": "code",
   "execution_count": 17,
   "metadata": {
    "colab": {
     "base_uri": "https://localhost:8080/"
    },
    "executionInfo": {
     "elapsed": 23,
     "status": "ok",
     "timestamp": 1649492852324,
     "user": {
      "displayName": "우윤혁",
      "userId": "07903297194247438622"
     },
     "user_tz": -540
    },
    "id": "BswDfPiK30WH",
    "outputId": "14d09c13-8698-4065-a32a-0e6276023f4e"
   },
   "outputs": [
    {
     "name": "stdout",
     "output_type": "stream",
     "text": [
      "{0: 'B-MISC', 1: 'O', 2: 'B-LOC', 3: 'I-MISC', 4: 'I-LOC', 5: 'B-PER', 6: 'I-ORG', 7: 'I-PER', 8: 'B-ORG', 9: 'PAD'}\n",
      "{'B-MISC': 0, 'O': 1, 'B-LOC': 2, 'I-MISC': 3, 'I-LOC': 4, 'B-PER': 5, 'I-ORG': 6, 'I-PER': 7, 'B-ORG': 8, 'PAD': 9}\n"
     ]
    }
   ],
   "source": [
    "tag_to_id = {string : i for string, i in enumerate(temp)}\n",
    "id_to_tag = {string : i for i,string in enumerate(temp)}\n",
    "\n",
    "print(tag_to_id)\n",
    "print(id_to_tag)"
   ]
  },
  {
   "cell_type": "code",
   "execution_count": 18,
   "metadata": {
    "colab": {
     "base_uri": "https://localhost:8080/"
    },
    "executionInfo": {
     "elapsed": 4028,
     "status": "ok",
     "timestamp": 1649492856334,
     "user": {
      "displayName": "우윤혁",
      "userId": "07903297194247438622"
     },
     "user_tz": -540
    },
    "id": "FIOkplKA2Zbn",
    "outputId": "a572067f-5234-408b-fac9-feddcbeb394b"
   },
   "outputs": [
    {
     "name": "stdout",
     "output_type": "stream",
     "text": [
      "3684\n"
     ]
    },
    {
     "data": {
      "text/plain": [
       "['B-MISC', 'O', 'B-LOC', 'I-MISC', 'I-LOC', 'B-PER', 'I-ORG', 'I-PER', 'B-ORG']"
      ]
     },
     "execution_count": 18,
     "metadata": {},
     "output_type": "execute_result"
    }
   ],
   "source": [
    "test1 = tokenizer_tagging(test_df)\n",
    "print(len(test1))\n",
    "extract_tag(test1)"
   ]
  },
  {
   "cell_type": "code",
   "execution_count": 19,
   "metadata": {
    "colab": {
     "base_uri": "https://localhost:8080/"
    },
    "executionInfo": {
     "elapsed": 18033,
     "status": "ok",
     "timestamp": 1649492874346,
     "user": {
      "displayName": "우윤혁",
      "userId": "07903297194247438622"
     },
     "user_tz": -540
    },
    "id": "rEfI9rrB2ZeA",
    "outputId": "9e7a76b1-3c2e-4f46-8bb2-c045e39127b8"
   },
   "outputs": [
    {
     "name": "stdout",
     "output_type": "stream",
     "text": [
      "14987\n"
     ]
    },
    {
     "data": {
      "text/plain": [
       "['B-MISC', 'O', 'B-LOC', 'I-MISC', 'I-LOC', 'B-PER', 'I-ORG', 'I-PER', 'B-ORG']"
      ]
     },
     "execution_count": 19,
     "metadata": {},
     "output_type": "execute_result"
    }
   ],
   "source": [
    "test2 = tokenizer_tagging(train_df)\n",
    "print(len(test2))\n",
    "extract_tag(test2)"
   ]
  },
  {
   "cell_type": "code",
   "execution_count": 20,
   "metadata": {
    "executionInfo": {
     "elapsed": 8,
     "status": "ok",
     "timestamp": 1649492874346,
     "user": {
      "displayName": "우윤혁",
      "userId": "07903297194247438622"
     },
     "user_tz": -540
    },
    "id": "ah06oNUXk6hr"
   },
   "outputs": [],
   "source": [
    "dump_path = \"/content/drive/MyDrive/Colab Notebooks/Ko_En_NER_POStag_data/En_NER_POS_conll03/dump/\"\n",
    "PATH_Eng_train = os.path.join(dump_path, 'train.json')\n",
    "PATH_Eng_test = os.path.join(dump_path, 'test.json')\n",
    "PATH_Eng_dev = os.path.join(dump_path, 'dev.json')"
   ]
  },
  {
   "cell_type": "code",
   "execution_count": 21,
   "metadata": {
    "executionInfo": {
     "elapsed": 8,
     "status": "ok",
     "timestamp": 1649492874347,
     "user": {
      "displayName": "우윤혁",
      "userId": "07903297194247438622"
     },
     "user_tz": -540
    },
    "id": "Y2fh7hG4vTes"
   },
   "outputs": [],
   "source": [
    "with open(PATH_Eng_dev) as data_file:\n",
    "  dataset_dev = json.load(data_file)\n",
    "with open(PATH_Eng_test) as data_file:\n",
    "  dataset_test = json.load(data_file)\n",
    "with open(PATH_Eng_train) as data_file:\n",
    "  dataset_train = json.load(data_file)"
   ]
  },
  {
   "cell_type": "code",
   "execution_count": 22,
   "metadata": {
    "colab": {
     "base_uri": "https://localhost:8080/"
    },
    "executionInfo": {
     "elapsed": 7,
     "status": "ok",
     "timestamp": 1649492874347,
     "user": {
      "displayName": "우윤혁",
      "userId": "07903297194247438622"
     },
     "user_tz": -540
    },
    "id": "Rs9qYsIMvZ9d",
    "outputId": "7b750c24-7baa-480c-817e-64c2cc6a523a"
   },
   "outputs": [
    {
     "name": "stdout",
     "output_type": "stream",
     "text": [
      "train 14987\n",
      "test 3684\n",
      "dev 3466\n"
     ]
    }
   ],
   "source": [
    "print('train', len(dataset_train))\n",
    "print('test', len(dataset_test))\n",
    "print('dev', len(dataset_dev))"
   ]
  },
  {
   "cell_type": "markdown",
   "metadata": {
    "id": "v7aMzZFBvJZT"
   },
   "source": [
    "# convert_Tag_to_id"
   ]
  },
  {
   "cell_type": "code",
   "execution_count": 24,
   "metadata": {
    "executionInfo": {
     "elapsed": 196,
     "status": "ok",
     "timestamp": 1649492875904,
     "user": {
      "displayName": "우윤혁",
      "userId": "07903297194247438622"
     },
     "user_tz": -540
    },
    "id": "Ooieo14tvfvw"
   },
   "outputs": [],
   "source": [
    "def convert_Tag_to_id_list(batch):\n",
    "  tag_to_id = {'I-LOC': 0, 'O': 1, 'I-PER': 2, 'B-PER': 3, 'B-MISC': 4, 'I-ORG': 5, 'B-ORG': 6, 'I-MISC': 7, 'B-LOC': 8, 'PAD': 9}\n",
    "  t_to_i = []\n",
    "  for j in batch:\n",
    "      j = tag_to_id.get(j)\n",
    "      t_to_i.append(j)\n",
    "  return t_to_i"
   ]
  },
  {
   "cell_type": "code",
   "execution_count": 25,
   "metadata": {
    "colab": {
     "base_uri": "https://localhost:8080/"
    },
    "executionInfo": {
     "elapsed": 196,
     "status": "ok",
     "timestamp": 1649492875905,
     "user": {
      "displayName": "우윤혁",
      "userId": "07903297194247438622"
     },
     "user_tz": -540
    },
    "id": "CEMWRwF6OPnM",
    "outputId": "ae398e1d-f608-464e-8646-1b1b8319db52"
   },
   "outputs": [
    {
     "data": {
      "text/plain": [
       "[0, 1]"
      ]
     },
     "execution_count": 25,
     "metadata": {},
     "output_type": "execute_result"
    }
   ],
   "source": [
    "convert_Tag_to_id_list(['I-LOC','O'])"
   ]
  },
  {
   "cell_type": "markdown",
   "metadata": {
    "id": "si6SPubLvgD4"
   },
   "source": [
    "# convert_id_to_tag"
   ]
  },
  {
   "cell_type": "code",
   "execution_count": 26,
   "metadata": {
    "executionInfo": {
     "elapsed": 8,
     "status": "ok",
     "timestamp": 1649492875905,
     "user": {
      "displayName": "우윤혁",
      "userId": "07903297194247438622"
     },
     "user_tz": -540
    },
    "id": "EBICNwyIvgaB"
   },
   "outputs": [],
   "source": [
    "def convert_id_to_tag_list(batch):\n",
    "  id_to_tag = {0: 'I-LOC', 1: 'O', 2: 'I-PER', 3: 'B-PER', 4: 'B-MISC', 5: 'I-ORG', 6: 'B-ORG', 7: 'I-MISC', 8: 'B-LOC', 9: 'PAD'}\n",
    "  total = []\n",
    "  i_to_t = []\n",
    "  for j in batch:\n",
    "      j = id_to_tag.get(j)\n",
    "      i_to_t.append(j)\n",
    "  return i_to_t"
   ]
  },
  {
   "cell_type": "markdown",
   "metadata": {
    "id": "TEv6wWidvlc0"
   },
   "source": [
    "# Make Batch & Padding"
   ]
  },
  {
   "cell_type": "code",
   "execution_count": 27,
   "metadata": {
    "executionInfo": {
     "elapsed": 8,
     "status": "ok",
     "timestamp": 1649492875905,
     "user": {
      "displayName": "우윤혁",
      "userId": "07903297194247438622"
     },
     "user_tz": -540
    },
    "id": "Or46CKecvl4m"
   },
   "outputs": [],
   "source": [
    "def make_batch(labels, max_len):\n",
    "  batch_labels = []\n",
    "  special_token = 0\n",
    "\n",
    "  for taglist in labels:\n",
    "    sample = [special_token] + convert_Tag_to_id_list(taglist)[:max_len-2] + [special_token]\n",
    "    sample +=[special_token] * max(0, max_len - (len(sample)))\n",
    "    batch_labels.append(sample)\n",
    "    # print(batch_labels)\n",
    "    \n",
    "  return torch.tensor(batch_labels)"
   ]
  },
  {
   "cell_type": "code",
   "execution_count": 28,
   "metadata": {
    "executionInfo": {
     "elapsed": 9,
     "status": "ok",
     "timestamp": 1649492875906,
     "user": {
      "displayName": "우윤혁",
      "userId": "07903297194247438622"
     },
     "user_tz": -540
    },
    "id": "43oVmFWPVTl8"
   },
   "outputs": [],
   "source": [
    "tag = [['B-ORG', 'I-MISC', 'I-MISC', 'I-ORG', 'I-ORG', 'B-MISC'],  # 0, 2, 17, 3, 17, 17, 19, 0\n",
    "       ['O', 'I-PER', 'I-PER', 'B-PER', 'I-PER', 'I-ORG', 'I-ORG']]"
   ]
  },
  {
   "cell_type": "code",
   "execution_count": 28,
   "metadata": {
    "executionInfo": {
     "elapsed": 9,
     "status": "ok",
     "timestamp": 1649492875906,
     "user": {
      "displayName": "우윤혁",
      "userId": "07903297194247438622"
     },
     "user_tz": -540
    },
    "id": "XlnBK_y_V1OL"
   },
   "outputs": [],
   "source": []
  },
  {
   "cell_type": "code",
   "execution_count": 29,
   "metadata": {
    "colab": {
     "base_uri": "https://localhost:8080/"
    },
    "executionInfo": {
     "elapsed": 8,
     "status": "ok",
     "timestamp": 1649492875906,
     "user": {
      "displayName": "우윤혁",
      "userId": "07903297194247438622"
     },
     "user_tz": -540
    },
    "id": "WI3NwsBFVY2t",
    "outputId": "648316f5-f19b-48ce-aba0-b1d3de0641b9"
   },
   "outputs": [
    {
     "data": {
      "text/plain": [
       "tensor([[0, 6, 7, 7, 5, 5, 4, 0],\n",
       "        [0, 1, 2, 2, 3, 2, 5, 0]])"
      ]
     },
     "execution_count": 29,
     "metadata": {},
     "output_type": "execute_result"
    }
   ],
   "source": [
    "make_batch(tag,8)"
   ]
  },
  {
   "cell_type": "code",
   "execution_count": 30,
   "metadata": {
    "executionInfo": {
     "elapsed": 6,
     "status": "ok",
     "timestamp": 1649492875906,
     "user": {
      "displayName": "우윤혁",
      "userId": "07903297194247438622"
     },
     "user_tz": -540
    },
    "id": "nph_4EvT5_bw"
   },
   "outputs": [],
   "source": [
    "def ner_fn_custom(tokenizer, make_batch, data):\n",
    "    \n",
    "    input_sent = [sample[0] for sample in data]\n",
    "    labels = [sample[2] for sample in data]\n",
    "\n",
    "    batch_inputs = tokenizer(input_sent, padding = True, return_tensors = \"pt\")\n",
    "    batch_labels = make_batch(labels, max_len = batch_inputs['input_ids'].size(1))\n",
    "\n",
    "    return batch_inputs, batch_labels"
   ]
  },
  {
   "cell_type": "code",
   "execution_count": 31,
   "metadata": {
    "executionInfo": {
     "elapsed": 7,
     "status": "ok",
     "timestamp": 1649492875907,
     "user": {
      "displayName": "우윤혁",
      "userId": "07903297194247438622"
     },
     "user_tz": -540
    },
    "id": "4jup7Agm54qn"
   },
   "outputs": [],
   "source": [
    "batch_size = 20\n",
    "partial_collate_fn = partial(ner_fn_custom, tokenizer, make_batch)"
   ]
  },
  {
   "cell_type": "markdown",
   "metadata": {
    "id": "95ZySSSwvuLG"
   },
   "source": [
    "# DataLoader"
   ]
  },
  {
   "cell_type": "code",
   "execution_count": 32,
   "metadata": {
    "executionInfo": {
     "elapsed": 7,
     "status": "ok",
     "timestamp": 1649492875907,
     "user": {
      "displayName": "우윤혁",
      "userId": "07903297194247438622"
     },
     "user_tz": -540
    },
    "id": "vXFwSQ0evud9"
   },
   "outputs": [],
   "source": [
    "dataloader_train = DataLoader(\n",
    "    dataset_train,\n",
    "    batch_size = batch_size,\n",
    "    shuffle = True,\n",
    "    collate_fn = partial_collate_fn)\n",
    "\n",
    "dataloader_test = DataLoader(\n",
    "    dataset_test,\n",
    "    batch_size = batch_size,\n",
    "    shuffle = False,\n",
    "    collate_fn = partial_collate_fn)\n",
    "\n",
    "dataloader_dev = DataLoader(\n",
    "    dataset_dev,\n",
    "    batch_size = batch_size,\n",
    "    shuffle = False,\n",
    "    collate_fn = partial_collate_fn)"
   ]
  },
  {
   "cell_type": "markdown",
   "metadata": {
    "id": "wfC_dY06vyN2"
   },
   "source": [
    "# BertNer"
   ]
  },
  {
   "cell_type": "code",
   "execution_count": 33,
   "metadata": {
    "executionInfo": {
     "elapsed": 7,
     "status": "ok",
     "timestamp": 1649492875907,
     "user": {
      "displayName": "우윤혁",
      "userId": "07903297194247438622"
     },
     "user_tz": -540
    },
    "id": "NLIssHo8vyiL"
   },
   "outputs": [],
   "source": [
    "class Bert_NER(nn.Module):  \n",
    "    def __init__(self, bert):\n",
    "        super().__init__() \n",
    "        bert = BertModel.from_pretrained(PRETAINED_MODEL_NAME)     \n",
    "        self.bert = bert\n",
    "        self.dropout = nn.Dropout(p = 0.1)\n",
    "        self.linear = nn.Linear(768, 10)\n",
    "        self.softmax = nn.Softmax(dim = 2) # A dimension along which Softmax will be computed\n",
    "    \n",
    "    def forward(self, **kwargs):\n",
    "        emb = self.bert(**kwargs)\n",
    "        e = self.dropout(emb['last_hidden_state'])\n",
    "        w = self.linear(e)\n",
    "        \n",
    "        return w"
   ]
  },
  {
   "cell_type": "code",
   "execution_count": 34,
   "metadata": {
    "colab": {
     "base_uri": "https://localhost:8080/",
     "height": 124,
     "referenced_widgets": [
      "5f5294d1babd4755b5a5a311dc923715",
      "05772ab053ae4bdabcb36dfcb9db995b",
      "bb5ce4bac8604f19933ce7c5d0fad8a8",
      "7ca1257b7a70434a81cd76306da6b7da",
      "893276cac2ba4ed79a2e7b2c97956ec2",
      "9edd1db313cf495391185f8041c7f782",
      "26b363511f134a06ad320513aa32c963",
      "ea873cee2dd14ffdb77dbc18cf33005f",
      "4914179f83f847f1a98f47ec97787639",
      "e9f82a8e1ec94cddab3bb02eab851c4b",
      "7c953d77a53d4ad9a21734d6db12366e"
     ]
    },
    "executionInfo": {
     "elapsed": 26941,
     "status": "ok",
     "timestamp": 1649492902841,
     "user": {
      "displayName": "우윤혁",
      "userId": "07903297194247438622"
     },
     "user_tz": -540
    },
    "id": "Y1eqFpqiv5Vd",
    "outputId": "fa0816fd-dd15-48d5-cdfe-e22095131969"
   },
   "outputs": [
    {
     "data": {
      "application/vnd.jupyter.widget-view+json": {
       "model_id": "5f5294d1babd4755b5a5a311dc923715",
       "version_major": 2,
       "version_minor": 0
      },
      "text/plain": [
       "Downloading:   0%|          | 0.00/681M [00:00<?, ?B/s]"
      ]
     },
     "metadata": {},
     "output_type": "display_data"
    },
    {
     "name": "stderr",
     "output_type": "stream",
     "text": [
      "Some weights of the model checkpoint at bert-base-multilingual-cased were not used when initializing BertModel: ['cls.predictions.transform.LayerNorm.weight', 'cls.predictions.transform.LayerNorm.bias', 'cls.predictions.transform.dense.bias', 'cls.seq_relationship.bias', 'cls.predictions.transform.dense.weight', 'cls.predictions.bias', 'cls.predictions.decoder.weight', 'cls.seq_relationship.weight']\n",
      "- This IS expected if you are initializing BertModel from the checkpoint of a model trained on another task or with another architecture (e.g. initializing a BertForSequenceClassification model from a BertForPreTraining model).\n",
      "- This IS NOT expected if you are initializing BertModel from the checkpoint of a model that you expect to be exactly identical (initializing a BertForSequenceClassification model from a BertForSequenceClassification model).\n"
     ]
    }
   ],
   "source": [
    "model = Bert_NER(10)\n",
    "model.cuda()\n",
    "device = model.bert.device"
   ]
  },
  {
   "cell_type": "code",
   "execution_count": 35,
   "metadata": {
    "colab": {
     "base_uri": "https://localhost:8080/"
    },
    "executionInfo": {
     "elapsed": 5,
     "status": "ok",
     "timestamp": 1649492902842,
     "user": {
      "displayName": "우윤혁",
      "userId": "07903297194247438622"
     },
     "user_tz": -540
    },
    "id": "N286atyNU0IN",
    "outputId": "9cc5851f-4f6f-4df5-c41d-6efa4ae49dfd"
   },
   "outputs": [
    {
     "name": "stdout",
     "output_type": "stream",
     "text": [
      "cuda:0\n"
     ]
    }
   ],
   "source": [
    "print(device)"
   ]
  },
  {
   "cell_type": "code",
   "execution_count": 36,
   "metadata": {
    "executionInfo": {
     "elapsed": 4,
     "status": "ok",
     "timestamp": 1649492902842,
     "user": {
      "displayName": "우윤혁",
      "userId": "07903297194247438622"
     },
     "user_tz": -540
    },
    "id": "igJAnjsZv-QX"
   },
   "outputs": [],
   "source": [
    "CELoss = nn.CrossEntropyLoss(ignore_index = 0)\n",
    "optimizer = AdamW(model.parameters(), lr = 1.0e-4)\n",
    "draw = []"
   ]
  },
  {
   "cell_type": "markdown",
   "metadata": {
    "id": "yrGuZNZVwAhk"
   },
   "source": [
    "# Training"
   ]
  },
  {
   "cell_type": "code",
   "execution_count": 37,
   "metadata": {
    "colab": {
     "base_uri": "https://localhost:8080/",
     "height": 793
    },
    "executionInfo": {
     "elapsed": 168908,
     "status": "ok",
     "timestamp": 1649493071747,
     "user": {
      "displayName": "우윤혁",
      "userId": "07903297194247438622"
     },
     "user_tz": -540
    },
    "id": "T-3t5UU2wA0E",
    "outputId": "72b19d11-752a-4bf8-e3dc-eccdb529a96d"
   },
   "outputs": [
    {
     "name": "stdout",
     "output_type": "stream",
     "text": [
      " 29 - loss: 0.3520197868347168\n",
      " 59 - loss: 0.25435972213745117\n",
      " 89 - loss: 0.3067966103553772\n",
      "119 - loss: 0.08300169557332993\n",
      "149 - loss: 0.10865543782711029\n",
      "179 - loss: 0.13380490243434906\n",
      "209 - loss: 0.0789002925157547\n",
      "239 - loss: 0.13715560734272003\n",
      "269 - loss: 0.08211036026477814\n",
      "299 - loss: 0.036474961787462234\n",
      "329 - loss: 0.05172395333647728\n",
      "359 - loss: 0.07360206544399261\n",
      "389 - loss: 0.12829647958278656\n",
      "419 - loss: 0.11515721678733826\n",
      "449 - loss: 0.07089992612600327\n",
      "479 - loss: 0.07533258199691772\n",
      "509 - loss: 0.07860428839921951\n",
      "539 - loss: 0.061335932463407516\n",
      "569 - loss: 0.06244305893778801\n",
      "599 - loss: 0.031521376222372055\n",
      "629 - loss: 0.07221990823745728\n",
      "659 - loss: 0.10302308946847916\n",
      "689 - loss: 0.14236927032470703\n",
      "719 - loss: 0.06990329176187515\n",
      "749 - loss: 0.026773294433951378\n",
      "epoch1: 완료\n",
      "\n"
     ]
    },
    {
     "data": {
      "text/plain": [
       "Text(0, 0.5, 'loss')"
      ]
     },
     "execution_count": 37,
     "metadata": {},
     "output_type": "execute_result"
    },
    {
     "data": {
      "image/png": "[encoded data removed]",
      "text/plain": [
       "<Figure size 432x288 with 1 Axes>"
      ]
     },
     "metadata": {
      "needs_background": "light"
     },
     "output_type": "display_data"
    }
   ],
   "source": [
    "for epoch in range(1):\n",
    "  model.train() # switching to training mode\n",
    "  for iteration, batch in enumerate(dataloader_train):\n",
    "      batch_inputs = {k: v.cuda(device) for k, v in list(batch[0].items())}\n",
    "      batch_labels = batch[1].cuda(device)\n",
    "\n",
    "      output = model(**batch_inputs)\n",
    "      loss = CELoss(output.view(-1, output.size(-1)), batch_labels.view(-1))\n",
    "\n",
    "      optimizer.zero_grad()\n",
    "      loss.backward()\n",
    "\n",
    "      optimizer.step()\n",
    "\n",
    "      draw.append(loss.item())\n",
    "      if (iteration + 1) % 30 == 0:\n",
    "          print(f'{iteration:3} - loss: {loss.item()}')\n",
    "  print(\"epoch{}: 완료\\n\".format(epoch + 1))\n",
    "plt.plot(draw)\n",
    "plt.xlabel(\"iteration\")\n",
    "plt.ylabel(\"loss\")"
   ]
  },
  {
   "cell_type": "markdown",
   "metadata": {
    "id": "w_mCyPC7wE04"
   },
   "source": [
    "# Test"
   ]
  },
  {
   "cell_type": "code",
   "execution_count": 38,
   "metadata": {
    "colab": {
     "base_uri": "https://localhost:8080/",
     "height": 1000
    },
    "executionInfo": {
     "elapsed": 10365,
     "status": "ok",
     "timestamp": 1649493082107,
     "user": {
      "displayName": "우윤혁",
      "userId": "07903297194247438622"
     },
     "user_tz": -540
    },
    "id": "xjLilAF_wFFB",
    "outputId": "9e85246c-aa3d-4f9b-89f4-9e6f3805d35c"
   },
   "outputs": [
    {
     "name": "stdout",
     "output_type": "stream",
     "text": [
      "loss: 0.03213406726717949\n",
      "loss: 0.1102798655629158\n",
      "loss: 0.050900187343358994\n",
      "loss: 0.061525821685791016\n",
      "loss: 0.05499173700809479\n",
      "loss: 0.009833071380853653\n",
      "loss: 0.027206378057599068\n",
      "loss: 0.1526588350534439\n",
      "loss: 0.06235317513346672\n",
      "loss: 0.21791265904903412\n",
      "loss: 0.14266817271709442\n",
      "loss: 0.11661019176244736\n",
      "loss: 0.027788203209638596\n",
      "loss: 0.08564025908708572\n",
      "loss: 0.04072168469429016\n",
      "loss: 0.20184119045734406\n",
      "loss: 0.034594133496284485\n",
      "loss: 0.04128256440162659\n",
      "loss: 0.12114536017179489\n",
      "loss: 0.2627415359020233\n",
      "loss: 0.19398175179958344\n",
      "loss: 0.1817849725484848\n",
      "loss: 0.12306004017591476\n",
      "loss: 0.43966323137283325\n",
      "loss: 0.29218852519989014\n",
      "loss: 0.39662450551986694\n",
      "loss: 0.5120947957038879\n",
      "loss: 0.7202167510986328\n",
      "loss: 0.0851563811302185\n",
      "loss: 0.3585033416748047\n",
      "loss: 0.0034823676105588675\n",
      "loss: 0.17141485214233398\n",
      "loss: 0.01602230593562126\n",
      "loss: 0.1349472552537918\n",
      "loss: 0.0017599128186702728\n",
      "loss: 0.09973268955945969\n",
      "loss: 0.14077702164649963\n",
      "loss: 0.17448154091835022\n",
      "loss: 0.11811884492635727\n",
      "loss: 0.15039753913879395\n",
      "loss: 0.04201821610331535\n",
      "loss: 0.20363327860832214\n",
      "loss: 0.1686609983444214\n",
      "loss: 0.06621651351451874\n",
      "loss: 0.07834722846746445\n",
      "loss: 0.09692111611366272\n",
      "loss: 0.1393568515777588\n",
      "loss: 0.2812173366546631\n",
      "loss: 0.11354929208755493\n",
      "loss: 0.055858489125967026\n",
      "loss: 0.14870662987232208\n",
      "loss: 0.16126649081707\n",
      "loss: 0.20222629606723785\n",
      "loss: 0.23099130392074585\n",
      "loss: 0.14208444952964783\n",
      "loss: 0.09811707586050034\n",
      "loss: 0.13827525079250336\n",
      "loss: 0.06370241940021515\n",
      "loss: 0.25316479802131653\n",
      "loss: 0.24765127897262573\n",
      "loss: 0.23172947764396667\n",
      "loss: 0.10371557623147964\n",
      "loss: 0.2243267446756363\n",
      "loss: 0.04833051189780235\n",
      "loss: 0.06608668714761734\n",
      "loss: 0.054709117859601974\n",
      "loss: 0.1403413712978363\n",
      "loss: 0.05607452616095543\n",
      "loss: 0.008830848149955273\n",
      "loss: 0.14983771741390228\n",
      "loss: 0.20246610045433044\n",
      "loss: 0.0874188169836998\n",
      "loss: 0.062479883432388306\n",
      "loss: 0.06046547368168831\n",
      "loss: 0.05405155569314957\n",
      "loss: 0.01792203076183796\n",
      "loss: 0.39166826009750366\n",
      "loss: 0.024891210719943047\n",
      "loss: 0.0956597775220871\n",
      "loss: 0.034403104335069656\n",
      "loss: 0.057502634823322296\n",
      "loss: 0.04884153604507446\n",
      "loss: 0.13102446496486664\n",
      "loss: 0.0688813254237175\n",
      "loss: 0.12835460901260376\n",
      "loss: 0.15604929625988007\n",
      "loss: 0.11641360074281693\n",
      "loss: 0.17040123045444489\n",
      "loss: 0.06468222290277481\n",
      "loss: 0.17454689741134644\n",
      "loss: 0.12509410083293915\n",
      "loss: 0.33778685331344604\n",
      "loss: 0.2565230131149292\n",
      "loss: 0.0686822235584259\n",
      "loss: 0.2918646037578583\n",
      "loss: 0.11660247296094894\n",
      "loss: 0.21687200665473938\n",
      "loss: 0.1946231722831726\n",
      "loss: 0.07959359139204025\n",
      "loss: 0.18031702935695648\n",
      "loss: 0.08668821305036545\n",
      "loss: 0.03729747235774994\n",
      "loss: 0.1751014143228531\n",
      "loss: 0.2362799346446991\n",
      "loss: 0.13771644234657288\n",
      "loss: 0.12930558621883392\n",
      "loss: 0.008106905966997147\n",
      "loss: 0.03879597783088684\n",
      "loss: 0.03847124055027962\n",
      "loss: 0.1270953118801117\n",
      "loss: 0.03958943113684654\n",
      "loss: 0.06215926632285118\n",
      "loss: 0.06897503137588501\n",
      "loss: 0.08735673874616623\n",
      "loss: 0.09176276624202728\n",
      "loss: 0.059569668024778366\n",
      "loss: 0.05783084034919739\n",
      "loss: 0.19536061584949493\n",
      "loss: 0.14733320474624634\n",
      "loss: 0.0546768419444561\n",
      "loss: 0.10577870905399323\n",
      "loss: 0.22974276542663574\n",
      "loss: 0.526304304599762\n",
      "loss: 0.11248449981212616\n",
      "loss: 0.28406113386154175\n",
      "loss: 0.28258347511291504\n",
      "loss: 0.10280236601829529\n",
      "loss: 0.04227070510387421\n",
      "loss: 0.3123761713504791\n",
      "loss: 0.035821810364723206\n",
      "loss: 0.13945314288139343\n",
      "loss: 0.1657121777534485\n",
      "loss: 0.17290346324443817\n",
      "loss: 0.12185636907815933\n",
      "loss: 0.06119279935956001\n",
      "loss: 0.2324661761522293\n",
      "loss: 0.002976858988404274\n",
      "loss: 0.1193537786602974\n",
      "loss: 0.2024259865283966\n",
      "loss: 0.2155846804380417\n",
      "loss: 0.27542194724082947\n",
      "loss: 0.2129707932472229\n",
      "loss: 0.14291362464427948\n",
      "loss: 0.02996884286403656\n",
      "loss: 0.01011191587895155\n",
      "loss: 0.06827780604362488\n",
      "loss: 0.025260817259550095\n",
      "loss: 0.045285388827323914\n",
      "loss: 0.16305969655513763\n",
      "loss: 0.08480942994356155\n",
      "loss: 0.038008857518434525\n",
      "loss: 0.21406641602516174\n",
      "loss: 0.2949373722076416\n",
      "loss: 0.0952216163277626\n",
      "loss: 0.050455477088689804\n",
      "loss: 0.01554908324033022\n",
      "loss: 0.01114562526345253\n",
      "loss: 0.05836998298764229\n",
      "loss: 0.0022572583984583616\n",
      "loss: 0.06830339878797531\n",
      "loss: 0.003773166099563241\n",
      "loss: 0.005594333633780479\n",
      "loss: 0.10629401355981827\n",
      "loss: 0.15693415701389313\n",
      "loss: 0.18761861324310303\n",
      "loss: 0.011310925707221031\n",
      "loss: 0.18299449980258942\n",
      "loss: 0.20170904695987701\n",
      "loss: 0.14803390204906464\n",
      "loss: 0.13138547539710999\n",
      "loss: 0.049578528851270676\n",
      "loss: 0.012852259911596775\n",
      "loss: 0.07318701595067978\n",
      "loss: 0.2531845271587372\n",
      "loss: 0.1740296632051468\n",
      "loss: 0.1240982934832573\n",
      "loss: 0.13283546268939972\n",
      "loss: 0.3092634975910187\n",
      "loss: 0.3377428650856018\n",
      "loss: 0.10855299979448318\n",
      "loss: 0.3332899510860443\n",
      "loss: 0.11412481218576431\n",
      "loss: 0.10692539066076279\n",
      "loss: 0.13363537192344666\n",
      "loss: 0.06924282014369965\n"
     ]
    },
    {
     "data": {
      "text/plain": [
       "Text(0, 0.5, 'loss')"
      ]
     },
     "execution_count": 38,
     "metadata": {},
     "output_type": "execute_result"
    },
    {
     "data": {
      "image/png": "[encoded data removed]",
      "text/plain": [
       "<Figure size 432x288 with 1 Axes>"
      ]
     },
     "metadata": {
      "needs_background": "light"
     },
     "output_type": "display_data"
    }
   ],
   "source": [
    "model.eval() # switching to evalutating mode: a function that turns off layers that should not be used in the evaluation process.\n",
    "\n",
    "gold_list = [] # true\n",
    "pred_list = []\n",
    "draw_test = []\n",
    "\n",
    "with torch.no_grad():\n",
    "    for iteration, batch in enumerate(dataloader_test):\n",
    "        batch_inputs = {k: v.cuda(device) for k, v in list(batch[0].items())}\n",
    "        batch_labels = batch[1].cuda(device)\n",
    "\n",
    "        output = model(**batch_inputs)\n",
    "\n",
    "        loss = CELoss(output.view(-1, output.size(-1)), batch_labels.view(-1))\n",
    "\n",
    "        print('loss:', loss.item())\n",
    "        draw_test.append(loss.item())\n",
    "\n",
    "        pred_ids = torch.argmax(output, dim = -1)\n",
    "        \n",
    "        for g, p in zip(batch_labels, pred_ids):\n",
    "            gold_mask = g != 0\n",
    "            \n",
    "            gold = convert_id_to_tag_list(g[gold_mask].tolist())\n",
    "            pred = convert_id_to_tag_list(p[gold_mask].tolist())\n",
    "            gold_list.append(gold)\n",
    "            pred_list.append(pred)\n",
    "            \n",
    "            # print(gold)\n",
    "            # print(pred)\n",
    "plt.plot(draw_test)\n",
    "plt.xlabel(\"iteration\")\n",
    "plt.ylabel(\"loss\")"
   ]
  },
  {
   "cell_type": "markdown",
   "metadata": {
    "id": "Y2lV_xHdwKZp"
   },
   "source": []
  },
  {
   "cell_type": "code",
   "execution_count": 39,
   "metadata": {
    "executionInfo": {
     "elapsed": 27,
     "status": "ok",
     "timestamp": 1649493082108,
     "user": {
      "displayName": "우윤혁",
      "userId": "07903297194247438622"
     },
     "user_tz": -540
    },
    "id": "lkx3D2WUwKr2"
   },
   "outputs": [],
   "source": [
    "gold_list_flat = []\n",
    "pred_list_flat = []\n",
    "for g, p in zip(gold_list, pred_list):\n",
    "    gold_list_flat += g\n",
    "    pred_list_flat += p"
   ]
  },
  {
   "cell_type": "code",
   "execution_count": 40,
   "metadata": {
    "executionInfo": {
     "elapsed": 25,
     "status": "ok",
     "timestamp": 1649493082109,
     "user": {
      "displayName": "우윤혁",
      "userId": "07903297194247438622"
     },
     "user_tz": -540
    },
    "id": "f2oKngHfwK4o"
   },
   "outputs": [],
   "source": [
    "tag_to_id = {'I-LOC': 0, 'I-PER': 2, 'B-PER': 3, 'B-MISC': 4, 'I-ORG': 5, 'B-ORG': 6, 'I-MISC': 7, 'B-LOC': 8, 'PAD': 9}"
   ]
  },
  {
   "cell_type": "code",
   "execution_count": 41,
   "metadata": {
    "colab": {
     "base_uri": "https://localhost:8080/"
    },
    "executionInfo": {
     "elapsed": 507,
     "status": "ok",
     "timestamp": 1649493082593,
     "user": {
      "displayName": "우윤혁",
      "userId": "07903297194247438622"
     },
     "user_tz": -540
    },
    "id": "69vm83NywPPZ",
    "outputId": "bd120c14-1fee-4f0a-c5bd-39b3eecc2ac3"
   },
   "outputs": [
    {
     "name": "stderr",
     "output_type": "stream",
     "text": [
      "/usr/local/lib/python3.7/dist-packages/sklearn/metrics/_classification.py:1318: UndefinedMetricWarning: Precision and F-score are ill-defined and being set to 0.0 in labels with no predicted samples. Use `zero_division` parameter to control this behavior.\n",
      "  _warn_prf(average, modifier, msg_start, len(result))\n",
      "/usr/local/lib/python3.7/dist-packages/sklearn/metrics/_classification.py:1318: UndefinedMetricWarning: Recall and F-score are ill-defined and being set to 0.0 in labels with no true samples. Use `zero_division` parameter to control this behavior.\n",
      "  _warn_prf(average, modifier, msg_start, len(result))\n"
     ]
    },
    {
     "name": "stdout",
     "output_type": "stream",
     "text": [
      "              precision    recall  f1-score   support\n",
      "\n",
      "       I-PER    0.94101   0.95662   0.94875      3435\n",
      "       B-PER    0.90866   0.94743   0.92764      1617\n",
      "      B-MISC    0.74763   0.78490   0.76581       702\n",
      "       I-ORG    0.93476   0.84580   0.88805      2795\n",
      "       B-ORG    0.91667   0.82119   0.86631      1661\n",
      "      I-MISC    0.51810   0.59785   0.55512       838\n",
      "       B-LOC    0.90694   0.91727   0.91207      1668\n",
      "         PAD    0.00000   0.00000   0.00000         0\n",
      "\n",
      "   micro avg    0.88416   0.87512   0.87961     12716\n",
      "   macro avg    0.73422   0.73388   0.73297     12716\n",
      "weighted avg    0.88933   0.87512   0.88111     12716\n",
      "\n"
     ]
    },
    {
     "name": "stderr",
     "output_type": "stream",
     "text": [
      "/usr/local/lib/python3.7/dist-packages/sklearn/metrics/_classification.py:1318: UndefinedMetricWarning: Precision and F-score are ill-defined and being set to 0.0 in labels with no predicted samples. Use `zero_division` parameter to control this behavior.\n",
      "  _warn_prf(average, modifier, msg_start, len(result))\n",
      "/usr/local/lib/python3.7/dist-packages/sklearn/metrics/_classification.py:1318: UndefinedMetricWarning: Recall and F-score are ill-defined and being set to 0.0 in labels with no true samples. Use `zero_division` parameter to control this behavior.\n",
      "  _warn_prf(average, modifier, msg_start, len(result))\n",
      "/usr/local/lib/python3.7/dist-packages/sklearn/metrics/_classification.py:1318: UndefinedMetricWarning: Precision and F-score are ill-defined and being set to 0.0 in labels with no predicted samples. Use `zero_division` parameter to control this behavior.\n",
      "  _warn_prf(average, modifier, msg_start, len(result))\n",
      "/usr/local/lib/python3.7/dist-packages/sklearn/metrics/_classification.py:1318: UndefinedMetricWarning: Recall and F-score are ill-defined and being set to 0.0 in labels with no true samples. Use `zero_division` parameter to control this behavior.\n",
      "  _warn_prf(average, modifier, msg_start, len(result))\n"
     ]
    }
   ],
   "source": [
    "print(classification_report(gold_list_flat, pred_list_flat, digits=5, labels=list(tag_to_id.keys())[1:]))"
   ]
  },
  {
   "cell_type": "code",
   "execution_count": 42,
   "metadata": {
    "colab": {
     "base_uri": "https://localhost:8080/"
    },
    "executionInfo": {
     "elapsed": 7,
     "status": "ok",
     "timestamp": 1649493082594,
     "user": {
      "displayName": "우윤혁",
      "userId": "07903297194247438622"
     },
     "user_tz": -540
    },
    "id": "96jB8gNXwPgG",
    "outputId": "940b9c85-c83f-42dd-de03-9c732f6323c6"
   },
   "outputs": [
    {
     "data": {
      "text/plain": [
       "0.9659912708273599"
      ]
     },
     "execution_count": 42,
     "metadata": {},
     "output_type": "execute_result"
    }
   ],
   "source": [
    "from sklearn.metrics import accuracy_score\n",
    "accuracy_score(gold_list_flat, pred_list_flat)"
   ]
  }
 ],
 "metadata": {
  "accelerator": "GPU",
  "colab": {
   "authorship_tag": "ABX9TyNSLV3eRWM40vLBStS56mwu",
   "collapsed_sections": [],
   "mount_file_id": "1G77zYC3OpDHkl7M_YYv9zVr7mrbaGUnk",
   "name": "English_NER.ipynb",
   "provenance": []
  },
  "kernelspec": {
   "display_name": "Python 3",
   "language": "python",
   "name": "python3"
  },
  "language_info": {
   "codemirror_mode": {
    "name": "ipython",
    "version": 3
   },
   "file_extension": ".py",
   "mimetype": "text/x-python",
   "name": "python",
   "nbconvert_exporter": "python",
   "pygments_lexer": "ipython3",
   "version": "3.8.8"
  },
  "widgets": {
   "application/vnd.jupyter.widget-state+json": {
    "05772ab053ae4bdabcb36dfcb9db995b": {
     "model_module": "@jupyter-widgets/controls",
     "model_module_version": "1.5.0",
     "model_name": "HTMLModel",
     "state": {
      "_dom_classes": [],
      "_model_module": "@jupyter-widgets/controls",
      "_model_module_version": "1.5.0",
      "_model_name": "HTMLModel",
      "_view_count": null,
      "_view_module": "@jupyter-widgets/controls",
      "_view_module_version": "1.5.0",
      "_view_name": "HTMLView",
      "description": "",
      "description_tooltip": null,
      "layout": "IPY_MODEL_9edd1db313cf495391185f8041c7f782",
      "placeholder": "​",
      "style": "IPY_MODEL_26b363511f134a06ad320513aa32c963",
      "value": "Downloading: 100%"
     }
    },
    "06095ee887314be0ba95dad9b43f8bad": {
     "model_module": "@jupyter-widgets/base",
     "model_module_version": "1.2.0",
     "model_name": "LayoutModel",
     "state": {
      "_model_module": "@jupyter-widgets/base",
      "_model_module_version": "1.2.0",
      "_model_name": "LayoutModel",
      "_view_count": null,
      "_view_module": "@jupyter-widgets/base",
      "_view_module_version": "1.2.0",
      "_view_name": "LayoutView",
      "align_content": null,
      "align_items": null,
      "align_self": null,
      "border": null,
      "bottom": null,
      "display": null,
      "flex": null,
      "flex_flow": null,
      "grid_area": null,
      "grid_auto_columns": null,
      "grid_auto_flow": null,
      "grid_auto_rows": null,
      "grid_column": null,
      "grid_gap": null,
      "grid_row": null,
      "grid_template_areas": null,
      "grid_template_columns": null,
      "grid_template_rows": null,
      "height": null,
      "justify_content": null,
      "justify_items": null,
      "left": null,
      "margin": null,
      "max_height": null,
      "max_width": null,
      "min_height": null,
      "min_width": null,
      "object_fit": null,
      "object_position": null,
      "order": null,
      "overflow": null,
      "overflow_x": null,
      "overflow_y": null,
      "padding": null,
      "right": null,
      "top": null,
      "visibility": null,
      "width": null
     }
    },
    "0c45d3e9ef0041b7ac34bce46ced4666": {
     "model_module": "@jupyter-widgets/controls",
     "model_module_version": "1.5.0",
     "model_name": "DescriptionStyleModel",
     "state": {
      "_model_module": "@jupyter-widgets/controls",
      "_model_module_version": "1.5.0",
      "_model_name": "DescriptionStyleModel",
      "_view_count": null,
      "_view_module": "@jupyter-widgets/base",
      "_view_module_version": "1.2.0",
      "_view_name": "StyleView",
      "description_width": ""
     }
    },
    "10af48cb7b4d4bc099de82d1a88c0ea4": {
     "model_module": "@jupyter-widgets/controls",
     "model_module_version": "1.5.0",
     "model_name": "FloatProgressModel",
     "state": {
      "_dom_classes": [],
      "_model_module": "@jupyter-widgets/controls",
      "_model_module_version": "1.5.0",
      "_model_name": "FloatProgressModel",
      "_view_count": null,
      "_view_module": "@jupyter-widgets/controls",
      "_view_module_version": "1.5.0",
      "_view_name": "ProgressView",
      "bar_style": "success",
      "description": "",
      "description_tooltip": null,
      "layout": "IPY_MODEL_5f18818e32a74f0aa868eba3e9beb502",
      "max": 625,
      "min": 0,
      "orientation": "horizontal",
      "style": "IPY_MODEL_5716b3212faa49d086a5bc46a5267ad7",
      "value": 625
     }
    },
    "179ee367cfdf411a9c29cdc1d216c357": {
     "model_module": "@jupyter-widgets/controls",
     "model_module_version": "1.5.0",
     "model_name": "DescriptionStyleModel",
     "state": {
      "_model_module": "@jupyter-widgets/controls",
      "_model_module_version": "1.5.0",
      "_model_name": "DescriptionStyleModel",
      "_view_count": null,
      "_view_module": "@jupyter-widgets/base",
      "_view_module_version": "1.2.0",
      "_view_name": "StyleView",
      "description_width": ""
     }
    },
    "26b363511f134a06ad320513aa32c963": {
     "model_module": "@jupyter-widgets/controls",
     "model_module_version": "1.5.0",
     "model_name": "DescriptionStyleModel",
     "state": {
      "_model_module": "@jupyter-widgets/controls",
      "_model_module_version": "1.5.0",
      "_model_name": "DescriptionStyleModel",
      "_view_count": null,
      "_view_module": "@jupyter-widgets/base",
      "_view_module_version": "1.2.0",
      "_view_name": "StyleView",
      "description_width": ""
     }
    },
    "4914179f83f847f1a98f47ec97787639": {
     "model_module": "@jupyter-widgets/controls",
     "model_module_version": "1.5.0",
     "model_name": "ProgressStyleModel",
     "state": {
      "_model_module": "@jupyter-widgets/controls",
      "_model_module_version": "1.5.0",
      "_model_name": "ProgressStyleModel",
      "_view_count": null,
      "_view_module": "@jupyter-widgets/base",
      "_view_module_version": "1.2.0",
      "_view_name": "StyleView",
      "bar_color": null,
      "description_width": ""
     }
    },
    "4a16b2cb5a4f452096e128060f2867b2": {
     "model_module": "@jupyter-widgets/controls",
     "model_module_version": "1.5.0",
     "model_name": "HBoxModel",
     "state": {
      "_dom_classes": [],
      "_model_module": "@jupyter-widgets/controls",
      "_model_module_version": "1.5.0",
      "_model_name": "HBoxModel",
      "_view_count": null,
      "_view_module": "@jupyter-widgets/controls",
      "_view_module_version": "1.5.0",
      "_view_name": "HBoxView",
      "box_style": "",
      "children": [
       "IPY_MODEL_b26a55e885814c97bb3fb4f8a487e6ed",
       "IPY_MODEL_cf7d6237edb94d679c98e487a5e25425",
       "IPY_MODEL_6a379869581f46d587dcd742bc586aeb"
      ],
      "layout": "IPY_MODEL_06095ee887314be0ba95dad9b43f8bad"
     }
    },
    "4adfe479592d44989e738fa3c92d9764": {
     "model_module": "@jupyter-widgets/base",
     "model_module_version": "1.2.0",
     "model_name": "LayoutModel",
     "state": {
      "_model_module": "@jupyter-widgets/base",
      "_model_module_version": "1.2.0",
      "_model_name": "LayoutModel",
      "_view_count": null,
      "_view_module": "@jupyter-widgets/base",
      "_view_module_version": "1.2.0",
      "_view_name": "LayoutView",
      "align_content": null,
      "align_items": null,
      "align_self": null,
      "border": null,
      "bottom": null,
      "display": null,
      "flex": null,
      "flex_flow": null,
      "grid_area": null,
      "grid_auto_columns": null,
      "grid_auto_flow": null,
      "grid_auto_rows": null,
      "grid_column": null,
      "grid_gap": null,
      "grid_row": null,
      "grid_template_areas": null,
      "grid_template_columns": null,
      "grid_template_rows": null,
      "height": null,
      "justify_content": null,
      "justify_items": null,
      "left": null,
      "margin": null,
      "max_height": null,
      "max_width": null,
      "min_height": null,
      "min_width": null,
      "object_fit": null,
      "object_position": null,
      "order": null,
      "overflow": null,
      "overflow_x": null,
      "overflow_y": null,
      "padding": null,
      "right": null,
      "top": null,
      "visibility": null,
      "width": null
     }
    },
    "4e05cb5b699248219b86a18611da2683": {
     "model_module": "@jupyter-widgets/controls",
     "model_module_version": "1.5.0",
     "model_name": "ProgressStyleModel",
     "state": {
      "_model_module": "@jupyter-widgets/controls",
      "_model_module_version": "1.5.0",
      "_model_name": "ProgressStyleModel",
      "_view_count": null,
      "_view_module": "@jupyter-widgets/base",
      "_view_module_version": "1.2.0",
      "_view_name": "StyleView",
      "bar_color": null,
      "description_width": ""
     }
    },
    "4e65d9c819a74f9eb6752663ad5b3756": {
     "model_module": "@jupyter-widgets/base",
     "model_module_version": "1.2.0",
     "model_name": "LayoutModel",
     "state": {
      "_model_module": "@jupyter-widgets/base",
      "_model_module_version": "1.2.0",
      "_model_name": "LayoutModel",
      "_view_count": null,
      "_view_module": "@jupyter-widgets/base",
      "_view_module_version": "1.2.0",
      "_view_name": "LayoutView",
      "align_content": null,
      "align_items": null,
      "align_self": null,
      "border": null,
      "bottom": null,
      "display": null,
      "flex": null,
      "flex_flow": null,
      "grid_area": null,
      "grid_auto_columns": null,
      "grid_auto_flow": null,
      "grid_auto_rows": null,
      "grid_column": null,
      "grid_gap": null,
      "grid_row": null,
      "grid_template_areas": null,
      "grid_template_columns": null,
      "grid_template_rows": null,
      "height": null,
      "justify_content": null,
      "justify_items": null,
      "left": null,
      "margin": null,
      "max_height": null,
      "max_width": null,
      "min_height": null,
      "min_width": null,
      "object_fit": null,
      "object_position": null,
      "order": null,
      "overflow": null,
      "overflow_x": null,
      "overflow_y": null,
      "padding": null,
      "right": null,
      "top": null,
      "visibility": null,
      "width": null
     }
    },
    "5716b3212faa49d086a5bc46a5267ad7": {
     "model_module": "@jupyter-widgets/controls",
     "model_module_version": "1.5.0",
     "model_name": "ProgressStyleModel",
     "state": {
      "_model_module": "@jupyter-widgets/controls",
      "_model_module_version": "1.5.0",
      "_model_name": "ProgressStyleModel",
      "_view_count": null,
      "_view_module": "@jupyter-widgets/base",
      "_view_module_version": "1.2.0",
      "_view_name": "StyleView",
      "bar_color": null,
      "description_width": ""
     }
    },
    "58d7991e19204ac7a54c9423a0f0f88d": {
     "model_module": "@jupyter-widgets/base",
     "model_module_version": "1.2.0",
     "model_name": "LayoutModel",
     "state": {
      "_model_module": "@jupyter-widgets/base",
      "_model_module_version": "1.2.0",
      "_model_name": "LayoutModel",
      "_view_count": null,
      "_view_module": "@jupyter-widgets/base",
      "_view_module_version": "1.2.0",
      "_view_name": "LayoutView",
      "align_content": null,
      "align_items": null,
      "align_self": null,
      "border": null,
      "bottom": null,
      "display": null,
      "flex": null,
      "flex_flow": null,
      "grid_area": null,
      "grid_auto_columns": null,
      "grid_auto_flow": null,
      "grid_auto_rows": null,
      "grid_column": null,
      "grid_gap": null,
      "grid_row": null,
      "grid_template_areas": null,
      "grid_template_columns": null,
      "grid_template_rows": null,
      "height": null,
      "justify_content": null,
      "justify_items": null,
      "left": null,
      "margin": null,
      "max_height": null,
      "max_width": null,
      "min_height": null,
      "min_width": null,
      "object_fit": null,
      "object_position": null,
      "order": null,
      "overflow": null,
      "overflow_x": null,
      "overflow_y": null,
      "padding": null,
      "right": null,
      "top": null,
      "visibility": null,
      "width": null
     }
    },
    "5da56116f45f48afa426b05e0bd894b7": {
     "model_module": "@jupyter-widgets/controls",
     "model_module_version": "1.5.0",
     "model_name": "DescriptionStyleModel",
     "state": {
      "_model_module": "@jupyter-widgets/controls",
      "_model_module_version": "1.5.0",
      "_model_name": "DescriptionStyleModel",
      "_view_count": null,
      "_view_module": "@jupyter-widgets/base",
      "_view_module_version": "1.2.0",
      "_view_name": "StyleView",
      "description_width": ""
     }
    },
    "5f18818e32a74f0aa868eba3e9beb502": {
     "model_module": "@jupyter-widgets/base",
     "model_module_version": "1.2.0",
     "model_name": "LayoutModel",
     "state": {
      "_model_module": "@jupyter-widgets/base",
      "_model_module_version": "1.2.0",
      "_model_name": "LayoutModel",
      "_view_count": null,
      "_view_module": "@jupyter-widgets/base",
      "_view_module_version": "1.2.0",
      "_view_name": "LayoutView",
      "align_content": null,
      "align_items": null,
      "align_self": null,
      "border": null,
      "bottom": null,
      "display": null,
      "flex": null,
      "flex_flow": null,
      "grid_area": null,
      "grid_auto_columns": null,
      "grid_auto_flow": null,
      "grid_auto_rows": null,
      "grid_column": null,
      "grid_gap": null,
      "grid_row": null,
      "grid_template_areas": null,
      "grid_template_columns": null,
      "grid_template_rows": null,
      "height": null,
      "justify_content": null,
      "justify_items": null,
      "left": null,
      "margin": null,
      "max_height": null,
      "max_width": null,
      "min_height": null,
      "min_width": null,
      "object_fit": null,
      "object_position": null,
      "order": null,
      "overflow": null,
      "overflow_x": null,
      "overflow_y": null,
      "padding": null,
      "right": null,
      "top": null,
      "visibility": null,
      "width": null
     }
    },
    "5f5294d1babd4755b5a5a311dc923715": {
     "model_module": "@jupyter-widgets/controls",
     "model_module_version": "1.5.0",
     "model_name": "HBoxModel",
     "state": {
      "_dom_classes": [],
      "_model_module": "@jupyter-widgets/controls",
      "_model_module_version": "1.5.0",
      "_model_name": "HBoxModel",
      "_view_count": null,
      "_view_module": "@jupyter-widgets/controls",
      "_view_module_version": "1.5.0",
      "_view_name": "HBoxView",
      "box_style": "",
      "children": [
       "IPY_MODEL_05772ab053ae4bdabcb36dfcb9db995b",
       "IPY_MODEL_bb5ce4bac8604f19933ce7c5d0fad8a8",
       "IPY_MODEL_7ca1257b7a70434a81cd76306da6b7da"
      ],
      "layout": "IPY_MODEL_893276cac2ba4ed79a2e7b2c97956ec2"
     }
    },
    "602ead951e624c35b6fa6cc6e0b12930": {
     "model_module": "@jupyter-widgets/base",
     "model_module_version": "1.2.0",
     "model_name": "LayoutModel",
     "state": {
      "_model_module": "@jupyter-widgets/base",
      "_model_module_version": "1.2.0",
      "_model_name": "LayoutModel",
      "_view_count": null,
      "_view_module": "@jupyter-widgets/base",
      "_view_module_version": "1.2.0",
      "_view_name": "LayoutView",
      "align_content": null,
      "align_items": null,
      "align_self": null,
      "border": null,
      "bottom": null,
      "display": null,
      "flex": null,
      "flex_flow": null,
      "grid_area": null,
      "grid_auto_columns": null,
      "grid_auto_flow": null,
      "grid_auto_rows": null,
      "grid_column": null,
      "grid_gap": null,
      "grid_row": null,
      "grid_template_areas": null,
      "grid_template_columns": null,
      "grid_template_rows": null,
      "height": null,
      "justify_content": null,
      "justify_items": null,
      "left": null,
      "margin": null,
      "max_height": null,
      "max_width": null,
      "min_height": null,
      "min_width": null,
      "object_fit": null,
      "object_position": null,
      "order": null,
      "overflow": null,
      "overflow_x": null,
      "overflow_y": null,
      "padding": null,
      "right": null,
      "top": null,
      "visibility": null,
      "width": null
     }
    },
    "6a379869581f46d587dcd742bc586aeb": {
     "model_module": "@jupyter-widgets/controls",
     "model_module_version": "1.5.0",
     "model_name": "HTMLModel",
     "state": {
      "_dom_classes": [],
      "_model_module": "@jupyter-widgets/controls",
      "_model_module_version": "1.5.0",
      "_model_name": "HTMLModel",
      "_view_count": null,
      "_view_module": "@jupyter-widgets/controls",
      "_view_module_version": "1.5.0",
      "_view_name": "HTMLView",
      "description": "",
      "description_tooltip": null,
      "layout": "IPY_MODEL_58d7991e19204ac7a54c9423a0f0f88d",
      "placeholder": "​",
      "style": "IPY_MODEL_0c45d3e9ef0041b7ac34bce46ced4666",
      "value": " 29.0/29.0 [00:00&lt;00:00, 907B/s]"
     }
    },
    "6d750a91baf14a479e30cfaac36370cd": {
     "model_module": "@jupyter-widgets/controls",
     "model_module_version": "1.5.0",
     "model_name": "DescriptionStyleModel",
     "state": {
      "_model_module": "@jupyter-widgets/controls",
      "_model_module_version": "1.5.0",
      "_model_name": "DescriptionStyleModel",
      "_view_count": null,
      "_view_module": "@jupyter-widgets/base",
      "_view_module_version": "1.2.0",
      "_view_name": "StyleView",
      "description_width": ""
     }
    },
    "7c953d77a53d4ad9a21734d6db12366e": {
     "model_module": "@jupyter-widgets/controls",
     "model_module_version": "1.5.0",
     "model_name": "DescriptionStyleModel",
     "state": {
      "_model_module": "@jupyter-widgets/controls",
      "_model_module_version": "1.5.0",
      "_model_name": "DescriptionStyleModel",
      "_view_count": null,
      "_view_module": "@jupyter-widgets/base",
      "_view_module_version": "1.2.0",
      "_view_name": "StyleView",
      "description_width": ""
     }
    },
    "7ca1257b7a70434a81cd76306da6b7da": {
     "model_module": "@jupyter-widgets/controls",
     "model_module_version": "1.5.0",
     "model_name": "HTMLModel",
     "state": {
      "_dom_classes": [],
      "_model_module": "@jupyter-widgets/controls",
      "_model_module_version": "1.5.0",
      "_model_name": "HTMLModel",
      "_view_count": null,
      "_view_module": "@jupyter-widgets/controls",
      "_view_module_version": "1.5.0",
      "_view_name": "HTMLView",
      "description": "",
      "description_tooltip": null,
      "layout": "IPY_MODEL_e9f82a8e1ec94cddab3bb02eab851c4b",
      "placeholder": "​",
      "style": "IPY_MODEL_7c953d77a53d4ad9a21734d6db12366e",
      "value": " 681M/681M [00:14&lt;00:00, 49.7MB/s]"
     }
    },
    "7f1426b2b9d240008967e2e87d64c510": {
     "model_module": "@jupyter-widgets/controls",
     "model_module_version": "1.5.0",
     "model_name": "HBoxModel",
     "state": {
      "_dom_classes": [],
      "_model_module": "@jupyter-widgets/controls",
      "_model_module_version": "1.5.0",
      "_model_name": "HBoxModel",
      "_view_count": null,
      "_view_module": "@jupyter-widgets/controls",
      "_view_module_version": "1.5.0",
      "_view_name": "HBoxView",
      "box_style": "",
      "children": [
       "IPY_MODEL_9e9ae1504ae34c9ebda0f9bc1575b32c",
       "IPY_MODEL_c6e3c5e00cb642cb800d0830943831c1",
       "IPY_MODEL_8fb484e3da9441cc97c519d159b0940c"
      ],
      "layout": "IPY_MODEL_602ead951e624c35b6fa6cc6e0b12930"
     }
    },
    "893276cac2ba4ed79a2e7b2c97956ec2": {
     "model_module": "@jupyter-widgets/base",
     "model_module_version": "1.2.0",
     "model_name": "LayoutModel",
     "state": {
      "_model_module": "@jupyter-widgets/base",
      "_model_module_version": "1.2.0",
      "_model_name": "LayoutModel",
      "_view_count": null,
      "_view_module": "@jupyter-widgets/base",
      "_view_module_version": "1.2.0",
      "_view_name": "LayoutView",
      "align_content": null,
      "align_items": null,
      "align_self": null,
      "border": null,
      "bottom": null,
      "display": null,
      "flex": null,
      "flex_flow": null,
      "grid_area": null,
      "grid_auto_columns": null,
      "grid_auto_flow": null,
      "grid_auto_rows": null,
      "grid_column": null,
      "grid_gap": null,
      "grid_row": null,
      "grid_template_areas": null,
      "grid_template_columns": null,
      "grid_template_rows": null,
      "height": null,
      "justify_content": null,
      "justify_items": null,
      "left": null,
      "margin": null,
      "max_height": null,
      "max_width": null,
      "min_height": null,
      "min_width": null,
      "object_fit": null,
      "object_position": null,
      "order": null,
      "overflow": null,
      "overflow_x": null,
      "overflow_y": null,
      "padding": null,
      "right": null,
      "top": null,
      "visibility": null,
      "width": null
     }
    },
    "8fb484e3da9441cc97c519d159b0940c": {
     "model_module": "@jupyter-widgets/controls",
     "model_module_version": "1.5.0",
     "model_name": "HTMLModel",
     "state": {
      "_dom_classes": [],
      "_model_module": "@jupyter-widgets/controls",
      "_model_module_version": "1.5.0",
      "_model_name": "HTMLModel",
      "_view_count": null,
      "_view_module": "@jupyter-widgets/controls",
      "_view_module_version": "1.5.0",
      "_view_name": "HTMLView",
      "description": "",
      "description_tooltip": null,
      "layout": "IPY_MODEL_b7370fe65f0045aeb8a2b0ea249e25f3",
      "placeholder": "​",
      "style": "IPY_MODEL_179ee367cfdf411a9c29cdc1d216c357",
      "value": " 972k/972k [00:00&lt;00:00, 2.83MB/s]"
     }
    },
    "92f585b1e1e840b999cfd8db86564bec": {
     "model_module": "@jupyter-widgets/controls",
     "model_module_version": "1.5.0",
     "model_name": "HBoxModel",
     "state": {
      "_dom_classes": [],
      "_model_module": "@jupyter-widgets/controls",
      "_model_module_version": "1.5.0",
      "_model_name": "HBoxModel",
      "_view_count": null,
      "_view_module": "@jupyter-widgets/controls",
      "_view_module_version": "1.5.0",
      "_view_name": "HBoxView",
      "box_style": "",
      "children": [
       "IPY_MODEL_b60faa34b563489b9da14804b07e8efd",
       "IPY_MODEL_10af48cb7b4d4bc099de82d1a88c0ea4",
       "IPY_MODEL_feca3c25598547ae8bf7b12350907dd9"
      ],
      "layout": "IPY_MODEL_e4dd88f071b74dc2afcac0896d61181e"
     }
    },
    "97d5dee209b8453b9762c41c8d733e89": {
     "model_module": "@jupyter-widgets/controls",
     "model_module_version": "1.5.0",
     "model_name": "DescriptionStyleModel",
     "state": {
      "_model_module": "@jupyter-widgets/controls",
      "_model_module_version": "1.5.0",
      "_model_name": "DescriptionStyleModel",
      "_view_count": null,
      "_view_module": "@jupyter-widgets/base",
      "_view_module_version": "1.2.0",
      "_view_name": "StyleView",
      "description_width": ""
     }
    },
    "9e9ae1504ae34c9ebda0f9bc1575b32c": {
     "model_module": "@jupyter-widgets/controls",
     "model_module_version": "1.5.0",
     "model_name": "HTMLModel",
     "state": {
      "_dom_classes": [],
      "_model_module": "@jupyter-widgets/controls",
      "_model_module_version": "1.5.0",
      "_model_name": "HTMLModel",
      "_view_count": null,
      "_view_module": "@jupyter-widgets/controls",
      "_view_module_version": "1.5.0",
      "_view_name": "HTMLView",
      "description": "",
      "description_tooltip": null,
      "layout": "IPY_MODEL_a95a6aae171944889c6b9787ddef6726",
      "placeholder": "​",
      "style": "IPY_MODEL_97d5dee209b8453b9762c41c8d733e89",
      "value": "Downloading: 100%"
     }
    },
    "9edd1db313cf495391185f8041c7f782": {
     "model_module": "@jupyter-widgets/base",
     "model_module_version": "1.2.0",
     "model_name": "LayoutModel",
     "state": {
      "_model_module": "@jupyter-widgets/base",
      "_model_module_version": "1.2.0",
      "_model_name": "LayoutModel",
      "_view_count": null,
      "_view_module": "@jupyter-widgets/base",
      "_view_module_version": "1.2.0",
      "_view_name": "LayoutView",
      "align_content": null,
      "align_items": null,
      "align_self": null,
      "border": null,
      "bottom": null,
      "display": null,
      "flex": null,
      "flex_flow": null,
      "grid_area": null,
      "grid_auto_columns": null,
      "grid_auto_flow": null,
      "grid_auto_rows": null,
      "grid_column": null,
      "grid_gap": null,
      "grid_row": null,
      "grid_template_areas": null,
      "grid_template_columns": null,
      "grid_template_rows": null,
      "height": null,
      "justify_content": null,
      "justify_items": null,
      "left": null,
      "margin": null,
      "max_height": null,
      "max_width": null,
      "min_height": null,
      "min_width": null,
      "object_fit": null,
      "object_position": null,
      "order": null,
      "overflow": null,
      "overflow_x": null,
      "overflow_y": null,
      "padding": null,
      "right": null,
      "top": null,
      "visibility": null,
      "width": null
     }
    },
    "a3133d52556a434db1b922a9e3796dee": {
     "model_module": "@jupyter-widgets/controls",
     "model_module_version": "1.5.0",
     "model_name": "DescriptionStyleModel",
     "state": {
      "_model_module": "@jupyter-widgets/controls",
      "_model_module_version": "1.5.0",
      "_model_name": "DescriptionStyleModel",
      "_view_count": null,
      "_view_module": "@jupyter-widgets/base",
      "_view_module_version": "1.2.0",
      "_view_name": "StyleView",
      "description_width": ""
     }
    },
    "a95a6aae171944889c6b9787ddef6726": {
     "model_module": "@jupyter-widgets/base",
     "model_module_version": "1.2.0",
     "model_name": "LayoutModel",
     "state": {
      "_model_module": "@jupyter-widgets/base",
      "_model_module_version": "1.2.0",
      "_model_name": "LayoutModel",
      "_view_count": null,
      "_view_module": "@jupyter-widgets/base",
      "_view_module_version": "1.2.0",
      "_view_name": "LayoutView",
      "align_content": null,
      "align_items": null,
      "align_self": null,
      "border": null,
      "bottom": null,
      "display": null,
      "flex": null,
      "flex_flow": null,
      "grid_area": null,
      "grid_auto_columns": null,
      "grid_auto_flow": null,
      "grid_auto_rows": null,
      "grid_column": null,
      "grid_gap": null,
      "grid_row": null,
      "grid_template_areas": null,
      "grid_template_columns": null,
      "grid_template_rows": null,
      "height": null,
      "justify_content": null,
      "justify_items": null,
      "left": null,
      "margin": null,
      "max_height": null,
      "max_width": null,
      "min_height": null,
      "min_width": null,
      "object_fit": null,
      "object_position": null,
      "order": null,
      "overflow": null,
      "overflow_x": null,
      "overflow_y": null,
      "padding": null,
      "right": null,
      "top": null,
      "visibility": null,
      "width": null
     }
    },
    "ac5e6042ae7e48cfbe97f6866c0e44f2": {
     "model_module": "@jupyter-widgets/base",
     "model_module_version": "1.2.0",
     "model_name": "LayoutModel",
     "state": {
      "_model_module": "@jupyter-widgets/base",
      "_model_module_version": "1.2.0",
      "_model_name": "LayoutModel",
      "_view_count": null,
      "_view_module": "@jupyter-widgets/base",
      "_view_module_version": "1.2.0",
      "_view_name": "LayoutView",
      "align_content": null,
      "align_items": null,
      "align_self": null,
      "border": null,
      "bottom": null,
      "display": null,
      "flex": null,
      "flex_flow": null,
      "grid_area": null,
      "grid_auto_columns": null,
      "grid_auto_flow": null,
      "grid_auto_rows": null,
      "grid_column": null,
      "grid_gap": null,
      "grid_row": null,
      "grid_template_areas": null,
      "grid_template_columns": null,
      "grid_template_rows": null,
      "height": null,
      "justify_content": null,
      "justify_items": null,
      "left": null,
      "margin": null,
      "max_height": null,
      "max_width": null,
      "min_height": null,
      "min_width": null,
      "object_fit": null,
      "object_position": null,
      "order": null,
      "overflow": null,
      "overflow_x": null,
      "overflow_y": null,
      "padding": null,
      "right": null,
      "top": null,
      "visibility": null,
      "width": null
     }
    },
    "b26a55e885814c97bb3fb4f8a487e6ed": {
     "model_module": "@jupyter-widgets/controls",
     "model_module_version": "1.5.0",
     "model_name": "HTMLModel",
     "state": {
      "_dom_classes": [],
      "_model_module": "@jupyter-widgets/controls",
      "_model_module_version": "1.5.0",
      "_model_name": "HTMLModel",
      "_view_count": null,
      "_view_module": "@jupyter-widgets/controls",
      "_view_module_version": "1.5.0",
      "_view_name": "HTMLView",
      "description": "",
      "description_tooltip": null,
      "layout": "IPY_MODEL_ac5e6042ae7e48cfbe97f6866c0e44f2",
      "placeholder": "​",
      "style": "IPY_MODEL_5da56116f45f48afa426b05e0bd894b7",
      "value": "Downloading: 100%"
     }
    },
    "b60faa34b563489b9da14804b07e8efd": {
     "model_module": "@jupyter-widgets/controls",
     "model_module_version": "1.5.0",
     "model_name": "HTMLModel",
     "state": {
      "_dom_classes": [],
      "_model_module": "@jupyter-widgets/controls",
      "_model_module_version": "1.5.0",
      "_model_name": "HTMLModel",
      "_view_count": null,
      "_view_module": "@jupyter-widgets/controls",
      "_view_module_version": "1.5.0",
      "_view_name": "HTMLView",
      "description": "",
      "description_tooltip": null,
      "layout": "IPY_MODEL_4e65d9c819a74f9eb6752663ad5b3756",
      "placeholder": "​",
      "style": "IPY_MODEL_a3133d52556a434db1b922a9e3796dee",
      "value": "Downloading: 100%"
     }
    },
    "b7370fe65f0045aeb8a2b0ea249e25f3": {
     "model_module": "@jupyter-widgets/base",
     "model_module_version": "1.2.0",
     "model_name": "LayoutModel",
     "state": {
      "_model_module": "@jupyter-widgets/base",
      "_model_module_version": "1.2.0",
      "_model_name": "LayoutModel",
      "_view_count": null,
      "_view_module": "@jupyter-widgets/base",
      "_view_module_version": "1.2.0",
      "_view_name": "LayoutView",
      "align_content": null,
      "align_items": null,
      "align_self": null,
      "border": null,
      "bottom": null,
      "display": null,
      "flex": null,
      "flex_flow": null,
      "grid_area": null,
      "grid_auto_columns": null,
      "grid_auto_flow": null,
      "grid_auto_rows": null,
      "grid_column": null,
      "grid_gap": null,
      "grid_row": null,
      "grid_template_areas": null,
      "grid_template_columns": null,
      "grid_template_rows": null,
      "height": null,
      "justify_content": null,
      "justify_items": null,
      "left": null,
      "margin": null,
      "max_height": null,
      "max_width": null,
      "min_height": null,
      "min_width": null,
      "object_fit": null,
      "object_position": null,
      "order": null,
      "overflow": null,
      "overflow_x": null,
      "overflow_y": null,
      "padding": null,
      "right": null,
      "top": null,
      "visibility": null,
      "width": null
     }
    },
    "bb5ce4bac8604f19933ce7c5d0fad8a8": {
     "model_module": "@jupyter-widgets/controls",
     "model_module_version": "1.5.0",
     "model_name": "FloatProgressModel",
     "state": {
      "_dom_classes": [],
      "_model_module": "@jupyter-widgets/controls",
      "_model_module_version": "1.5.0",
      "_model_name": "FloatProgressModel",
      "_view_count": null,
      "_view_module": "@jupyter-widgets/controls",
      "_view_module_version": "1.5.0",
      "_view_name": "ProgressView",
      "bar_style": "success",
      "description": "",
      "description_tooltip": null,
      "layout": "IPY_MODEL_ea873cee2dd14ffdb77dbc18cf33005f",
      "max": 714314041,
      "min": 0,
      "orientation": "horizontal",
      "style": "IPY_MODEL_4914179f83f847f1a98f47ec97787639",
      "value": 714314041
     }
    },
    "c34a2bd9992049b692733d8d134e4f03": {
     "model_module": "@jupyter-widgets/base",
     "model_module_version": "1.2.0",
     "model_name": "LayoutModel",
     "state": {
      "_model_module": "@jupyter-widgets/base",
      "_model_module_version": "1.2.0",
      "_model_name": "LayoutModel",
      "_view_count": null,
      "_view_module": "@jupyter-widgets/base",
      "_view_module_version": "1.2.0",
      "_view_name": "LayoutView",
      "align_content": null,
      "align_items": null,
      "align_self": null,
      "border": null,
      "bottom": null,
      "display": null,
      "flex": null,
      "flex_flow": null,
      "grid_area": null,
      "grid_auto_columns": null,
      "grid_auto_flow": null,
      "grid_auto_rows": null,
      "grid_column": null,
      "grid_gap": null,
      "grid_row": null,
      "grid_template_areas": null,
      "grid_template_columns": null,
      "grid_template_rows": null,
      "height": null,
      "justify_content": null,
      "justify_items": null,
      "left": null,
      "margin": null,
      "max_height": null,
      "max_width": null,
      "min_height": null,
      "min_width": null,
      "object_fit": null,
      "object_position": null,
      "order": null,
      "overflow": null,
      "overflow_x": null,
      "overflow_y": null,
      "padding": null,
      "right": null,
      "top": null,
      "visibility": null,
      "width": null
     }
    },
    "c36e6c3306c948fd910b92fd0e721208": {
     "model_module": "@jupyter-widgets/base",
     "model_module_version": "1.2.0",
     "model_name": "LayoutModel",
     "state": {
      "_model_module": "@jupyter-widgets/base",
      "_model_module_version": "1.2.0",
      "_model_name": "LayoutModel",
      "_view_count": null,
      "_view_module": "@jupyter-widgets/base",
      "_view_module_version": "1.2.0",
      "_view_name": "LayoutView",
      "align_content": null,
      "align_items": null,
      "align_self": null,
      "border": null,
      "bottom": null,
      "display": null,
      "flex": null,
      "flex_flow": null,
      "grid_area": null,
      "grid_auto_columns": null,
      "grid_auto_flow": null,
      "grid_auto_rows": null,
      "grid_column": null,
      "grid_gap": null,
      "grid_row": null,
      "grid_template_areas": null,
      "grid_template_columns": null,
      "grid_template_rows": null,
      "height": null,
      "justify_content": null,
      "justify_items": null,
      "left": null,
      "margin": null,
      "max_height": null,
      "max_width": null,
      "min_height": null,
      "min_width": null,
      "object_fit": null,
      "object_position": null,
      "order": null,
      "overflow": null,
      "overflow_x": null,
      "overflow_y": null,
      "padding": null,
      "right": null,
      "top": null,
      "visibility": null,
      "width": null
     }
    },
    "c6e3c5e00cb642cb800d0830943831c1": {
     "model_module": "@jupyter-widgets/controls",
     "model_module_version": "1.5.0",
     "model_name": "FloatProgressModel",
     "state": {
      "_dom_classes": [],
      "_model_module": "@jupyter-widgets/controls",
      "_model_module_version": "1.5.0",
      "_model_name": "FloatProgressModel",
      "_view_count": null,
      "_view_module": "@jupyter-widgets/controls",
      "_view_module_version": "1.5.0",
      "_view_name": "ProgressView",
      "bar_style": "success",
      "description": "",
      "description_tooltip": null,
      "layout": "IPY_MODEL_c36e6c3306c948fd910b92fd0e721208",
      "max": 995526,
      "min": 0,
      "orientation": "horizontal",
      "style": "IPY_MODEL_4e05cb5b699248219b86a18611da2683",
      "value": 995526
     }
    },
    "cf7d6237edb94d679c98e487a5e25425": {
     "model_module": "@jupyter-widgets/controls",
     "model_module_version": "1.5.0",
     "model_name": "FloatProgressModel",
     "state": {
      "_dom_classes": [],
      "_model_module": "@jupyter-widgets/controls",
      "_model_module_version": "1.5.0",
      "_model_name": "FloatProgressModel",
      "_view_count": null,
      "_view_module": "@jupyter-widgets/controls",
      "_view_module_version": "1.5.0",
      "_view_name": "ProgressView",
      "bar_style": "success",
      "description": "",
      "description_tooltip": null,
      "layout": "IPY_MODEL_c34a2bd9992049b692733d8d134e4f03",
      "max": 29,
      "min": 0,
      "orientation": "horizontal",
      "style": "IPY_MODEL_d660536bc8e5428f9691e185dd3c85f7",
      "value": 29
     }
    },
    "d660536bc8e5428f9691e185dd3c85f7": {
     "model_module": "@jupyter-widgets/controls",
     "model_module_version": "1.5.0",
     "model_name": "ProgressStyleModel",
     "state": {
      "_model_module": "@jupyter-widgets/controls",
      "_model_module_version": "1.5.0",
      "_model_name": "ProgressStyleModel",
      "_view_count": null,
      "_view_module": "@jupyter-widgets/base",
      "_view_module_version": "1.2.0",
      "_view_name": "StyleView",
      "bar_color": null,
      "description_width": ""
     }
    },
    "e4dd88f071b74dc2afcac0896d61181e": {
     "model_module": "@jupyter-widgets/base",
     "model_module_version": "1.2.0",
     "model_name": "LayoutModel",
     "state": {
      "_model_module": "@jupyter-widgets/base",
      "_model_module_version": "1.2.0",
      "_model_name": "LayoutModel",
      "_view_count": null,
      "_view_module": "@jupyter-widgets/base",
      "_view_module_version": "1.2.0",
      "_view_name": "LayoutView",
      "align_content": null,
      "align_items": null,
      "align_self": null,
      "border": null,
      "bottom": null,
      "display": null,
      "flex": null,
      "flex_flow": null,
      "grid_area": null,
      "grid_auto_columns": null,
      "grid_auto_flow": null,
      "grid_auto_rows": null,
      "grid_column": null,
      "grid_gap": null,
      "grid_row": null,
      "grid_template_areas": null,
      "grid_template_columns": null,
      "grid_template_rows": null,
      "height": null,
      "justify_content": null,
      "justify_items": null,
      "left": null,
      "margin": null,
      "max_height": null,
      "max_width": null,
      "min_height": null,
      "min_width": null,
      "object_fit": null,
      "object_position": null,
      "order": null,
      "overflow": null,
      "overflow_x": null,
      "overflow_y": null,
      "padding": null,
      "right": null,
      "top": null,
      "visibility": null,
      "width": null
     }
    },
    "e9f82a8e1ec94cddab3bb02eab851c4b": {
     "model_module": "@jupyter-widgets/base",
     "model_module_version": "1.2.0",
     "model_name": "LayoutModel",
     "state": {
      "_model_module": "@jupyter-widgets/base",
      "_model_module_version": "1.2.0",
      "_model_name": "LayoutModel",
      "_view_count": null,
      "_view_module": "@jupyter-widgets/base",
      "_view_module_version": "1.2.0",
      "_view_name": "LayoutView",
      "align_content": null,
      "align_items": null,
      "align_self": null,
      "border": null,
      "bottom": null,
      "display": null,
      "flex": null,
      "flex_flow": null,
      "grid_area": null,
      "grid_auto_columns": null,
      "grid_auto_flow": null,
      "grid_auto_rows": null,
      "grid_column": null,
      "grid_gap": null,
      "grid_row": null,
      "grid_template_areas": null,
      "grid_template_columns": null,
      "grid_template_rows": null,
      "height": null,
      "justify_content": null,
      "justify_items": null,
      "left": null,
      "margin": null,
      "max_height": null,
      "max_width": null,
      "min_height": null,
      "min_width": null,
      "object_fit": null,
      "object_position": null,
      "order": null,
      "overflow": null,
      "overflow_x": null,
      "overflow_y": null,
      "padding": null,
      "right": null,
      "top": null,
      "visibility": null,
      "width": null
     }
    },
    "ea873cee2dd14ffdb77dbc18cf33005f": {
     "model_module": "@jupyter-widgets/base",
     "model_module_version": "1.2.0",
     "model_name": "LayoutModel",
     "state": {
      "_model_module": "@jupyter-widgets/base",
      "_model_module_version": "1.2.0",
      "_model_name": "LayoutModel",
      "_view_count": null,
      "_view_module": "@jupyter-widgets/base",
      "_view_module_version": "1.2.0",
      "_view_name": "LayoutView",
      "align_content": null,
      "align_items": null,
      "align_self": null,
      "border": null,
      "bottom": null,
      "display": null,
      "flex": null,
      "flex_flow": null,
      "grid_area": null,
      "grid_auto_columns": null,
      "grid_auto_flow": null,
      "grid_auto_rows": null,
      "grid_column": null,
      "grid_gap": null,
      "grid_row": null,
      "grid_template_areas": null,
      "grid_template_columns": null,
      "grid_template_rows": null,
      "height": null,
      "justify_content": null,
      "justify_items": null,
      "left": null,
      "margin": null,
      "max_height": null,
      "max_width": null,
      "min_height": null,
      "min_width": null,
      "object_fit": null,
      "object_position": null,
      "order": null,
      "overflow": null,
      "overflow_x": null,
      "overflow_y": null,
      "padding": null,
      "right": null,
      "top": null,
      "visibility": null,
      "width": null
     }
    },
    "feca3c25598547ae8bf7b12350907dd9": {
     "model_module": "@jupyter-widgets/controls",
     "model_module_version": "1.5.0",
     "model_name": "HTMLModel",
     "state": {
      "_dom_classes": [],
      "_model_module": "@jupyter-widgets/controls",
      "_model_module_version": "1.5.0",
      "_model_name": "HTMLModel",
      "_view_count": null,
      "_view_module": "@jupyter-widgets/controls",
      "_view_module_version": "1.5.0",
      "_view_name": "HTMLView",
      "description": "",
      "description_tooltip": null,
      "layout": "IPY_MODEL_4adfe479592d44989e738fa3c92d9764",
      "placeholder": "​",
      "style": "IPY_MODEL_6d750a91baf14a479e30cfaac36370cd",
      "value": " 625/625 [00:00&lt;00:00, 18.0kB/s]"
     }
    }
   }
  }
 },
 "nbformat": 4,
 "nbformat_minor": 4
}
